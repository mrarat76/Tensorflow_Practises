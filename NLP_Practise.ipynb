{
  "nbformat": 4,
  "nbformat_minor": 0,
  "metadata": {
    "colab": {
      "provenance": [],
      "gpuType": "T4",
      "include_colab_link": true
    },
    "kernelspec": {
      "name": "python3",
      "display_name": "Python 3"
    },
    "language_info": {
      "name": "python"
    },
    "accelerator": "GPU"
  },
  "cells": [
    {
      "cell_type": "markdown",
      "metadata": {
        "id": "view-in-github",
        "colab_type": "text"
      },
      "source": [
        "<a href=\"https://colab.research.google.com/github/mrarat76/Tensorflow_Practises/blob/main/NLP_Practise.ipynb\" target=\"_parent\"><img src=\"https://colab.research.google.com/assets/colab-badge.svg\" alt=\"Open In Colab\"/></a>"
      ]
    },
    {
      "cell_type": "code",
      "execution_count": 1,
      "metadata": {
        "id": "rFHPZK4YvOlv"
      },
      "outputs": [],
      "source": [
        "## recurrent neural network\n",
        "\n",
        "## LSTM rnn hücrelerine denir \"tanh\" non-linearity eklemek için kullnaırız\n",
        "\n",
        "\n",
        "## Outputta sigmodi kullanıyoruz\n"
      ]
    },
    {
      "cell_type": "markdown",
      "source": [
        "NLP'nin amacı bilgiyi doğal dilden elde etmektir( metini veya konuşmayı sıralamak gibi)\n",
        "\n",
        "NLP genel manada seq2seq problemlerine odaklanır.\n",
        "\n",
        "\n",
        "**Seq2seq**, kısaltması \"sequence to sequence\" (diziden diziye) anlamına gelir ve genellikle doğal dil işleme (NLP) ve makine öğrenmesinde kullanılan bir model türüdür. Bu model, bir girdi dizisini (örneğin bir cümle veya kelime dizisi) alır ve başka bir diziye (genellikle başka bir dilde bir cümle veya metin) çevirir. Seq2seq modelleri, özellikle makine çevirisi, otomatik özetleme, soru-cevap sistemleri ve sohbet robotları gibi alanlarda yaygın olarak kullanılır.\n",
        "\n",
        "Seq2seq modeli tipik olarak iki ana bileşenden oluşur:\n",
        "\n",
        "Encoder (Kodlayıcı): Girdi dizisini alır ve bu diziyi sabit boyutlu bir vektör temsiline dönüştürür. Bu vektör, girdi dizisinin bir tür özeti olarak düşünülebilir ve genellikle diziye ait önemli bilgileri içerir.\n",
        "\n",
        "Decoder (Çözücü): Encoder tarafından oluşturulan sabit boyutlu vektörü alır ve hedef diziye dönüştürür. Çözücü, bu vektörü kullanarak adım adım çıktı dizisini üretir.\n",
        "\n",
        "Bu modeller genellikle tekrarlayan sinir ağları (RNN), uzun kısa süreli bellek ağları (LSTM) veya gated recurrent units (GRU) gibi yapıları kullanır. Son yıllarda, daha gelişmiş seq2seq modelleri, dikkat mekanizmaları (attention mechanisms) ve Transformer mimarileri gibi teknikleri kullanarak daha iyi performans sergilemiştir. Dikkat mekanizması, modelin girdi dizisinin hangi bölümlerine odaklanması gerektiğini daha iyi anlamasını sağlar ve böylece daha doğru çeviriler yapılmasına olanak tanır.\n",
        "\n",
        "\n",
        "\n",
        "\n",
        "\n"
      ],
      "metadata": {
        "id": "g7U24Jrk1PN0"
      }
    },
    {
      "cell_type": "code",
      "source": [
        "!nvidia-smi -L"
      ],
      "metadata": {
        "colab": {
          "base_uri": "https://localhost:8080/"
        },
        "id": "a_dJEWQu16Ot",
        "outputId": "1f26e8b6-2c56-4e8a-8cef-04964c00cd6d"
      },
      "execution_count": 2,
      "outputs": [
        {
          "output_type": "stream",
          "name": "stdout",
          "text": [
            "/bin/bash: line 1: nvidia-smi: command not found\n"
          ]
        }
      ]
    },
    {
      "cell_type": "code",
      "source": [
        "!wget https://raw.githubusercontent.com/mrdbourke/tensorflow-deep-learning/main/extras/helper_functions.py\n"
      ],
      "metadata": {
        "colab": {
          "base_uri": "https://localhost:8080/"
        },
        "id": "Ju6dHkoJ2dqn",
        "outputId": "4bd2abf5-88eb-4d7b-85a0-097c8ae23b6a"
      },
      "execution_count": 3,
      "outputs": [
        {
          "output_type": "stream",
          "name": "stdout",
          "text": [
            "--2024-03-10 16:02:24--  https://raw.githubusercontent.com/mrdbourke/tensorflow-deep-learning/main/extras/helper_functions.py\n",
            "Resolving raw.githubusercontent.com (raw.githubusercontent.com)... 185.199.108.133, 185.199.109.133, 185.199.110.133, ...\n",
            "Connecting to raw.githubusercontent.com (raw.githubusercontent.com)|185.199.108.133|:443... connected.\n",
            "HTTP request sent, awaiting response... 200 OK\n",
            "Length: 10246 (10K) [text/plain]\n",
            "Saving to: ‘helper_functions.py’\n",
            "\n",
            "helper_functions.py 100%[===================>]  10.01K  --.-KB/s    in 0s      \n",
            "\n",
            "2024-03-10 16:02:25 (45.9 MB/s) - ‘helper_functions.py’ saved [10246/10246]\n",
            "\n"
          ]
        }
      ]
    },
    {
      "cell_type": "code",
      "source": [
        "from helper_functions import unzip_data, create_tensorboard_callback, plot_loss_curves, compare_historys"
      ],
      "metadata": {
        "id": "W9jfmImc2VBS"
      },
      "execution_count": 4,
      "outputs": []
    },
    {
      "cell_type": "code",
      "source": [
        "# Download data (same as from Kaggle)\n",
        "!wget \"https://storage.googleapis.com/ztm_tf_course/nlp_getting_started.zip\"\n",
        "\n",
        "# Unzip data\n",
        "unzip_data(\"nlp_getting_started.zip\")"
      ],
      "metadata": {
        "colab": {
          "base_uri": "https://localhost:8080/"
        },
        "id": "SekTIKXN2FaC",
        "outputId": "dc96bb18-3434-4865-d22f-931a37c24532"
      },
      "execution_count": 5,
      "outputs": [
        {
          "output_type": "stream",
          "name": "stdout",
          "text": [
            "--2024-03-10 16:02:30--  https://storage.googleapis.com/ztm_tf_course/nlp_getting_started.zip\n",
            "Resolving storage.googleapis.com (storage.googleapis.com)... 108.177.125.207, 74.125.23.207, 74.125.203.207, ...\n",
            "Connecting to storage.googleapis.com (storage.googleapis.com)|108.177.125.207|:443... connected.\n",
            "HTTP request sent, awaiting response... 200 OK\n",
            "Length: 607343 (593K) [application/zip]\n",
            "Saving to: ‘nlp_getting_started.zip’\n",
            "\n",
            "nlp_getting_started 100%[===================>] 593.11K   855KB/s    in 0.7s    \n",
            "\n",
            "2024-03-10 16:02:31 (855 KB/s) - ‘nlp_getting_started.zip’ saved [607343/607343]\n",
            "\n"
          ]
        }
      ]
    },
    {
      "cell_type": "code",
      "source": [
        "### Visualizing a text dataset\n",
        "\n",
        "import pandas as pd\n",
        "\n",
        "train_df=pd.read_csv(\"train.csv\")\n",
        "test_df=pd.read_csv(\"test.csv\")\n",
        "\n",
        "train_df.head()\n",
        "\n"
      ],
      "metadata": {
        "colab": {
          "base_uri": "https://localhost:8080/",
          "height": 206
        },
        "id": "JruiHLOH2Yu_",
        "outputId": "77374ddf-42f7-4d0d-aba2-637053532e14"
      },
      "execution_count": 6,
      "outputs": [
        {
          "output_type": "execute_result",
          "data": {
            "text/plain": [
              "   id keyword location                                               text  \\\n",
              "0   1     NaN      NaN  Our Deeds are the Reason of this #earthquake M...   \n",
              "1   4     NaN      NaN             Forest fire near La Ronge Sask. Canada   \n",
              "2   5     NaN      NaN  All residents asked to 'shelter in place' are ...   \n",
              "3   6     NaN      NaN  13,000 people receive #wildfires evacuation or...   \n",
              "4   7     NaN      NaN  Just got sent this photo from Ruby #Alaska as ...   \n",
              "\n",
              "   target  \n",
              "0       1  \n",
              "1       1  \n",
              "2       1  \n",
              "3       1  \n",
              "4       1  "
            ],
            "text/html": [
              "\n",
              "  <div id=\"df-6a1a9ca5-12a9-4f89-8ab5-e0d909335406\" class=\"colab-df-container\">\n",
              "    <div>\n",
              "<style scoped>\n",
              "    .dataframe tbody tr th:only-of-type {\n",
              "        vertical-align: middle;\n",
              "    }\n",
              "\n",
              "    .dataframe tbody tr th {\n",
              "        vertical-align: top;\n",
              "    }\n",
              "\n",
              "    .dataframe thead th {\n",
              "        text-align: right;\n",
              "    }\n",
              "</style>\n",
              "<table border=\"1\" class=\"dataframe\">\n",
              "  <thead>\n",
              "    <tr style=\"text-align: right;\">\n",
              "      <th></th>\n",
              "      <th>id</th>\n",
              "      <th>keyword</th>\n",
              "      <th>location</th>\n",
              "      <th>text</th>\n",
              "      <th>target</th>\n",
              "    </tr>\n",
              "  </thead>\n",
              "  <tbody>\n",
              "    <tr>\n",
              "      <th>0</th>\n",
              "      <td>1</td>\n",
              "      <td>NaN</td>\n",
              "      <td>NaN</td>\n",
              "      <td>Our Deeds are the Reason of this #earthquake M...</td>\n",
              "      <td>1</td>\n",
              "    </tr>\n",
              "    <tr>\n",
              "      <th>1</th>\n",
              "      <td>4</td>\n",
              "      <td>NaN</td>\n",
              "      <td>NaN</td>\n",
              "      <td>Forest fire near La Ronge Sask. Canada</td>\n",
              "      <td>1</td>\n",
              "    </tr>\n",
              "    <tr>\n",
              "      <th>2</th>\n",
              "      <td>5</td>\n",
              "      <td>NaN</td>\n",
              "      <td>NaN</td>\n",
              "      <td>All residents asked to 'shelter in place' are ...</td>\n",
              "      <td>1</td>\n",
              "    </tr>\n",
              "    <tr>\n",
              "      <th>3</th>\n",
              "      <td>6</td>\n",
              "      <td>NaN</td>\n",
              "      <td>NaN</td>\n",
              "      <td>13,000 people receive #wildfires evacuation or...</td>\n",
              "      <td>1</td>\n",
              "    </tr>\n",
              "    <tr>\n",
              "      <th>4</th>\n",
              "      <td>7</td>\n",
              "      <td>NaN</td>\n",
              "      <td>NaN</td>\n",
              "      <td>Just got sent this photo from Ruby #Alaska as ...</td>\n",
              "      <td>1</td>\n",
              "    </tr>\n",
              "  </tbody>\n",
              "</table>\n",
              "</div>\n",
              "    <div class=\"colab-df-buttons\">\n",
              "\n",
              "  <div class=\"colab-df-container\">\n",
              "    <button class=\"colab-df-convert\" onclick=\"convertToInteractive('df-6a1a9ca5-12a9-4f89-8ab5-e0d909335406')\"\n",
              "            title=\"Convert this dataframe to an interactive table.\"\n",
              "            style=\"display:none;\">\n",
              "\n",
              "  <svg xmlns=\"http://www.w3.org/2000/svg\" height=\"24px\" viewBox=\"0 -960 960 960\">\n",
              "    <path d=\"M120-120v-720h720v720H120Zm60-500h600v-160H180v160Zm220 220h160v-160H400v160Zm0 220h160v-160H400v160ZM180-400h160v-160H180v160Zm440 0h160v-160H620v160ZM180-180h160v-160H180v160Zm440 0h160v-160H620v160Z\"/>\n",
              "  </svg>\n",
              "    </button>\n",
              "\n",
              "  <style>\n",
              "    .colab-df-container {\n",
              "      display:flex;\n",
              "      gap: 12px;\n",
              "    }\n",
              "\n",
              "    .colab-df-convert {\n",
              "      background-color: #E8F0FE;\n",
              "      border: none;\n",
              "      border-radius: 50%;\n",
              "      cursor: pointer;\n",
              "      display: none;\n",
              "      fill: #1967D2;\n",
              "      height: 32px;\n",
              "      padding: 0 0 0 0;\n",
              "      width: 32px;\n",
              "    }\n",
              "\n",
              "    .colab-df-convert:hover {\n",
              "      background-color: #E2EBFA;\n",
              "      box-shadow: 0px 1px 2px rgba(60, 64, 67, 0.3), 0px 1px 3px 1px rgba(60, 64, 67, 0.15);\n",
              "      fill: #174EA6;\n",
              "    }\n",
              "\n",
              "    .colab-df-buttons div {\n",
              "      margin-bottom: 4px;\n",
              "    }\n",
              "\n",
              "    [theme=dark] .colab-df-convert {\n",
              "      background-color: #3B4455;\n",
              "      fill: #D2E3FC;\n",
              "    }\n",
              "\n",
              "    [theme=dark] .colab-df-convert:hover {\n",
              "      background-color: #434B5C;\n",
              "      box-shadow: 0px 1px 3px 1px rgba(0, 0, 0, 0.15);\n",
              "      filter: drop-shadow(0px 1px 2px rgba(0, 0, 0, 0.3));\n",
              "      fill: #FFFFFF;\n",
              "    }\n",
              "  </style>\n",
              "\n",
              "    <script>\n",
              "      const buttonEl =\n",
              "        document.querySelector('#df-6a1a9ca5-12a9-4f89-8ab5-e0d909335406 button.colab-df-convert');\n",
              "      buttonEl.style.display =\n",
              "        google.colab.kernel.accessAllowed ? 'block' : 'none';\n",
              "\n",
              "      async function convertToInteractive(key) {\n",
              "        const element = document.querySelector('#df-6a1a9ca5-12a9-4f89-8ab5-e0d909335406');\n",
              "        const dataTable =\n",
              "          await google.colab.kernel.invokeFunction('convertToInteractive',\n",
              "                                                    [key], {});\n",
              "        if (!dataTable) return;\n",
              "\n",
              "        const docLinkHtml = 'Like what you see? Visit the ' +\n",
              "          '<a target=\"_blank\" href=https://colab.research.google.com/notebooks/data_table.ipynb>data table notebook</a>'\n",
              "          + ' to learn more about interactive tables.';\n",
              "        element.innerHTML = '';\n",
              "        dataTable['output_type'] = 'display_data';\n",
              "        await google.colab.output.renderOutput(dataTable, element);\n",
              "        const docLink = document.createElement('div');\n",
              "        docLink.innerHTML = docLinkHtml;\n",
              "        element.appendChild(docLink);\n",
              "      }\n",
              "    </script>\n",
              "  </div>\n",
              "\n",
              "\n",
              "<div id=\"df-e5e95fe7-b868-488e-9041-3caf2fac247b\">\n",
              "  <button class=\"colab-df-quickchart\" onclick=\"quickchart('df-e5e95fe7-b868-488e-9041-3caf2fac247b')\"\n",
              "            title=\"Suggest charts\"\n",
              "            style=\"display:none;\">\n",
              "\n",
              "<svg xmlns=\"http://www.w3.org/2000/svg\" height=\"24px\"viewBox=\"0 0 24 24\"\n",
              "     width=\"24px\">\n",
              "    <g>\n",
              "        <path d=\"M19 3H5c-1.1 0-2 .9-2 2v14c0 1.1.9 2 2 2h14c1.1 0 2-.9 2-2V5c0-1.1-.9-2-2-2zM9 17H7v-7h2v7zm4 0h-2V7h2v10zm4 0h-2v-4h2v4z\"/>\n",
              "    </g>\n",
              "</svg>\n",
              "  </button>\n",
              "\n",
              "<style>\n",
              "  .colab-df-quickchart {\n",
              "      --bg-color: #E8F0FE;\n",
              "      --fill-color: #1967D2;\n",
              "      --hover-bg-color: #E2EBFA;\n",
              "      --hover-fill-color: #174EA6;\n",
              "      --disabled-fill-color: #AAA;\n",
              "      --disabled-bg-color: #DDD;\n",
              "  }\n",
              "\n",
              "  [theme=dark] .colab-df-quickchart {\n",
              "      --bg-color: #3B4455;\n",
              "      --fill-color: #D2E3FC;\n",
              "      --hover-bg-color: #434B5C;\n",
              "      --hover-fill-color: #FFFFFF;\n",
              "      --disabled-bg-color: #3B4455;\n",
              "      --disabled-fill-color: #666;\n",
              "  }\n",
              "\n",
              "  .colab-df-quickchart {\n",
              "    background-color: var(--bg-color);\n",
              "    border: none;\n",
              "    border-radius: 50%;\n",
              "    cursor: pointer;\n",
              "    display: none;\n",
              "    fill: var(--fill-color);\n",
              "    height: 32px;\n",
              "    padding: 0;\n",
              "    width: 32px;\n",
              "  }\n",
              "\n",
              "  .colab-df-quickchart:hover {\n",
              "    background-color: var(--hover-bg-color);\n",
              "    box-shadow: 0 1px 2px rgba(60, 64, 67, 0.3), 0 1px 3px 1px rgba(60, 64, 67, 0.15);\n",
              "    fill: var(--button-hover-fill-color);\n",
              "  }\n",
              "\n",
              "  .colab-df-quickchart-complete:disabled,\n",
              "  .colab-df-quickchart-complete:disabled:hover {\n",
              "    background-color: var(--disabled-bg-color);\n",
              "    fill: var(--disabled-fill-color);\n",
              "    box-shadow: none;\n",
              "  }\n",
              "\n",
              "  .colab-df-spinner {\n",
              "    border: 2px solid var(--fill-color);\n",
              "    border-color: transparent;\n",
              "    border-bottom-color: var(--fill-color);\n",
              "    animation:\n",
              "      spin 1s steps(1) infinite;\n",
              "  }\n",
              "\n",
              "  @keyframes spin {\n",
              "    0% {\n",
              "      border-color: transparent;\n",
              "      border-bottom-color: var(--fill-color);\n",
              "      border-left-color: var(--fill-color);\n",
              "    }\n",
              "    20% {\n",
              "      border-color: transparent;\n",
              "      border-left-color: var(--fill-color);\n",
              "      border-top-color: var(--fill-color);\n",
              "    }\n",
              "    30% {\n",
              "      border-color: transparent;\n",
              "      border-left-color: var(--fill-color);\n",
              "      border-top-color: var(--fill-color);\n",
              "      border-right-color: var(--fill-color);\n",
              "    }\n",
              "    40% {\n",
              "      border-color: transparent;\n",
              "      border-right-color: var(--fill-color);\n",
              "      border-top-color: var(--fill-color);\n",
              "    }\n",
              "    60% {\n",
              "      border-color: transparent;\n",
              "      border-right-color: var(--fill-color);\n",
              "    }\n",
              "    80% {\n",
              "      border-color: transparent;\n",
              "      border-right-color: var(--fill-color);\n",
              "      border-bottom-color: var(--fill-color);\n",
              "    }\n",
              "    90% {\n",
              "      border-color: transparent;\n",
              "      border-bottom-color: var(--fill-color);\n",
              "    }\n",
              "  }\n",
              "</style>\n",
              "\n",
              "  <script>\n",
              "    async function quickchart(key) {\n",
              "      const quickchartButtonEl =\n",
              "        document.querySelector('#' + key + ' button');\n",
              "      quickchartButtonEl.disabled = true;  // To prevent multiple clicks.\n",
              "      quickchartButtonEl.classList.add('colab-df-spinner');\n",
              "      try {\n",
              "        const charts = await google.colab.kernel.invokeFunction(\n",
              "            'suggestCharts', [key], {});\n",
              "      } catch (error) {\n",
              "        console.error('Error during call to suggestCharts:', error);\n",
              "      }\n",
              "      quickchartButtonEl.classList.remove('colab-df-spinner');\n",
              "      quickchartButtonEl.classList.add('colab-df-quickchart-complete');\n",
              "    }\n",
              "    (() => {\n",
              "      let quickchartButtonEl =\n",
              "        document.querySelector('#df-e5e95fe7-b868-488e-9041-3caf2fac247b button');\n",
              "      quickchartButtonEl.style.display =\n",
              "        google.colab.kernel.accessAllowed ? 'block' : 'none';\n",
              "    })();\n",
              "  </script>\n",
              "</div>\n",
              "\n",
              "    </div>\n",
              "  </div>\n"
            ],
            "application/vnd.google.colaboratory.intrinsic+json": {
              "type": "dataframe",
              "variable_name": "train_df",
              "summary": "{\n  \"name\": \"train_df\",\n  \"rows\": 7613,\n  \"fields\": [\n    {\n      \"column\": \"id\",\n      \"properties\": {\n        \"dtype\": \"number\",\n        \"std\": 3137,\n        \"min\": 1,\n        \"max\": 10873,\n        \"num_unique_values\": 7613,\n        \"samples\": [\n          3796,\n          3185,\n          7769\n        ],\n        \"semantic_type\": \"\",\n        \"description\": \"\"\n      }\n    },\n    {\n      \"column\": \"keyword\",\n      \"properties\": {\n        \"dtype\": \"category\",\n        \"num_unique_values\": 221,\n        \"samples\": [\n          \"injury\",\n          \"nuclear%20reactor\",\n          \"engulfed\"\n        ],\n        \"semantic_type\": \"\",\n        \"description\": \"\"\n      }\n    },\n    {\n      \"column\": \"location\",\n      \"properties\": {\n        \"dtype\": \"category\",\n        \"num_unique_values\": 3341,\n        \"samples\": [\n          \"Oklahoma\",\n          \"Starling City\",\n          \"Trinidad and Tobago\"\n        ],\n        \"semantic_type\": \"\",\n        \"description\": \"\"\n      }\n    },\n    {\n      \"column\": \"text\",\n      \"properties\": {\n        \"dtype\": \"string\",\n        \"num_unique_values\": 7503,\n        \"samples\": [\n          \"Three Homes Demolished in Unrecognized Arab Village - International Middle East Media Center http://t.co/ik8m4Yi9T4\",\n          \"Reid Lake fire prompts campground evacuation order http://t.co/jBODKM6rBU\",\n          \"FAAN orders evacuation of abandoned aircraft at MMA http://t.co/dEvYbnVXGQ via @todayng\"\n        ],\n        \"semantic_type\": \"\",\n        \"description\": \"\"\n      }\n    },\n    {\n      \"column\": \"target\",\n      \"properties\": {\n        \"dtype\": \"number\",\n        \"std\": 0,\n        \"min\": 0,\n        \"max\": 1,\n        \"num_unique_values\": 2,\n        \"samples\": [\n          0,\n          1\n        ],\n        \"semantic_type\": \"\",\n        \"description\": \"\"\n      }\n    }\n  ]\n}"
            }
          },
          "metadata": {},
          "execution_count": 6
        }
      ]
    },
    {
      "cell_type": "code",
      "source": [
        "train_df[\"text\"][0]"
      ],
      "metadata": {
        "colab": {
          "base_uri": "https://localhost:8080/",
          "height": 35
        },
        "id": "x5Wwt7Zj6_u3",
        "outputId": "2b4d8bf8-296b-43c9-d947-be74881cae23"
      },
      "execution_count": 7,
      "outputs": [
        {
          "output_type": "execute_result",
          "data": {
            "text/plain": [
              "'Our Deeds are the Reason of this #earthquake May ALLAH Forgive us all'"
            ],
            "application/vnd.google.colaboratory.intrinsic+json": {
              "type": "string"
            }
          },
          "metadata": {},
          "execution_count": 7
        }
      ]
    },
    {
      "cell_type": "code",
      "source": [
        "## Dataframi shuffellama\n",
        "\n",
        "train_df_shuffled =train_df.sample(frac=1, random_state=42)\n",
        "train_df_shuffled.head()\n",
        "\n"
      ],
      "metadata": {
        "colab": {
          "base_uri": "https://localhost:8080/",
          "height": 206
        },
        "id": "ZMLQtdfT7MM-",
        "outputId": "6d57af25-e5d6-49c4-97f7-76020ef62952"
      },
      "execution_count": 8,
      "outputs": [
        {
          "output_type": "execute_result",
          "data": {
            "text/plain": [
              "        id      keyword               location  \\\n",
              "2644  3796  destruction                    NaN   \n",
              "2227  3185       deluge                    NaN   \n",
              "5448  7769       police                     UK   \n",
              "132    191   aftershock                    NaN   \n",
              "6845  9810       trauma  Montgomery County, MD   \n",
              "\n",
              "                                                   text  target  \n",
              "2644  So you have a new weapon that can cause un-ima...       1  \n",
              "2227  The f$&amp;@ing things I do for #GISHWHES Just...       0  \n",
              "5448  DT @georgegalloway: RT @Galloway4Mayor: ÛÏThe...       1  \n",
              "132   Aftershock back to school kick off was great. ...       0  \n",
              "6845  in response to trauma Children of Addicts deve...       0  "
            ],
            "text/html": [
              "\n",
              "  <div id=\"df-bc825a71-236a-4ad9-9a98-f8ba4a8682c2\" class=\"colab-df-container\">\n",
              "    <div>\n",
              "<style scoped>\n",
              "    .dataframe tbody tr th:only-of-type {\n",
              "        vertical-align: middle;\n",
              "    }\n",
              "\n",
              "    .dataframe tbody tr th {\n",
              "        vertical-align: top;\n",
              "    }\n",
              "\n",
              "    .dataframe thead th {\n",
              "        text-align: right;\n",
              "    }\n",
              "</style>\n",
              "<table border=\"1\" class=\"dataframe\">\n",
              "  <thead>\n",
              "    <tr style=\"text-align: right;\">\n",
              "      <th></th>\n",
              "      <th>id</th>\n",
              "      <th>keyword</th>\n",
              "      <th>location</th>\n",
              "      <th>text</th>\n",
              "      <th>target</th>\n",
              "    </tr>\n",
              "  </thead>\n",
              "  <tbody>\n",
              "    <tr>\n",
              "      <th>2644</th>\n",
              "      <td>3796</td>\n",
              "      <td>destruction</td>\n",
              "      <td>NaN</td>\n",
              "      <td>So you have a new weapon that can cause un-ima...</td>\n",
              "      <td>1</td>\n",
              "    </tr>\n",
              "    <tr>\n",
              "      <th>2227</th>\n",
              "      <td>3185</td>\n",
              "      <td>deluge</td>\n",
              "      <td>NaN</td>\n",
              "      <td>The f$&amp;amp;@ing things I do for #GISHWHES Just...</td>\n",
              "      <td>0</td>\n",
              "    </tr>\n",
              "    <tr>\n",
              "      <th>5448</th>\n",
              "      <td>7769</td>\n",
              "      <td>police</td>\n",
              "      <td>UK</td>\n",
              "      <td>DT @georgegalloway: RT @Galloway4Mayor: ÛÏThe...</td>\n",
              "      <td>1</td>\n",
              "    </tr>\n",
              "    <tr>\n",
              "      <th>132</th>\n",
              "      <td>191</td>\n",
              "      <td>aftershock</td>\n",
              "      <td>NaN</td>\n",
              "      <td>Aftershock back to school kick off was great. ...</td>\n",
              "      <td>0</td>\n",
              "    </tr>\n",
              "    <tr>\n",
              "      <th>6845</th>\n",
              "      <td>9810</td>\n",
              "      <td>trauma</td>\n",
              "      <td>Montgomery County, MD</td>\n",
              "      <td>in response to trauma Children of Addicts deve...</td>\n",
              "      <td>0</td>\n",
              "    </tr>\n",
              "  </tbody>\n",
              "</table>\n",
              "</div>\n",
              "    <div class=\"colab-df-buttons\">\n",
              "\n",
              "  <div class=\"colab-df-container\">\n",
              "    <button class=\"colab-df-convert\" onclick=\"convertToInteractive('df-bc825a71-236a-4ad9-9a98-f8ba4a8682c2')\"\n",
              "            title=\"Convert this dataframe to an interactive table.\"\n",
              "            style=\"display:none;\">\n",
              "\n",
              "  <svg xmlns=\"http://www.w3.org/2000/svg\" height=\"24px\" viewBox=\"0 -960 960 960\">\n",
              "    <path d=\"M120-120v-720h720v720H120Zm60-500h600v-160H180v160Zm220 220h160v-160H400v160Zm0 220h160v-160H400v160ZM180-400h160v-160H180v160Zm440 0h160v-160H620v160ZM180-180h160v-160H180v160Zm440 0h160v-160H620v160Z\"/>\n",
              "  </svg>\n",
              "    </button>\n",
              "\n",
              "  <style>\n",
              "    .colab-df-container {\n",
              "      display:flex;\n",
              "      gap: 12px;\n",
              "    }\n",
              "\n",
              "    .colab-df-convert {\n",
              "      background-color: #E8F0FE;\n",
              "      border: none;\n",
              "      border-radius: 50%;\n",
              "      cursor: pointer;\n",
              "      display: none;\n",
              "      fill: #1967D2;\n",
              "      height: 32px;\n",
              "      padding: 0 0 0 0;\n",
              "      width: 32px;\n",
              "    }\n",
              "\n",
              "    .colab-df-convert:hover {\n",
              "      background-color: #E2EBFA;\n",
              "      box-shadow: 0px 1px 2px rgba(60, 64, 67, 0.3), 0px 1px 3px 1px rgba(60, 64, 67, 0.15);\n",
              "      fill: #174EA6;\n",
              "    }\n",
              "\n",
              "    .colab-df-buttons div {\n",
              "      margin-bottom: 4px;\n",
              "    }\n",
              "\n",
              "    [theme=dark] .colab-df-convert {\n",
              "      background-color: #3B4455;\n",
              "      fill: #D2E3FC;\n",
              "    }\n",
              "\n",
              "    [theme=dark] .colab-df-convert:hover {\n",
              "      background-color: #434B5C;\n",
              "      box-shadow: 0px 1px 3px 1px rgba(0, 0, 0, 0.15);\n",
              "      filter: drop-shadow(0px 1px 2px rgba(0, 0, 0, 0.3));\n",
              "      fill: #FFFFFF;\n",
              "    }\n",
              "  </style>\n",
              "\n",
              "    <script>\n",
              "      const buttonEl =\n",
              "        document.querySelector('#df-bc825a71-236a-4ad9-9a98-f8ba4a8682c2 button.colab-df-convert');\n",
              "      buttonEl.style.display =\n",
              "        google.colab.kernel.accessAllowed ? 'block' : 'none';\n",
              "\n",
              "      async function convertToInteractive(key) {\n",
              "        const element = document.querySelector('#df-bc825a71-236a-4ad9-9a98-f8ba4a8682c2');\n",
              "        const dataTable =\n",
              "          await google.colab.kernel.invokeFunction('convertToInteractive',\n",
              "                                                    [key], {});\n",
              "        if (!dataTable) return;\n",
              "\n",
              "        const docLinkHtml = 'Like what you see? Visit the ' +\n",
              "          '<a target=\"_blank\" href=https://colab.research.google.com/notebooks/data_table.ipynb>data table notebook</a>'\n",
              "          + ' to learn more about interactive tables.';\n",
              "        element.innerHTML = '';\n",
              "        dataTable['output_type'] = 'display_data';\n",
              "        await google.colab.output.renderOutput(dataTable, element);\n",
              "        const docLink = document.createElement('div');\n",
              "        docLink.innerHTML = docLinkHtml;\n",
              "        element.appendChild(docLink);\n",
              "      }\n",
              "    </script>\n",
              "  </div>\n",
              "\n",
              "\n",
              "<div id=\"df-543d2b38-97ba-4f2c-b70f-bdaeb54b412f\">\n",
              "  <button class=\"colab-df-quickchart\" onclick=\"quickchart('df-543d2b38-97ba-4f2c-b70f-bdaeb54b412f')\"\n",
              "            title=\"Suggest charts\"\n",
              "            style=\"display:none;\">\n",
              "\n",
              "<svg xmlns=\"http://www.w3.org/2000/svg\" height=\"24px\"viewBox=\"0 0 24 24\"\n",
              "     width=\"24px\">\n",
              "    <g>\n",
              "        <path d=\"M19 3H5c-1.1 0-2 .9-2 2v14c0 1.1.9 2 2 2h14c1.1 0 2-.9 2-2V5c0-1.1-.9-2-2-2zM9 17H7v-7h2v7zm4 0h-2V7h2v10zm4 0h-2v-4h2v4z\"/>\n",
              "    </g>\n",
              "</svg>\n",
              "  </button>\n",
              "\n",
              "<style>\n",
              "  .colab-df-quickchart {\n",
              "      --bg-color: #E8F0FE;\n",
              "      --fill-color: #1967D2;\n",
              "      --hover-bg-color: #E2EBFA;\n",
              "      --hover-fill-color: #174EA6;\n",
              "      --disabled-fill-color: #AAA;\n",
              "      --disabled-bg-color: #DDD;\n",
              "  }\n",
              "\n",
              "  [theme=dark] .colab-df-quickchart {\n",
              "      --bg-color: #3B4455;\n",
              "      --fill-color: #D2E3FC;\n",
              "      --hover-bg-color: #434B5C;\n",
              "      --hover-fill-color: #FFFFFF;\n",
              "      --disabled-bg-color: #3B4455;\n",
              "      --disabled-fill-color: #666;\n",
              "  }\n",
              "\n",
              "  .colab-df-quickchart {\n",
              "    background-color: var(--bg-color);\n",
              "    border: none;\n",
              "    border-radius: 50%;\n",
              "    cursor: pointer;\n",
              "    display: none;\n",
              "    fill: var(--fill-color);\n",
              "    height: 32px;\n",
              "    padding: 0;\n",
              "    width: 32px;\n",
              "  }\n",
              "\n",
              "  .colab-df-quickchart:hover {\n",
              "    background-color: var(--hover-bg-color);\n",
              "    box-shadow: 0 1px 2px rgba(60, 64, 67, 0.3), 0 1px 3px 1px rgba(60, 64, 67, 0.15);\n",
              "    fill: var(--button-hover-fill-color);\n",
              "  }\n",
              "\n",
              "  .colab-df-quickchart-complete:disabled,\n",
              "  .colab-df-quickchart-complete:disabled:hover {\n",
              "    background-color: var(--disabled-bg-color);\n",
              "    fill: var(--disabled-fill-color);\n",
              "    box-shadow: none;\n",
              "  }\n",
              "\n",
              "  .colab-df-spinner {\n",
              "    border: 2px solid var(--fill-color);\n",
              "    border-color: transparent;\n",
              "    border-bottom-color: var(--fill-color);\n",
              "    animation:\n",
              "      spin 1s steps(1) infinite;\n",
              "  }\n",
              "\n",
              "  @keyframes spin {\n",
              "    0% {\n",
              "      border-color: transparent;\n",
              "      border-bottom-color: var(--fill-color);\n",
              "      border-left-color: var(--fill-color);\n",
              "    }\n",
              "    20% {\n",
              "      border-color: transparent;\n",
              "      border-left-color: var(--fill-color);\n",
              "      border-top-color: var(--fill-color);\n",
              "    }\n",
              "    30% {\n",
              "      border-color: transparent;\n",
              "      border-left-color: var(--fill-color);\n",
              "      border-top-color: var(--fill-color);\n",
              "      border-right-color: var(--fill-color);\n",
              "    }\n",
              "    40% {\n",
              "      border-color: transparent;\n",
              "      border-right-color: var(--fill-color);\n",
              "      border-top-color: var(--fill-color);\n",
              "    }\n",
              "    60% {\n",
              "      border-color: transparent;\n",
              "      border-right-color: var(--fill-color);\n",
              "    }\n",
              "    80% {\n",
              "      border-color: transparent;\n",
              "      border-right-color: var(--fill-color);\n",
              "      border-bottom-color: var(--fill-color);\n",
              "    }\n",
              "    90% {\n",
              "      border-color: transparent;\n",
              "      border-bottom-color: var(--fill-color);\n",
              "    }\n",
              "  }\n",
              "</style>\n",
              "\n",
              "  <script>\n",
              "    async function quickchart(key) {\n",
              "      const quickchartButtonEl =\n",
              "        document.querySelector('#' + key + ' button');\n",
              "      quickchartButtonEl.disabled = true;  // To prevent multiple clicks.\n",
              "      quickchartButtonEl.classList.add('colab-df-spinner');\n",
              "      try {\n",
              "        const charts = await google.colab.kernel.invokeFunction(\n",
              "            'suggestCharts', [key], {});\n",
              "      } catch (error) {\n",
              "        console.error('Error during call to suggestCharts:', error);\n",
              "      }\n",
              "      quickchartButtonEl.classList.remove('colab-df-spinner');\n",
              "      quickchartButtonEl.classList.add('colab-df-quickchart-complete');\n",
              "    }\n",
              "    (() => {\n",
              "      let quickchartButtonEl =\n",
              "        document.querySelector('#df-543d2b38-97ba-4f2c-b70f-bdaeb54b412f button');\n",
              "      quickchartButtonEl.style.display =\n",
              "        google.colab.kernel.accessAllowed ? 'block' : 'none';\n",
              "    })();\n",
              "  </script>\n",
              "</div>\n",
              "\n",
              "    </div>\n",
              "  </div>\n"
            ],
            "application/vnd.google.colaboratory.intrinsic+json": {
              "type": "dataframe",
              "variable_name": "train_df_shuffled",
              "summary": "{\n  \"name\": \"train_df_shuffled\",\n  \"rows\": 7613,\n  \"fields\": [\n    {\n      \"column\": \"id\",\n      \"properties\": {\n        \"dtype\": \"number\",\n        \"std\": 3137,\n        \"min\": 1,\n        \"max\": 10873,\n        \"num_unique_values\": 7613,\n        \"samples\": [\n          7061,\n          843,\n          10603\n        ],\n        \"semantic_type\": \"\",\n        \"description\": \"\"\n      }\n    },\n    {\n      \"column\": \"keyword\",\n      \"properties\": {\n        \"dtype\": \"category\",\n        \"num_unique_values\": 221,\n        \"samples\": [\n          \"blazing\",\n          \"emergency\",\n          \"rescue\"\n        ],\n        \"semantic_type\": \"\",\n        \"description\": \"\"\n      }\n    },\n    {\n      \"column\": \"location\",\n      \"properties\": {\n        \"dtype\": \"category\",\n        \"num_unique_values\": 3341,\n        \"samples\": [\n          \"617-BTOWN-BEATDOWN\",\n          \"Newcastle Upon Tyne, England\",\n          \"Federal Capital Territory\"\n        ],\n        \"semantic_type\": \"\",\n        \"description\": \"\"\n      }\n    },\n    {\n      \"column\": \"text\",\n      \"properties\": {\n        \"dtype\": \"string\",\n        \"num_unique_values\": 7503,\n        \"samples\": [\n          \"This week first responders and DART members are participating in a four day intensive Technical Large Animal... http://t.co/tL93AOd3ER\",\n          \"My mom is watching a show about bridges breaking/falling and the people on them drowning in their cars aka one of my biggest fears ????\",\n          \"@NickLee8  i went to school in a bombed out East End of London3 families to one house no bathroom outside loo &amp; poor so whats yr point\"\n        ],\n        \"semantic_type\": \"\",\n        \"description\": \"\"\n      }\n    },\n    {\n      \"column\": \"target\",\n      \"properties\": {\n        \"dtype\": \"number\",\n        \"std\": 0,\n        \"min\": 0,\n        \"max\": 1,\n        \"num_unique_values\": 2,\n        \"samples\": [\n          0,\n          1\n        ],\n        \"semantic_type\": \"\",\n        \"description\": \"\"\n      }\n    }\n  ]\n}"
            }
          },
          "metadata": {},
          "execution_count": 8
        }
      ]
    },
    {
      "cell_type": "code",
      "source": [
        "test_df.head()"
      ],
      "metadata": {
        "colab": {
          "base_uri": "https://localhost:8080/",
          "height": 206
        },
        "id": "SGcyRNsn7ukx",
        "outputId": "e7662039-fca6-41ef-e2c7-2fc4b8b95692"
      },
      "execution_count": 9,
      "outputs": [
        {
          "output_type": "execute_result",
          "data": {
            "text/plain": [
              "   id keyword location                                               text\n",
              "0   0     NaN      NaN                 Just happened a terrible car crash\n",
              "1   2     NaN      NaN  Heard about #earthquake is different cities, s...\n",
              "2   3     NaN      NaN  there is a forest fire at spot pond, geese are...\n",
              "3   9     NaN      NaN           Apocalypse lighting. #Spokane #wildfires\n",
              "4  11     NaN      NaN      Typhoon Soudelor kills 28 in China and Taiwan"
            ],
            "text/html": [
              "\n",
              "  <div id=\"df-246ccb4a-970a-4d25-bdd7-cdcb23f13b97\" class=\"colab-df-container\">\n",
              "    <div>\n",
              "<style scoped>\n",
              "    .dataframe tbody tr th:only-of-type {\n",
              "        vertical-align: middle;\n",
              "    }\n",
              "\n",
              "    .dataframe tbody tr th {\n",
              "        vertical-align: top;\n",
              "    }\n",
              "\n",
              "    .dataframe thead th {\n",
              "        text-align: right;\n",
              "    }\n",
              "</style>\n",
              "<table border=\"1\" class=\"dataframe\">\n",
              "  <thead>\n",
              "    <tr style=\"text-align: right;\">\n",
              "      <th></th>\n",
              "      <th>id</th>\n",
              "      <th>keyword</th>\n",
              "      <th>location</th>\n",
              "      <th>text</th>\n",
              "    </tr>\n",
              "  </thead>\n",
              "  <tbody>\n",
              "    <tr>\n",
              "      <th>0</th>\n",
              "      <td>0</td>\n",
              "      <td>NaN</td>\n",
              "      <td>NaN</td>\n",
              "      <td>Just happened a terrible car crash</td>\n",
              "    </tr>\n",
              "    <tr>\n",
              "      <th>1</th>\n",
              "      <td>2</td>\n",
              "      <td>NaN</td>\n",
              "      <td>NaN</td>\n",
              "      <td>Heard about #earthquake is different cities, s...</td>\n",
              "    </tr>\n",
              "    <tr>\n",
              "      <th>2</th>\n",
              "      <td>3</td>\n",
              "      <td>NaN</td>\n",
              "      <td>NaN</td>\n",
              "      <td>there is a forest fire at spot pond, geese are...</td>\n",
              "    </tr>\n",
              "    <tr>\n",
              "      <th>3</th>\n",
              "      <td>9</td>\n",
              "      <td>NaN</td>\n",
              "      <td>NaN</td>\n",
              "      <td>Apocalypse lighting. #Spokane #wildfires</td>\n",
              "    </tr>\n",
              "    <tr>\n",
              "      <th>4</th>\n",
              "      <td>11</td>\n",
              "      <td>NaN</td>\n",
              "      <td>NaN</td>\n",
              "      <td>Typhoon Soudelor kills 28 in China and Taiwan</td>\n",
              "    </tr>\n",
              "  </tbody>\n",
              "</table>\n",
              "</div>\n",
              "    <div class=\"colab-df-buttons\">\n",
              "\n",
              "  <div class=\"colab-df-container\">\n",
              "    <button class=\"colab-df-convert\" onclick=\"convertToInteractive('df-246ccb4a-970a-4d25-bdd7-cdcb23f13b97')\"\n",
              "            title=\"Convert this dataframe to an interactive table.\"\n",
              "            style=\"display:none;\">\n",
              "\n",
              "  <svg xmlns=\"http://www.w3.org/2000/svg\" height=\"24px\" viewBox=\"0 -960 960 960\">\n",
              "    <path d=\"M120-120v-720h720v720H120Zm60-500h600v-160H180v160Zm220 220h160v-160H400v160Zm0 220h160v-160H400v160ZM180-400h160v-160H180v160Zm440 0h160v-160H620v160ZM180-180h160v-160H180v160Zm440 0h160v-160H620v160Z\"/>\n",
              "  </svg>\n",
              "    </button>\n",
              "\n",
              "  <style>\n",
              "    .colab-df-container {\n",
              "      display:flex;\n",
              "      gap: 12px;\n",
              "    }\n",
              "\n",
              "    .colab-df-convert {\n",
              "      background-color: #E8F0FE;\n",
              "      border: none;\n",
              "      border-radius: 50%;\n",
              "      cursor: pointer;\n",
              "      display: none;\n",
              "      fill: #1967D2;\n",
              "      height: 32px;\n",
              "      padding: 0 0 0 0;\n",
              "      width: 32px;\n",
              "    }\n",
              "\n",
              "    .colab-df-convert:hover {\n",
              "      background-color: #E2EBFA;\n",
              "      box-shadow: 0px 1px 2px rgba(60, 64, 67, 0.3), 0px 1px 3px 1px rgba(60, 64, 67, 0.15);\n",
              "      fill: #174EA6;\n",
              "    }\n",
              "\n",
              "    .colab-df-buttons div {\n",
              "      margin-bottom: 4px;\n",
              "    }\n",
              "\n",
              "    [theme=dark] .colab-df-convert {\n",
              "      background-color: #3B4455;\n",
              "      fill: #D2E3FC;\n",
              "    }\n",
              "\n",
              "    [theme=dark] .colab-df-convert:hover {\n",
              "      background-color: #434B5C;\n",
              "      box-shadow: 0px 1px 3px 1px rgba(0, 0, 0, 0.15);\n",
              "      filter: drop-shadow(0px 1px 2px rgba(0, 0, 0, 0.3));\n",
              "      fill: #FFFFFF;\n",
              "    }\n",
              "  </style>\n",
              "\n",
              "    <script>\n",
              "      const buttonEl =\n",
              "        document.querySelector('#df-246ccb4a-970a-4d25-bdd7-cdcb23f13b97 button.colab-df-convert');\n",
              "      buttonEl.style.display =\n",
              "        google.colab.kernel.accessAllowed ? 'block' : 'none';\n",
              "\n",
              "      async function convertToInteractive(key) {\n",
              "        const element = document.querySelector('#df-246ccb4a-970a-4d25-bdd7-cdcb23f13b97');\n",
              "        const dataTable =\n",
              "          await google.colab.kernel.invokeFunction('convertToInteractive',\n",
              "                                                    [key], {});\n",
              "        if (!dataTable) return;\n",
              "\n",
              "        const docLinkHtml = 'Like what you see? Visit the ' +\n",
              "          '<a target=\"_blank\" href=https://colab.research.google.com/notebooks/data_table.ipynb>data table notebook</a>'\n",
              "          + ' to learn more about interactive tables.';\n",
              "        element.innerHTML = '';\n",
              "        dataTable['output_type'] = 'display_data';\n",
              "        await google.colab.output.renderOutput(dataTable, element);\n",
              "        const docLink = document.createElement('div');\n",
              "        docLink.innerHTML = docLinkHtml;\n",
              "        element.appendChild(docLink);\n",
              "      }\n",
              "    </script>\n",
              "  </div>\n",
              "\n",
              "\n",
              "<div id=\"df-ccda0976-1eb7-46fb-83de-5041b7819a8b\">\n",
              "  <button class=\"colab-df-quickchart\" onclick=\"quickchart('df-ccda0976-1eb7-46fb-83de-5041b7819a8b')\"\n",
              "            title=\"Suggest charts\"\n",
              "            style=\"display:none;\">\n",
              "\n",
              "<svg xmlns=\"http://www.w3.org/2000/svg\" height=\"24px\"viewBox=\"0 0 24 24\"\n",
              "     width=\"24px\">\n",
              "    <g>\n",
              "        <path d=\"M19 3H5c-1.1 0-2 .9-2 2v14c0 1.1.9 2 2 2h14c1.1 0 2-.9 2-2V5c0-1.1-.9-2-2-2zM9 17H7v-7h2v7zm4 0h-2V7h2v10zm4 0h-2v-4h2v4z\"/>\n",
              "    </g>\n",
              "</svg>\n",
              "  </button>\n",
              "\n",
              "<style>\n",
              "  .colab-df-quickchart {\n",
              "      --bg-color: #E8F0FE;\n",
              "      --fill-color: #1967D2;\n",
              "      --hover-bg-color: #E2EBFA;\n",
              "      --hover-fill-color: #174EA6;\n",
              "      --disabled-fill-color: #AAA;\n",
              "      --disabled-bg-color: #DDD;\n",
              "  }\n",
              "\n",
              "  [theme=dark] .colab-df-quickchart {\n",
              "      --bg-color: #3B4455;\n",
              "      --fill-color: #D2E3FC;\n",
              "      --hover-bg-color: #434B5C;\n",
              "      --hover-fill-color: #FFFFFF;\n",
              "      --disabled-bg-color: #3B4455;\n",
              "      --disabled-fill-color: #666;\n",
              "  }\n",
              "\n",
              "  .colab-df-quickchart {\n",
              "    background-color: var(--bg-color);\n",
              "    border: none;\n",
              "    border-radius: 50%;\n",
              "    cursor: pointer;\n",
              "    display: none;\n",
              "    fill: var(--fill-color);\n",
              "    height: 32px;\n",
              "    padding: 0;\n",
              "    width: 32px;\n",
              "  }\n",
              "\n",
              "  .colab-df-quickchart:hover {\n",
              "    background-color: var(--hover-bg-color);\n",
              "    box-shadow: 0 1px 2px rgba(60, 64, 67, 0.3), 0 1px 3px 1px rgba(60, 64, 67, 0.15);\n",
              "    fill: var(--button-hover-fill-color);\n",
              "  }\n",
              "\n",
              "  .colab-df-quickchart-complete:disabled,\n",
              "  .colab-df-quickchart-complete:disabled:hover {\n",
              "    background-color: var(--disabled-bg-color);\n",
              "    fill: var(--disabled-fill-color);\n",
              "    box-shadow: none;\n",
              "  }\n",
              "\n",
              "  .colab-df-spinner {\n",
              "    border: 2px solid var(--fill-color);\n",
              "    border-color: transparent;\n",
              "    border-bottom-color: var(--fill-color);\n",
              "    animation:\n",
              "      spin 1s steps(1) infinite;\n",
              "  }\n",
              "\n",
              "  @keyframes spin {\n",
              "    0% {\n",
              "      border-color: transparent;\n",
              "      border-bottom-color: var(--fill-color);\n",
              "      border-left-color: var(--fill-color);\n",
              "    }\n",
              "    20% {\n",
              "      border-color: transparent;\n",
              "      border-left-color: var(--fill-color);\n",
              "      border-top-color: var(--fill-color);\n",
              "    }\n",
              "    30% {\n",
              "      border-color: transparent;\n",
              "      border-left-color: var(--fill-color);\n",
              "      border-top-color: var(--fill-color);\n",
              "      border-right-color: var(--fill-color);\n",
              "    }\n",
              "    40% {\n",
              "      border-color: transparent;\n",
              "      border-right-color: var(--fill-color);\n",
              "      border-top-color: var(--fill-color);\n",
              "    }\n",
              "    60% {\n",
              "      border-color: transparent;\n",
              "      border-right-color: var(--fill-color);\n",
              "    }\n",
              "    80% {\n",
              "      border-color: transparent;\n",
              "      border-right-color: var(--fill-color);\n",
              "      border-bottom-color: var(--fill-color);\n",
              "    }\n",
              "    90% {\n",
              "      border-color: transparent;\n",
              "      border-bottom-color: var(--fill-color);\n",
              "    }\n",
              "  }\n",
              "</style>\n",
              "\n",
              "  <script>\n",
              "    async function quickchart(key) {\n",
              "      const quickchartButtonEl =\n",
              "        document.querySelector('#' + key + ' button');\n",
              "      quickchartButtonEl.disabled = true;  // To prevent multiple clicks.\n",
              "      quickchartButtonEl.classList.add('colab-df-spinner');\n",
              "      try {\n",
              "        const charts = await google.colab.kernel.invokeFunction(\n",
              "            'suggestCharts', [key], {});\n",
              "      } catch (error) {\n",
              "        console.error('Error during call to suggestCharts:', error);\n",
              "      }\n",
              "      quickchartButtonEl.classList.remove('colab-df-spinner');\n",
              "      quickchartButtonEl.classList.add('colab-df-quickchart-complete');\n",
              "    }\n",
              "    (() => {\n",
              "      let quickchartButtonEl =\n",
              "        document.querySelector('#df-ccda0976-1eb7-46fb-83de-5041b7819a8b button');\n",
              "      quickchartButtonEl.style.display =\n",
              "        google.colab.kernel.accessAllowed ? 'block' : 'none';\n",
              "    })();\n",
              "  </script>\n",
              "</div>\n",
              "\n",
              "    </div>\n",
              "  </div>\n"
            ],
            "application/vnd.google.colaboratory.intrinsic+json": {
              "type": "dataframe",
              "variable_name": "test_df",
              "summary": "{\n  \"name\": \"test_df\",\n  \"rows\": 3263,\n  \"fields\": [\n    {\n      \"column\": \"id\",\n      \"properties\": {\n        \"dtype\": \"number\",\n        \"std\": 3146,\n        \"min\": 0,\n        \"max\": 10875,\n        \"num_unique_values\": 3263,\n        \"samples\": [\n          8051,\n          425,\n          1330\n        ],\n        \"semantic_type\": \"\",\n        \"description\": \"\"\n      }\n    },\n    {\n      \"column\": \"keyword\",\n      \"properties\": {\n        \"dtype\": \"category\",\n        \"num_unique_values\": 221,\n        \"samples\": [\n          \"injury\",\n          \"nuclear%20reactor\",\n          \"engulfed\"\n        ],\n        \"semantic_type\": \"\",\n        \"description\": \"\"\n      }\n    },\n    {\n      \"column\": \"location\",\n      \"properties\": {\n        \"dtype\": \"category\",\n        \"num_unique_values\": 1602,\n        \"samples\": [\n          \"UAE\",\n          \"Tokio / Tokyo\",\n          \"Texas\"\n        ],\n        \"semantic_type\": \"\",\n        \"description\": \"\"\n      }\n    },\n    {\n      \"column\": \"text\",\n      \"properties\": {\n        \"dtype\": \"string\",\n        \"num_unique_values\": 3243,\n        \"samples\": [\n          \"Latest: USA: Huge sinkhole swallows up Brooklyn intersection http://t.co/vspKHg3nZy\",\n          \"I liked a @YouTube video http://t.co/a5YTAw9Vih S.O.S. Rona Guide - The Red Whirlwind\",\n          \"HitchBot travels Europe and greeted with open arms. Gets destroyed after two weeks in america. There's a lesson to be learned here.\"\n        ],\n        \"semantic_type\": \"\",\n        \"description\": \"\"\n      }\n    }\n  ]\n}"
            }
          },
          "metadata": {},
          "execution_count": 9
        }
      ]
    },
    {
      "cell_type": "code",
      "source": [
        "train_df.target.value_counts()"
      ],
      "metadata": {
        "colab": {
          "base_uri": "https://localhost:8080/"
        },
        "id": "fuLKNsmM8CRc",
        "outputId": "04477a1c-7173-4288-f0a9-9a1869a5af3b"
      },
      "execution_count": 10,
      "outputs": [
        {
          "output_type": "execute_result",
          "data": {
            "text/plain": [
              "0    4342\n",
              "1    3271\n",
              "Name: target, dtype: int64"
            ]
          },
          "metadata": {},
          "execution_count": 10
        }
      ]
    },
    {
      "cell_type": "code",
      "source": [
        "## How many total samples?\n",
        "\n",
        "\n",
        "len(train_df), len(test_df)"
      ],
      "metadata": {
        "colab": {
          "base_uri": "https://localhost:8080/"
        },
        "id": "rtKXRf8Y8MZL",
        "outputId": "d545fa99-2e4d-4b7c-eb22-37c4695c2917"
      },
      "execution_count": 11,
      "outputs": [
        {
          "output_type": "execute_result",
          "data": {
            "text/plain": [
              "(7613, 3263)"
            ]
          },
          "metadata": {},
          "execution_count": 11
        }
      ]
    },
    {
      "cell_type": "code",
      "source": [
        "import random\n",
        "random_index = random.randint(0, len(train_df)-5)\n",
        "for row in train_df_shuffled[[\"text\", \"target\"]][random_index:random_index+5].itertuples():\n",
        "  _, text, target =row\n",
        "  print(f\"Target:{target}\", \"(real_diaster)\" if target > 0 else \"(not real diaster)\")\n",
        "  print(f\"Text\\n{text}\\n\")\n",
        "  print(\"---\\n\")\n",
        "\n"
      ],
      "metadata": {
        "colab": {
          "base_uri": "https://localhost:8080/"
        },
        "id": "_yhvLRTu8pCn",
        "outputId": "ca353f4d-8427-41c5-8380-27d222c03997"
      },
      "execution_count": 12,
      "outputs": [
        {
          "output_type": "stream",
          "name": "stdout",
          "text": [
            "Target:0 (not real diaster)\n",
            "Text\n",
            "I honestly wonder what it is that I had to do so wrong to lose everyone.\n",
            "\n",
            "---\n",
            "\n",
            "Target:0 (not real diaster)\n",
            "Text\n",
            "The feeling of lonelyness has sunk into me strange depressing feeling.\n",
            "\n",
            "---\n",
            "\n",
            "Target:0 (not real diaster)\n",
            "Text\n",
            "I have my final tomorrow ?????? . Ish is stressful  but I'll survive\n",
            "\n",
            "---\n",
            "\n",
            "Target:0 (not real diaster)\n",
            "Text\n",
            "Why does it say Silas sliced in that headlinelike someone chopped him up like a piece of cabbage????????????????????????  #GH\n",
            "\n",
            "---\n",
            "\n",
            "Target:1 (real_diaster)\n",
            "Text\n",
            "@rahulkanwal why  Jammu is soft target for terrorist\n",
            "\n",
            "---\n",
            "\n"
          ]
        }
      ]
    },
    {
      "cell_type": "code",
      "source": [
        "\n",
        "from sklearn.model_selection import train_test_split\n",
        "\n",
        "# Use train_test_split to split training data into training and validation sets\n",
        "train_sentences, val_sentences, train_labels, val_labels = train_test_split(train_df_shuffled[\"text\"].to_numpy(),\n",
        "                                                                            train_df_shuffled[\"target\"].to_numpy(),\n",
        "                                                                            test_size=0.1, # dedicate 10% of samples to validation set\n",
        "                                                                            random_state=42)"
      ],
      "metadata": {
        "id": "FMrd4zdZ9_5N"
      },
      "execution_count": 13,
      "outputs": []
    },
    {
      "cell_type": "code",
      "source": [
        "len(train_sentences), len(train_labels), len(val_sentences), len(val_labels)"
      ],
      "metadata": {
        "colab": {
          "base_uri": "https://localhost:8080/"
        },
        "id": "DjwXW2lcWSHU",
        "outputId": "0f271ad3-4046-4561-f09c-7d4ab61679b8"
      },
      "execution_count": 14,
      "outputs": [
        {
          "output_type": "execute_result",
          "data": {
            "text/plain": [
              "(6851, 6851, 762, 762)"
            ]
          },
          "metadata": {},
          "execution_count": 14
        }
      ]
    },
    {
      "cell_type": "code",
      "source": [
        "train_sentences[:10], train_labels[:10]"
      ],
      "metadata": {
        "colab": {
          "base_uri": "https://localhost:8080/"
        },
        "id": "V2uS_hmpWUpb",
        "outputId": "b2c74ebc-fe27-4cec-f873-e30b825e5ccc"
      },
      "execution_count": 15,
      "outputs": [
        {
          "output_type": "execute_result",
          "data": {
            "text/plain": [
              "(array(['@mogacola @zamtriossu i screamed after hitting tweet',\n",
              "        'Imagine getting flattened by Kurt Zouma',\n",
              "        '@Gurmeetramrahim #MSGDoing111WelfareWorks Green S welfare force ke appx 65000 members har time disaster victim ki help ke liye tyar hai....',\n",
              "        \"@shakjn @C7 @Magnums im shaking in fear he's gonna hack the planet\",\n",
              "        'Somehow find you and I collide http://t.co/Ee8RpOahPk',\n",
              "        '@EvaHanderek @MarleyKnysh great times until the bus driver held us hostage in the mall parking lot lmfao',\n",
              "        'destroy the free fandom honestly',\n",
              "        'Weapons stolen from National Guard Armory in New Albany still missing #Gunsense http://t.co/lKNU8902JE',\n",
              "        '@wfaaweather Pete when will the heat wave pass? Is it really going to be mid month? Frisco Boy Scouts have a canoe trip in Okla.',\n",
              "        'Patient-reported outcomes in long-term survivors of metastatic colorectal cancer - British Journal of Surgery http://t.co/5Yl4DC1Tqt'],\n",
              "       dtype=object),\n",
              " array([0, 0, 1, 0, 0, 1, 1, 0, 1, 1]))"
            ]
          },
          "metadata": {},
          "execution_count": 15
        }
      ]
    },
    {
      "cell_type": "code",
      "source": [
        "import tensorflow as tf\n",
        "from tensorflow.keras.layers import TextVectorization # after TensorFlow 2.6\n",
        "\n",
        "# Before TensorFlow 2.6\n",
        "# from tensorflow.keras.layers.experimental.preprocessing import TextVectorization\n",
        "# Note: in TensorFlow 2.6+, you no longer need \"layers.experimental.preprocessing\"\n",
        "# you can use: \"tf.keras.layers.TextVectorization\", see https://github.com/tensorflow/tensorflow/releases/tag/v2.6.0 for more\n",
        "\n",
        "# Use the default TextVectorization variables\n",
        "text_vectorizer = TextVectorization(max_tokens=None, # how many words in the vocabulary (all of the different words in your text)\n",
        "                                    standardize=\"lower_and_strip_punctuation\", # how to process text\n",
        "                                    split=\"whitespace\", # how to split tokens\n",
        "                                    ngrams=None, # create groups of n-words?\n",
        "                                    output_mode=\"int\", # how to map tokens to numbers\n",
        "                                    output_sequence_length=None) # how long should the output sequence of tokens be?\n",
        "                                    # pad_to_max_tokens=True) # Not valid if using max_tokens=None"
      ],
      "metadata": {
        "id": "DHOTDy2cWUqt"
      },
      "execution_count": 16,
      "outputs": []
    },
    {
      "cell_type": "code",
      "source": [
        "round(sum([len(i.split()) for i in train_sentences])/len(train_sentences))\n"
      ],
      "metadata": {
        "colab": {
          "base_uri": "https://localhost:8080/"
        },
        "id": "SQ6G5bzVWsQZ",
        "outputId": "e2f9651c-5c78-416b-d919-016f92fbcaa6"
      },
      "execution_count": 17,
      "outputs": [
        {
          "output_type": "execute_result",
          "data": {
            "text/plain": [
              "15"
            ]
          },
          "metadata": {},
          "execution_count": 17
        }
      ]
    },
    {
      "cell_type": "code",
      "source": [
        "max_vocab_lenght= 10000\n",
        "max_length=15\n",
        "\n",
        "text_vectorizer= TextVectorization(max_tokens= max_vocab_lenght,\n",
        "                                   output_mode=\"int\",\n",
        "                                   output_sequence_length= max_length)\n"
      ],
      "metadata": {
        "id": "7F9YwK1piOq_"
      },
      "execution_count": 18,
      "outputs": []
    },
    {
      "cell_type": "code",
      "source": [
        "## Fit the text vectorizer\n",
        "\n",
        "text_vectorizer.adapt(train_sentences)\n",
        "\n",
        "\n",
        "sample_sentence=\"There's a flood in my street!\"\n",
        "text_vectorizer([sample_sentence])"
      ],
      "metadata": {
        "colab": {
          "base_uri": "https://localhost:8080/"
        },
        "id": "mL6I1dK1lMTW",
        "outputId": "3838d645-4e5c-4da1-9fc9-d053a330c2c0"
      },
      "execution_count": 19,
      "outputs": [
        {
          "output_type": "execute_result",
          "data": {
            "text/plain": [
              "<tf.Tensor: shape=(1, 15), dtype=int64, numpy=\n",
              "array([[264,   3, 232,   4,  13, 698,   0,   0,   0,   0,   0,   0,   0,\n",
              "          0,   0]])>"
            ]
          },
          "metadata": {},
          "execution_count": 19
        }
      ]
    },
    {
      "cell_type": "code",
      "source": [
        "# Random sentence choose\n",
        "\n",
        "\n",
        "random_sentence = random.choice(train_sentences)\n",
        "print(f\"Original text: \\n {random_sentence}\\\n",
        "\\n\\nVectorized version:\")\n",
        "\n",
        "text_vectorizer([random_sentence])"
      ],
      "metadata": {
        "colab": {
          "base_uri": "https://localhost:8080/"
        },
        "id": "oxBS3ga-oRx_",
        "outputId": "a7067993-0eb0-41e7-d25a-37a5a02351a3"
      },
      "execution_count": 20,
      "outputs": [
        {
          "output_type": "stream",
          "name": "stdout",
          "text": [
            "Original text: \n",
            " KATUNews: #SR14 remains closed as brush fire burns 1700 acres: http://t.co/QposKp3MWj #LiveOnK2 http://t.co/mTQjsvupwy\n",
            "\n",
            "Vectorized version:\n"
          ]
        },
        {
          "output_type": "execute_result",
          "data": {
            "text/plain": [
              "<tf.Tensor: shape=(1, 15), dtype=int64, numpy=\n",
              "array([[5286, 8167, 1778,  959,   26, 4057,   42, 1887,    1, 1722,    1,\n",
              "        5211,    1,    0,    0]])>"
            ]
          },
          "metadata": {},
          "execution_count": 20
        }
      ]
    },
    {
      "cell_type": "code",
      "source": [
        "## Get the unique words in the vocab\n",
        "\n",
        "\n",
        "words_in_vocab =text_vectorizer.get_vocabulary()\n",
        "\n",
        "top_5_words = words_in_vocab[5:]\n",
        "bottom_5_words = words_in_vocab[-5:]\n",
        "print(f\"Number of words in vocab: {len(words_in_vocab)}\")\n",
        "print(f\"5 most common words: {top_5_words}\")\n",
        "print(f\"5 least common words:{bottom_5_words}\")"
      ],
      "metadata": {
        "colab": {
          "base_uri": "https://localhost:8080/"
        },
        "id": "Fh0qsTbepZiA",
        "outputId": "7f923ddb-a51b-459b-c517-0ec57518b7f5"
      },
      "execution_count": 21,
      "outputs": [
        {
          "output_type": "stream",
          "name": "stdout",
          "text": [
            "Number of words in vocab: 10000\n",
            "5 most common words: ['to', 'of', 'and', 'i', 'is', 'for', 'on', 'you', 'my', 'with', 'it', 'that', 'at', 'by', 'this', 'from', 'be', 'are', 'was', 'have', 'like', 'as', 'up', 'so', 'just', 'but', 'me', 'im', 'your', 'not', 'amp', 'out', 'its', 'will', 'an', 'no', 'has', 'fire', 'after', 'all', 'when', 'we', 'if', 'now', 'via', 'new', 'more', 'get', 'or', 'about', 'what', 'he', 'people', 'news', 'been', 'over', 'one', 'how', 'dont', 'they', 'who', 'into', 'were', 'do', 'us', '2', 'can', 'video', 'emergency', 'there', 'disaster', 'than', 'police', 'would', 'his', 'still', 'her', 'some', 'body', 'storm', 'crash', 'burning', 'suicide', 'back', 'man', 'california', 'why', 'time', 'them', 'had', 'buildings', 'rt', 'first', 'cant', 'see', 'got', 'day', 'off', 'our', 'going', 'nuclear', 'know', 'world', 'bomb', 'fires', 'love', 'killed', 'go', 'attack', 'youtube', 'dead', 'two', 'families', '3', 'train', 'full', 'being', 'war', 'many', 'today', 'think', 'only', 'car', 'accident', 'life', 'hiroshima', 'their', 'say', 'may', 'down', 'watch', 'good', 'could', 'want', 'last', 'here', 'years', 'u', 'then', 'make', 'did', 'wildfire', 'way', 'help', 'best', 'too', 'even', 'because', 'home', 'death', 'collapse', 'bombing', 'mass', 'him', 'black', 'am', 'those', 'need', 'fatal', 'army', 'another', 'work', 'take', 'should', 'really', 'please', 'mh370', 'youre', 'look', 'lol', 'hot', 'pm', 'legionnaires', '4', 'right', '5', 'let', 'city', 'year', 'wreck', 'school', 'northern', 'much', 'forest', 'bomber', 'water', 'she', 'never', 'read', 'latest', 'homes', 'great', 'every', '1', 'live', 'god', 'fear', 'any', '\\x89Û', 'under', 'said', 'old', 'floods', '2015', 'getting', 'atomic', 'while', 'top', 'obama', 'feel', 'thats', 'since', 'near', 'flames', 'ever', 'come', 'where', 'these', 'military', 'japan', 'found', 'content', 'ass', 'without', 'weather', 'most', 'flooding', 'flood', 'damage', 'which', 'shit', 's', 'hope', 'everyone', 'before', 'stop', 'plan', 'malaysia', 'injured', 'hit', 'evacuation', 'during', 'debris', 'cross', 'coming', 'wild', 'well', 'times', 'sinking', 'oil', 'fucking', 'check', 'cause', 'weapons', 'truck', 'food', 'bloody', 'always', 'weapon', 'theres', 'state', 'little', 'injuries', 'free', 'wounded', 'summer', 'smoke', 'severe', 'reddit', 'next', 'movie', 'ive', 'hes', 'fall', 'evacuate', 'confirmed', 'bad', 'again', 'thunderstorm', 'set', 'night', 'natural', 'looks', 'heat', 'face', 'earthquake', 'boy', 'whole', 'until', 'thunder', 'through', 'says', 'panic', 'outbreak', 'made', 'lightning', 'fatalities', 'family', 'explosion', 'end', 'destroy', 'derailment', 'air', 'w', 'terrorist', 'survive', 'screaming', 'saudi', 'refugees', 'rain', 'murder', 'loud', 'liked', 'house', 'gonna', 'failure', 'collided', 'bag', 'attacked', 'ambulance', '70', 'wind', 'services', 'save', 'report', 'migrants', 'head', 'explode', 'charged', 'change', 'big', 'also', 'wrecked', 'warning', 'update', 'run', 'rescuers', 'released', 'photo', 'massacre', 'injury', 'hurricane', 'high', 'hail', 'fuck', 'does', 'destroyed', 'bus', 'blood', '40', '\\x89ÛÒ', 'wreckage', 'violent', 'twister', 'trauma', 'tragedy', 'terrorism', 'survivors', 'survived', 'sinkhole', 'sandstorm', 'road', 'rioting', 'red', 'real', 'put', 'post', 'national', 'missing', 'landslide', 'keep', 'girl', 'drought', 'curfew', 'breaking', 'bags', 'white', 'twitter', 'tonight', 'structural', 'spill', 'service', 'screamed', 'rescued', 'rescue', 'phone', 'ok', 'oh', 'mosque', 'lives', 'horrible', 'harm', 'game', 'dust', 'destruction', 'deluge', 'deaths', 'crashed', 'cliff', 'catastrophe', 'boat', 'away', 'august', 'area', 'apocalypse', 'woman', 'whirlwind', 'traumatised', 'stock', 'saw', 'ruin', 'riot', 'quarantine', 'kills', 'island', 'investigators', 'ill', 'hostages', 'hazard', 'danger', 'call', '15', 'women', 'windstorm', 'things', 'suspect', 'show', 'reunion', 'quarantined', 'lava', 'heart', 'engulfed', 'detonate', 'crush', 'collapsed', 'came', 'better', 'battle', 'armageddon', 'airplane', 'against', 'affected', 'use', 'trapped', 'thank', 'sunk', 'story', 'send', 'part', 'other', 'must', 'mudslide', 'market', 'iran', 'famine', 'exploded', 'electrocuted', 'ebay', 'displaced', 'derailed', 'derail', 'burned', 'bombed', 'blown', 'baby', 'around', 'zone', 'wave', 'wanna', 'sure', 'someone', 'screams', 'razed', 'power', 'obliterated', 'long', 'land', 'hundreds', 'heard', 'group', 'flattened', 'drown', 'doing', 'care', 'bridge', 'bagging', '9', 'went', 'used', 'typhoon', 'trouble', 'tornado', 'thought', 'thing', 'river', 'responders', 'past', 'pandemonium', 'officials', 'meltdown', 'lot', 'least', 'inundated', 'id', 'hostage', 'hijacking', 'hazardous', 'goes', 'drowning', 'didnt', 'devastation', 'demolish', 'collide', 'casualties', 'calgary', 'bang', 'anniversary', 'yet', 'wounds', 'volcano', 'tsunami', 'sue', 'st', 'song', 'something', 'shoulder', 'security', 'prebreak', 'possible', 'pkk', 'panicking', 'obliteration', 'obliterate', 'murderer', 'minute', 'light', 'lets', 'kill', 'isis', 'india', 'hijacker', 'hellfire', 'government', 'few', 'evacuated', 'due', 'detonated', 'desolation', 'crushed', 'chemical', 'blew', 'blazing', 'blast', 'annihilated', 'airport', '6', 'week', 'upheaval', 'trying', 'three', 'thanks', 'sound', 'soon', 'sirens', 'rainstorm', 'plane', 'music', 'making', 'kids', 'issues', 'half', 'guys', 'fedex', 'done', 'died', 'detonation', 'days', 'cyclone', 'county', 'collision', 'caused', 'catastrophic', 'bleeding', 'beautiful', '8', 'words', 'very', 'traffic', 'south', 'remember', 'policy', 'place', 'nothing', 'north', 'mp', 'longer', 'left', 'israeli', 'hell', 'fun', 'drowned', 'demolished', 'cool', 'both', 'bioterror', 'believe', 'avalanche', 'arson', 'turkey', 'snowstorm', 'site', 'shot', 'shooting', 'pic', 'nowplaying', 'media', 'islam', 'inside', 'hijack', 'helicopter', 'fight', 'fatality', 'fan', 'electrocute', 'doesnt', 'building', 'brown', 'bc', 'actually', '16yr', 'yes', 'watching', 'wait', 'ur', 'tell', 'swallowed', 'seismic', 'second', 'rubble', 're\\x89Û', 'plans', 'men', 'memories', 'line', 'la', 'horror', 'health', 'having', 'find', 'eyewitness', 'deluged', 'children', 'bush', 'anything', 'already', 'almost', 'aircraft', 'yourself', 'yeah', 'whats', 'tomorrow', 'such', 'start', 'side', 'searching', 'saved', 'reactor', 'probably', 'play', 'person', 'peace', 'outside', 'officer', 'nearby', 'n', 'maybe', 'lost', 'literally', 'hours', 'hear', 'far', 'die', 'demolition', 'data', 'crews', 'conclusively', 'business', 'american', '20', '\\x89ÛÓ', 'west', 'waves', 'team', 'street', 'stay', 'soudelor', 'reuters', 'manslaughter', 'leather', 'job', 'history', 'hey', 'feeling', 'eyes', 'everything', 'declares', 'deal', 'casualty', 'bodies', 'amid', 'ablaze', '7', '50', '30', '12', 'youth', 'wont', 'wake', 'theyre', 'support', 'stretcher', 'same', 'rise', 'picking', 'photos', 'own', 'others', 'order', 'omg', 'okay', 'name', 'myself', 'money', 'makes', 'leave', 'lab', 'gt', 'gets', 'flag', 'desolate', 'crisis', 'center', 'book', 'blight', 'blaze', 'ago', 'abc', '11yearold', 'womens', 'typhoondevastated', 'tv', 'trench', 'trains', 'texas', 'space', 'siren', 'shes', 'self', 'saipan', 'reason', 'rd', 'pretty', 'pick', 'offensive', 'move', 'meek', 'major', 'm', 'low', 'lord', 'huge', 'hat', 'flash', 'feared', 'fast', 'effect', 'course', 'country', 'control', 'class', 'child', 'chance', 'caught', 'called', 'bioterrorism', 'bestnaijamade', 'become', 'bar', 'banned', 'ball', 'aug', 'annihilation', 'wrong', 'win', 'usa', 'united', 'town', 'totally', 'toddler', 'though', 'temple', 'taken', 'stand', 'spot', 'signs', 'ship', 'pakistan', 'online', 'level', 'ladies', 'jobs', 'isnt', 'happy', 'hailstorm', 'friends', 'disea', 'damn', 'couple', 'case', 'blue', 'bigger', 'america', 'across', '10', 'yours', 'village', 'try', 'transport', 'talk', 'seen', 'russian', 'radio', 'projected', 'once', 'official', 'needs', 'nearly', 'mount', 'might', 'mayhem', 'instead', 'hollywood', 'haha', 'guy', 'gun', 'green', 'front', 'finally', 'favorite', 'experts', 'entire', 'east', 'daily', 'crazy', 'computers', 'coaches', 'christian', 'china', 'blizzard', 'anyone', 'aint', 'action', '25', 'virgin', 'vehicle', 'truth', 'trust', 'takes', 't', 'star', 'sorry', 'running', 'refugio', 'reddits', 'poor', 'pain', 'mom', 'miners', 'marks', 'looking', 'knock', 'issued', 'insurance', 'ignition', 'houses', 'heavy', 'hate', 'hard', 'happened', 'global', 'giant', 'gbbo', 'flight', 'eye', 'emmerdale', 'driver', 'devastated', 'd', 'costlier', 'cnn', 'cars', 'camp', 'beach', 'arsonist', 'angry', 'alone', 'added', '05', 'york', 'wonder', 'uk', 'turn', 'taking', 'subreddits', 'sounds', 'scared', 'russia', 'rly', 'reports', 'ready', 'quiz', 'public', 'property', 'pradesh', 'ppl', 'playing', 'pay', 'parole', 'pamela', 'pakistani', 'outrage', 'niggas', 'nagasaki', 'myanmar', 'muslims', 'mop', 'madhya', 'mad', 'lmao', 'learn', 'large', 'govt', 'give', 'gems', 'gave', 'funtenna', 'fukushima', 'former', 'film', 'earth', 'drive', 'downtown', 'dog', 'comes', 'closed', 'cake', 'british', 'bring', 'bbc', 'b', 'appears', 'aftershock', '13', '11', 'young', 'wow', 'worst', 'waving', 'washington', 'wanted', 'vs', 'view', 'upon', 'tweet', 'tree', 'tote', 'thousands', 'thinking', 'theater', 'soul', 'sky', 'sign', 'shows', 'shift', 'seeing', 'sea', 'scene', 'safety', 'rules', 'rock', 'reported', 'r', 'pray', 'playlist', 'patience', 'passengers', 'park', 'nws', 'nigerian', 'morning', 'moment', 'mode', 'listen', 'likely', 'libya', 'led', 'israel', 'human', 'hiring', 'handbag', 'hand', 'gop', 'geller', 'gas', 'galactic', 'friend', 'france', 'following', 'follow', 'fashion', 'enough', 'else', 'driving', 'drake', 'don\\x89Ûªt', 'disease', 'declaration', 'cut', 'colorado', 'chinas', 'chile', 'centre', 'businesses', 'biggest', 'behind', 'bed', 'bayelsa', 'awesome', 'arrested', 'apollo', 'ancient', '70th', '100', 'x', 'working', 'wednesday', 'wasnt', 'unconfirmed', 'twelve', 'turned', 'tried', 'thursday', 'terror', 'super', 'sex', 'secret', 'sad', 'risk', 'recount', 'problem', 'potus', 'planned', 'parents', 'occurred', 'number', 'neighbours', 'mph', 'militants', 'middle', 'link', 'landing', 'lamp', 'info', 'idea', 'holding', 'governor', 'glad', 'germs', 'firefighters', 'escape', 'ebola', 'early', 'dude', 'deep', 'date', 'cree', 'claims', 'cdt', 'break', 'ave', 'art', 'anthrax', '60', '16', '12000', 'worse', 'worlds', 'western', 'wants', 'wall', 'walk', 'using', 'true', 'till', 'started', 'spring', 'small', 'silver', 'serious', 'provoke', 'played', 'party', 'nice', 'mountain', 'months', 'mod', 'miss', 'mishaps', 'metal', 'med', 'lies', 'lake', 'lady', 'japanese', 'involving', 'investigating', 'internet', 'hour', 'helping', 'havent', 'gtgt', 'funny', 'force', 'financial', 'faux', 'falling', 'expected', 'download', 'direction', 'department', 'denver', 'delivers', 'crematoria', 'coast', 'climate', 'ca', 'buy', 'bombs', 'album', 'alarm', 'ahead', 'account', 'aba', '\\x89ÛÏwhen', 'youll', 'wish', 'wedding', 'victims', 'udhampur', 'turkish', 'travel', 'took', 'told', 'together', 'todays', 'threat', 'sun', 'stories', 'sick', 'shots', 'share', 'series', 'sense', 'season', 'saying', 'salt', 'room', 'record', 'purse', 'prepare', 'plunging', 'philippines', 'pass', 'p', 'offroad', 'nigga', 'members', 'means', 'louis', 'london', 'living', 'linked', 'king', 'join', 'international', 'information', 'horse', 'hasnt', 'happening', 'guide', 'guess', 'ground', 'future', 'friday', 'four', 'feat', 'fact', 'expect', 'etc', 'door', 'different', 'dies', 'de', 'company', 'comment', 'causes', 'career', 'cameroon', 'begin', 'australia', 'arent', 'answer', 'along', 'allows', 'alabama', 'airlines', 'act', '600', '2014', '17', 'wtf', 'worry', 'wife', 'weekend', 'walking', 'victim', 'v', 'utc20150805', 'trump', 'tho', 'text', 'test', 'teen', 'taiwan', 'tablet', 'syrian', 'strike', 'straight', 'states', 'short', 'ships', 'shape', 'setting', 'sensorsenso', 'search', 'rocky', 'research', 'reading', 'rather', 'rate', 'press', 'piece', 'phoenix', 'orders', 'ones', 'nyc', 'minutes', 'million', 'michael', 'mean', 'map', 'lucky', 'killing', 'jonathan', 'islamic', 'internally', 'interesting', 'indian', 'hero', 'happens', 'happen', 'hair', 'giving', 'girls', 'general', 'freak', 'fighting', 'felt', 'feels', 'fat', 'fans', 'episode', 'enugu', 'effects', 'each', 'e', 'drunk', 'double', 'dogs', 'destroys', 'desires', 'dc', 'dance', 'dan', 'cover', 'court', 'complete', 'cold', 'close', 'changes', 'carrying', 'captures', 'cable', 'buses', 'brooklyn', 'board', 'blocked', 'bit', 'between', 'ban', 'ashes', 'arianagrande', 'apc', 'animal', 'amazon', 'alive', 'agree', 'africa', 'absolutely', '2nd', '24', '2013', '1st', '19', '18', '0', 'yall', 'wrought', 'worth', 'winds', 'vote', 'version', 'upset', 'un', 'trent', 'trees', 'training', 'tracks', 'total', 'technology', 'suspected', 'strong', 'standard', 'stadium', 'specially', 'special', 'sometimes', 'soldiers', 'snow', 'smaug', 'sleeping', 'single', 'sh', 'selfimage', 'route', 'ross', 'roosevelt', 'response', 'repatriated', 'remove', 'radiation', 'queen', 'program', 'prevent', 'population', 'picture', 'petition', 'palestinian', 'office', 'nc', 'navy', 'moving', 'millions', 'metro', 'meet', 'mediterranean', 'marians', 'leaving', 'lead', 'late', 'kit', 'killer', 'image', 'hold', 'hobo', 'hello', 'handbags', 'gunman', 'grows', 'gotta', 'gone', 'gold', 'games', 'fully', 'french', 'foxnews', 'feet', 'express', 'examining', 'event', 'evening', 'either', 'dr', 'dangerous', 'dad', 'currently', 'cranes', 'cops', 'colour', 'chicago', 'central', 'causing', 'cat', 'cannot', 'canada', 'calls', 'brother', 'broke', 'box', 'beyond', 'beat', 'based', 'avoid', 'anymore', 'afghanistan', 'able', 'abandoned', '22', '1980', '14', '06', 'yyc', 'wwii', 'word', 'won', 'woke', 'videos', 'usgs', 'usatoday', 'updates', 'tribal', 'trfc', 'totaling', 'thunderstorms', 'tension', 'tears', 'target', 'talking', 'supposed', 'sunday', 'stuff', 'students', 'struggles', 'starts', 'stage', 'squad', 'spos', 'spaceship', 'son', 'sitting', 'sismo', 'shut', 'shouldnt', 'shall', 'seeks', 'seek', 'screen', 'saving', 'san', 'runs', 'relief', 'region', 'reasons', 're', 'question', 'president', 'point', 'pile', 'perfect', 'percent', 'pdp', 'paul', 'open', 'municipal', 'motorcyclist', 'month', 'modified', 'match', 'main', 'lots', 'lose', 'lie', 'less', 'leading', 'later', 'kinda', 'keeps', 'insurer', 'industry', 'imagine', 'ice', 'hunt', 'hospital', 'honestly', 'hilarious', 'ft', 'forever', 'forecast', 'football', 'fleets', 'five', 'fears', 'extreme', 'everywhere', 'emotional', 'drink', 'dream', 'damaged', 'da', 'cruz', 'crime', 'create', 'cook', 'confirms', 'completely', 'community', 'combo', 'coffee', 'cancer', 'c130', 'brought', 'broken', 'boys', 'books', 'block', 'began', 'bay', 'babies', 'attacks', 'ask', 'apply', 'ap', 'antioch', 'among', 'allah', 'according', '911', '4000', '31', '2011', 'yo', 'worldnews', 'wmata', 'wired', 'welcome', 'watched', 'wars', 'waiting', 'usually', 'units', 'understand', 'tropical', 'tram', 'tonto', 'tips', 'time20150806', 'tickets', 'thx', 'terrorists', 'system', 'streets', 'stream', 'stopped', 'sports', 'spent', 'sir', 'simple', 'signed', 'shower', 'shares', 'shame', 'sent', 'seems', 'secrets', 'seconds', 'seattle', 'saturday', 'satellite', 'rule', 'round', 'rip', 'ridge', 'richmond', 'review', 'return', 'repair', 'rea\\x89Û', 'quite', 'pressure', 'practice', 'potential', 'pool', 'plus', 'pilot', 'pics', 'parenthood', 'owner', 'outlook', 'original', 'opens', 'opening', 'onto', 'oklahoma', 'ocean', 'o784', 'o', 'nursing', 'nah', 'mortal', 'mix', 'mine', 'mention', 'mediterran', 'matter', 'massive', 'mary', 'lt', 'loving', 'loved', 'list', 'limited', 'lil', 'leads', 'leader', 'kombat', 'kid', 'kick', 'justinbieber', 'issue', 'irandeal', 'inner', 'incident', 'impact', 'humanity', 'hobbit', 'hits', 'himself', 'highway', 'hi', 'heres', 'hawaii', 'hands', 'guns', 'grill', 'greatest', 'gov', 'gm', 'gay', 'forget', 'firefighter', 'fine', 'final', 'false', 'facebook', 'faan', 'exploration', 'exit', 'exchanging', 'epic', 'el', 'edm', 'earlier', 'drinking', 'disco', 'directioners', 'deadly', 'david', 'dark', 'crying', 'cost', 'continue', 'concerned', 'companies', 'common', 'civilians', 'civilian', 'character', 'cases', 'careful', 'canyon', 'calling', 'burn', 'build', 'browser', 'bro', 'bringing', 'bought', 'blog', 'birthday', 'bin', 'bicyclist', 'ben', 'battlefield', 'arrived', 'ar', 'amazing', 'afternoon', 'acres', 'accidents', 'abstorm', '90', '500', '26', 'you\\x89Ûªve', 'youve', 'yesterday', 'wx', 'writing', 'worked', 'within', 'wildfires', 'weird', 'ways', 'warnings', 'wa', 'vuitton', 'voice', 'visit', 'vietnam', 'unless', 'universe', 'trip', 'township', 'tongue', 'toilet', 'thomas', 'tent', 'tank', 'syria', 'survival', 'stupid', 'stone', 'steve', 'starting', 'sport', 'somalia', 'social', 'smh', 'sleep', 'situation', 'shoes', 'seven', 'sensor', 'sees', 'seat', 'science', 'sadly', 'rubber', 'roof', 'roads', 'result', 'respond', 'replace', 'remains', 'related', 'reduce', 'recovery', 'realise', 'rare', 'rail', 'quote', 'quickly', 'quick', 'pussy', 'protect', 'problems', 'price', 'preparedness', 'powerful', 'posts', 'portland', 'pop', 'political', 'points', 'player', 'photography', 'pathogens', 'officers', 'none', 'needed', 'nature', 'mumbai', 'ms', 'mr', 'moments', 'missed', 'minecraft', 'mill', 'mile', 'md', 'mayan', 'manchester', 'malaysian', 'loss', 'loose', 'listening', 'lion', 'linkury', 'lights', 'lifted', 'laden', 'knew', 'kindle', 'jeb', 'it\\x89Ûªs', 'italian', 'iraq', 'invoices', 'inundation', 'inj', 'including', 'illegal', 'i5', 'hwy', 'hwo', 'httptcoqew4c5m1xd', 'hill', 'hearing', 'headed', 'ha', 'guardian', 'gods', 'glass', 'genocide', 'gaza', 'freakiest', 'fort', 'forces', 'fog', 'fish', 'feminists', 'fell', 'fantasy', 'falls', 'f', 'experience', 'exchange', 'except', 'equipment', 'epicentre', 'ep', 'ended', 'em', 'economy', 'economic', 'dropped', 'dozens', 'disney', 'discovered', 'di', 'created', 'continues', 'conference', 'computer', 'clutch', 'church', 'choice', 'china\\x89Ûªs', 'chief', 'cheese', 'charity', 'canaanites', 'burns', 'bruh', 'broadway', 'brain', 'bout', 'bombings', 'beyhive', 'bet', 'baseball', 'bank', 'automatic', 'audio', 'attention', 'asking', 'asked', 'articles', 'areas', 'arabia', 'angel', 'al', 'ah', 'add', 'access', '4x4', '3g', '1000', 'zombie', 'yrs', 'ya', 'xd', 'write', 'wouldnt', 'wins', 'wings', 'window', 'wheavenly', 'weeks', 'wed', 'waste', 'vinyl', 'vine', 'veterans', 'van', 'valley', 'utc', 'updated', 'unlocked', 'unit', 'type', 'twice', 'tweets', 'tube', 'troops', 'triggered', 'trailer', 'tour', 'tough', 'touch', 'toronto', 'tom', 'toll', 'tired', 'threatens', 'thoughts', 'theatre', 'terrible', 'ten', 'tcot', 'swallows', 'sw', 'surrounded', 'surprise', 'sunset', 'subject', 'style', 'struck', 'storms', 'store', 'stops', 'steps', 'steel', 'stealing', 'stars', 'standuser', 'sparked', 'soundcloud', 'somebody', 'society', 'snap', 'slightly', 'skin', 'size', 'sit', 'sinjar', 'sidelines', 'sicily', 'shelter', 'shadow', 'several', 'september', 'senior', 'senator', 'se', 'scary', 'satchel', 'santa', 'salem', 'sale', 'safe', 'runway', 'row', 'root', 'rocks', 'rn', 'rising', 'riots', 'residents', 'republicans', 'reminds', 'remembering', 'releases', 'release', 'relatives', 'ran', 'quran', 'questions', 'putin', 'prosecuted', 'prophetmuhammad', 'project', 'prime', 'powerlines', 'poll', 'pipe', 'pilots', 'pc', 'patient', 'passing', 'parleys', 'parker', 'page', 'operation', 'officially', 'nytimes', 'ny', 'notices', 'nine', 'nashville', 'murdered', 'mt', 'movies', 'moon', 'mood', 'monogram', 'mma', 'mission', 'minister', 'mining', 'mini', 'mind', 'mikeparractor', 'mets', 'message', 'mentions', 'meeting', 'medical', 'meatloving', 'maximum', 'max', 'markets', 'maintenance', 'madinah', 'mac', 'lt3', 'lovely', 'loop', 'local', 'library', 'levels', 'legacy', 'learning', 'laws', 'lane', 'lack', 'knows', 'knee', 'kisii', 'kidnapped', 'john', 'joe', 'jackson', 'jack', 'i\\x89Ûªm', 'itunes', 'interview', 'intensity', 'indeed', 'incredible', 'ii', 'ie', 'ideas', 'hurts', 'hunters', 'humans', 'httptcoq2eblokeve', 'httptcoencmhz6y34', 'homeless', 'heroes', 'held', 'heads', 'h', 'gunfire', 'gta', 'gotten', 'given', 'girlfriend', 'german', 'fruit', 'fr', 'foxtrot', 'forced', 'followers', 'focus', 'florida', 'floor', 'flat', 'fix', 'fired', 'female', 'feed', 'failed', 'fail', 'exp', 'executives', 'evil', 'everyday', 'estimate', 'entertainment', 'enjoy', 'england', 'enemy', 'electronic', 'edt', 'edition', 'eat', 'dying', 'dubstep', 'drone', 'drill', 'dollar', 'documents', 'dnb', 'distance', 'destiny', 'defense', 'debate', 'cuz', 'cute', 'curved', 'criminals', 'crap', 'cramer', 'couldnt', 'costs', 'cop', 'consider', 'congress', 'conditions', 'concert', 'complex', 'co', 'club', 'click', 'chinese', 'charging', 'ceo', 'carry', 'card', 'capsizes', 'can\\x89Ûªt', 'calories', 'calm', 'calif', 'c', 'by\\x89Û', 'button', 'butter', 'burst', 'budget', 'broad', 'brazil', 'boston', 'blvd', 'blk', 'blessings', 'blessed', 'blamed', 'bells', 'bear', 'awful', 'avoiding', 'authorities', 'australian', 'associated', 'arrive', 'arms', 'apparently', 'app', 'animalrescue', 'amsterdam', 'aka', 'aim', 'af', 'advisory', 'adult', 'actions', 'accidentally', 'above', '5km', '53inch', '4wd', '35', '300w', '1945', 'zionist', 'z10', 'youngheroesid', 'youd', 'yobe', 'yay', 'xbox', 'ww1', 'written', 'wouldve', 'worried', 'workers', 'wondering', 'wonderful', 'wo', 'williams', 'whos', 'whether', 'wet', 'weed', 'wearing', 'wealth', 'warship', 'warns', 'viralspell', 'violence', 'vehicles', 'usual', 'users', 'upper', 'unveiled', 'ultimate', 'ugh', 'twia', 'tryna', 'truly', 'treatment', 'treat', 'trapmusic', 'trap', 'traditional', 'track', 'towel', 'toward', 'tornadoes', 'title', 'thus', 'throwing', 'thriller', 'threatening', 'theyll', 'tennessee', 'tempered', 'ted', 'tech', 'teams', 'tea', 'tbt', 'tax', 'tag', 'sydney', 'swim', 'sweet', 'surprised', 'stuart', 'structures', 'structure', 'streak', 'strategy', 'strange', 'stranded', 'status', 'statement', 'staff', 'springs', 'spirit', 'spider', 'spanish', 'somehow', 'solution', 'solar', 'socialnews', 'smoking', 'sister', 'singing', 'sing', 'shop', 'shipping', 'shepherd', 'sharp', 'sexual', 'served', 'seriously', 'serial', 'sentinel', 'sarah', 'sac', 'rÌ©union', 'romance', 'roll', 'revealed', 'results', 'restore', 'rest', 'responsible', 'responds', 'respect', 'residential', 'reporting', 'reno', 'remain', 'register', 'reduced', 'rear', 'realized', 'read\\x89Û', 'ray', 'rape', 'rally', 'rains', 'quest', 'quality', 'putting', 'purple', 'pump', 'protector', 'prophet', 'profile', 'prices', 'pres', 'pov', 'port', 'politics', 'plug', 'plot', 'playoffs', 'planet', 'plains', 'plague', 'places', 'piling', 'picked', 'physical', 'philly', 'persons', 'personal', 'peanut', 'patrick', 'parts', 'paper', 'pantherattack', 'pak', 'owners', 'option', 'okwx', 'of\\x89Û', 'offer', 'numbers', 'nuke', 'normal', 'newest', 'nd', 'naved', 'nation', 'nasahurricane', 'named', 'museum', 'murderous', 'moves', 'moved', 'motor', 'mo', 'mlb', 'miles', 'migrant', 'mido', 'microlight', 'mhtw4fnet', 'mess', 'memory', 'memorial', 'maria', 'mansehra', 'manager', 'management', 'mail', 'lungs', 'luck', 'lowndes', 'lower', 'loves', 'lorries', 'looting', 'looked', 'let\\x89Ûªs', 'legal', 'law', 'laughing', 'larger', 'justice', 'july', 'judge', 'jewish', 'jet', 'jamaica', 'jam', 'jacksonville', 'itself', 'italy', 'ir', 'iphone', 'insane', 'injuryi495', 'increased', 'iii', 'igers', 'ices\\x89Û', 'icemoon', 'i77', 'hungry', 'httptcovvplfqv58p', 'httptcoksawlyux02', 'housing', 'hotel', 'hopefully', 'hip', 'hearts', 'hd', 'guillermo', 'gtgtgt', 'grow', 'grey', 'grade', 'grace', 'google', 'golf', 'goal', 'germany', 'george', 'generation', 'gang', 'gabon', 'fresh', 'freedom', 'fox', 'finnish', 'fighters', 'field', 'festival', 'fav', 'fake', 'faced', 'extremely', 'extra', 'external', 'explosionproof', 'experiments', 'exactly', 'everyones', 'estimated', 'especially', 'eruption', 'error', 'energy', 'ends', 'ems', 'elephant', 'electrical', 'effort', 'education', 'easy', 'dvd', 'duty', 'dutch', 'drug', 'drop', 'drones', 'drawn', 'dramatic', 'djicemoon', 'diving', 'disrupts', 'disneys', 'diet', 'details', 'depth', 'demand', 'degrees', 'decided', 'debt', 'deals', 'darude', 'dare', 'damages', 'cry', 'crossed', 'cream', 'covers', 'covered', 'countries', 'copilot', 'considering', 'conflict', 'confirm', 'combined', 'collisionno', 'collection', 'clip', 'clear', 'clean', 'classic', 'civil', 'cities', 'cinema', 'cia', 'christmas', 'christians', 'charge', 'characters', 'certain', 'campaign', 'built', 'buffalo', 'bride', 'brakes', 'bowl', 'boss', 'bob', 'blind', 'blackberry', 'bjp', 'bitch', 'be\\x89Û', 'below', 'beginning', 'becomes', 'became', 'beam', 'bb17', 'bat', 'bargain', 'b4', 'australias', 'asap', 'article', 'approaches', 'anyway', 'anti', 'annual', 'animals', 'anchorage', 'amongst', 'americans', 'alps', 'allow', 'aid', 'age', 'afterlife', 'afraid', 'afghan', 'advance', 'address', 'acts', 'activity', 'activated', 'abuse', 'abcnews', '97georgia', '731', '3d', '33', '320', '300', '101', 'åÊ', '\\x89Û÷politics', '\\x89ÛÏthe', '\\x89ÛÏa', 'zouma', 'z', 'yr', 'yazidis', 'y', 'xp', 'wy', 'writer', 'wound', 'worstsummerjob', 'wood', 'wither', 'wit', 'wireless', 'wire', 'winston', 'windows', 'wheres', 'whao', 'weve', 'werent', 'website', 'wash', 'warfighting', 'wanting', 'walmart', 'waimate', 'vulnerable', 'votejkt48id', 'vintage', 'vets', 'values', 'val', 'vacant', 'va', 'utterly', 'utter', 'uses', 'usagov', 'uribe', 'unsuckdcmetro', 'unlocking', 'university', 'union', 'understanding', 'ugly', 'uganda', 'twin', 'tutorial', 'turns', 'turbine', 'tubestrike', 'trucks', 'trolley', 'tripledigit', 'tribune', 'trial', 'transit', 'tracking', 'tools', 'tons', 'todd', 'time20150805', 'throw', 'thousand', 'theyve', 'theory', 'themselves', 'th', 'temporary300', 'telling', 'taste', 'targeting', 'tampa', 'table', 'swimming', 'swansea', 'supreme', 'summerfate', 'suffer', 'sucks', 'success', 'subs', 'sub', 'study', 'stress', 'strategicpatience', 'stir', 'stereo', 'station', 'starter', 'stands', 'stabbing', 'stab', 'sprinter', 'spend', 'speaking', 'speaker', 'sparks', 'spain', 'sp', 'southern', 'southeast', 'southampton', 'sources', 'source', 'soup', 'sophie', 'someones', 'smithsonian', 'smile', 'slow', 'slide', 'slanglucci', 'skinny', 'sixth', 'six', 'sisters', 'simulate', 'silence', 'shell', 'sets', 'senate', 'selfie', 'section', 'sean', 'scott', 'score', 'scientists', 'schools', 'scheme', 'schedule', 'sat', 'sandiego', 'sanctions', 'safer', 'sa', 'rs', 'rose', 'rolling', 'rohingya', 'rockyfire', 'rockin', 'rocket', 'robots', 'robert', 'rob', 'rises', 'ring', 'rights', 'ridiculous', 'rider', 'ride', 'richard', 'reward', 'reveals', 'responsibility', 'republican', 'reportedly', 'replacing', 'remembered', 'regular', 'refugee', 'redlight', 'recommend', 'recognize', 'recently', 'recent', 'recall', 'reap', 'realize', 'reality', 'reaching', 'reach', 'rapidly', 'raining', 'rage', 'radar', 'racist', 'race', 'pulls', 'pulled', 'ps', 'providence', 'protest', 'prompts', 'promises', 'promise', 'progress', 'produced', 'probe', 'pro', 'prison', 'prior', 'print', 'prince', 'primary', 'previously', 'prepared', 'pregnant', 'predicted', 'predict', 'precipitation', 'prabhu', 'poverty', 'posted', 'positive', 'pls', 'players', 'plate', 'planted', 'plant', 'plaguing', 'pitch', 'pipeline', 'photoshop', 'phones', 'perhaps', 'pepper', 'pbban', 'path', 'passenger', 'parking', 'palms', 'palestinians', 'palestine', 'painting', 'packs', 'pacific', 'pace', 'overnight', 'outdoor', 'otrametlife', 'oppressions', 'opposite', 'opinion', 'opened', 'oops', 'omfg', 'olympic', 'okanagan', 'often', 'offers', 'occasion', 'nw', 'nurse', 'nu', 'np', 'notice', 'nobody', 'nigeria', 'nicki', 'newyork', 'newlyweds', 'network', 'nema', 'negative', 'nb', 'nasa', 'mystery', 'muslim', 'muscle', 'multiple', 'mtvhottest', 'mourning', 'mountains', 'motorcycle', 'mother', 'morgan', 'monsoon', 'minds', 'min', 'michigan', 'michael5sos', 'miami', 'mexico', 'messenger', 'mens', 'memes', 'measurement', 'meant', 'meals', 'materials', 'maryland', 'marked', 'mark', 'mansion', 'mama', 'mall', 'majority', 'magic', 'machine', 'lunch', 'lulgzimbestpicts', 'lowly', 'losses', 'losing', 'los', 'longest', 'lonely', 'logo', 'location', 'loan', 'load', 'lmfao', 'listed', 'lip', 'lightening', 'lez', 'leveled', 'letting', 'letters', 'lethal', 'legit', 'leaves', 'league', 'leaders', 'largest', 'kyle', 'known', 'kind', 'kerricktrial', 'kept', 'kca', 'karymsky', 'jst', 'joy', 'jordan', 'jeans', 'japÌn', 'i\\x89Û', 'iranian', 'invalid', 'internal', 'intern', 'interested', 'interest', 'insurers', 'instagram', 'innocent', 'include', 'impossible', 'images', 'ig', 'idp', 'idk', 'idfire', 'hurt', 'huh', 'hughes', 'huffman', 'httptcozujwuiomb3', 'httptcowvj39a3bgm', 'httptcoviwxy1xdyk', 'httptcothoyhrhkfj', 'httptcolvlh3w3awo', 'httpstcomoll5vd8yd', 'hosting', 'host', 'horses', 'horrific', 'hop', 'honors', 'holy', 'holland', 'holiday', 'hole', 'hitting', 'hills', 'highest', 'hieroglyphics', 'here\\x89Ûªs', 'heights', 'heaven', 'headphones', 'heading', 'haunting', 'hated', 'harry', 'harbor', 'haram', 'gusty', 'gusts', 'groups', 'grief\\x89Ûª', 'grenade', 'grazed', 'grateful', 'grab', 'gift', 'garden', 'gained', 'g', 'fwy', 'further', 'fund', 'fuel', 'fucked', 'frontline', 'forward', 'forgotten', 'forgot', 'forbes', 'follows', 'fly', 'floyds', 'flooded', 'flew', 'flags', 'fits', 'fingers', 'finds', 'fights', 'fifth', 'fettilootch', 'feeding', 'fbi', 'father', 'fate', 'faster', 'farrakhan', 'fantastic', 'famous', 'falcon', 'faith', 'factory', 'explains', 'expert', 'exist', 'ex', 'eventually', 'events', 'europe', 'estate', 'equal', 'epilepsy', 'entered', 'enter', 'enjoying', 'english', 'emotions', 'elevated', 'elem', 'electric', 'election', 'efforts', 'edinburgh', 'eden', 'ebike', 'eating', 'easily', 'earrings', 'earners', 'dtn', 'dry', 'drugs', 'drove', 'driven', 'dress', 'dragon', 'doubt', 'dk', 'diss', 'dinner', 'diamond', 'detectado', 'desire', 'designs', 'design', 'description', 'derails', 'deputies', 'dependency', 'democracy', 'delays', 'degree', 'defend', 'decisions', 'decision', 'decide', 'dear', 'daughters', 'daughter', 'dam', 'dallas', 'cyclist', 'current', 'cupcake', 'cup', 'crowd', 'crater', 'crashes', 'cr', 'cousin', 'couples', 'counselor', 'cotton', 'cos', 'cord', 'copycat', 'constantly', 'concerns', 'concern', 'compliant', 'communities', 'commercial', 'comments', 'collapses', 'cofounder', 'cock', 'clouds', 'cloud', 'clinton', 'client', 'cleveland', 'clev', 'clearly', 'cleanup', 'clash', 'claim', 'chill', 'childhood', 'chicagoarea', 'chelsea', 'charts', 'charlie', 'charles', 'channel', 'challenge', 'certainly', 'cell', 'cdc', 'caution', 'cats', 'catch', 'cast', 'carryi', 'captured', 'capture', 'captain', 'capacity', 'cancel', 'campus', 'californias', 'calamity', 'bulletin', 'bug', 'buckle', 'brutally', 'brothers', 'brings', 'braking', 'boxer', 'bound', 'boot', 'bluetooth', 'bluejays', 'blows', 'blocking', 'bless', 'bitches', 'bid', 'bff', 'beyonce', 'benefits', 'bell', 'begins', 'bees', 'beer', 'bedroom', 'beats', 'bears', 'battling', 'battery', 'bathroom', 'base', 'bands', 'bake', 'averted', 'average', 'av', 'auth', 'aussie', 'auctions', 'attacking', 'atlanta', 'assistance', 'asian', 'asia', 'arabian', 'apple', 'anybody', 'answers', 'ankle', 'angeles', 'analysis', 'america\\x89Ûªs', 'americas', 'allowed', 'alleged', 'alert', 'alcohol', 'alberta', 'alaska', 'agreed', 'admits', 'active', 'activates', 'accuses', 'ability', 'abbswinston', '852015', '80s', '800', '6aug', '5pm', '5000', '48', '3rd', '39', '370', '360wisenews', '34', '2pm', '2pcs', '29072015', '23', '21', '2030', '2009', '18w', '13000', '125', '1200', '10th', '02', 'å¨', '\\x89Û÷extremely', '\\x89ÛÏwe', '\\x89ÛÏrichmond', '\\x89ÛÏhatchet', 'zayn', 'yugvani', 'yorker', 'yep', 'yemen', 'yea', 'yahoonews', 'yahoo', 'xxx', 'wwi', 'wrapup', 'worldnetdaily', 'wom', 'wnd', 'witter', 'winter', 'willing', 'widespread', 'wicked', 'wi', 'wht', 'whales', 'weight', 'wee', 'weathernetwork', 'wear', 'weak', 'waterways', 'waterresistant', 'washed', 'warships', 'warned', 'warne', 'warn', 'warcraft', 'wannabe', 'walls', 'walker', 'voter', 'volga', 'vladimir', 'visited', 'virus', 'virgil', 'vip', 'villages', 'villagers', 'vid', 'vet', 'vest', 'vermont', 'verdict', 'venezuela', 'vegetarian', 'vegas', 'variety', 'vampiro', 'vacation', 'usnwsgov', 'urgent', 'unsafe', 'unknown', 'uniform', 'underway', 'undercover', 'unawares', 'unavoidable', 'ud', 'uber', 'tyre', 'ty', 'twins', 'turning', 'tunnel', 'tune', 'ts', 'trubgme', 'trs', 'triple', 'tries', 'trials', 'transporting', 'transformation', 'transfer', 'trafford', 'tr', 'towards', 'torch', 'tooth', 'tool', 'tonights', 'tomorrows', 'tmp', 'titan', 'tinyjecht', 'timeline', 'tilnow', 'til', 'tied', 'tie', 'ticket', 'thru', 'threats', 'third', 'thinks', 'thin', 'thick', 'the\\x89Û', 'theyd', 'therapy', 'that\\x89Ûªs', 'tflbusalerts', 'tf', 'tested', 'terrifying', 'terms', 'temper', 'tells', 'telegraph', 'teaching', 'teachers', 'tdp', 'tb', 'taxiways', 'targets', 'talks', 'talent', 'taco', 'tab\\x89Û', 'systems', 'sympathy', 'swing', 'swells', 'sweden', 'suv', 'survivor', 'surge', 'surface', 'surf', 'surely', 'surah', 'supervisor', 'superhero', 'suffering', 'suffered', 'stylish', 'stuck', 'strikes', 'stressed', 'stomach', 'stewart', 'stepped', 'stephen', 'step', 'steam', 'stays', 'startup', 'starring', 'standing', 'stamp', 'spinningbot', 'spinning', 'speed', 'specimens', 'specific', 'specif', 'spears', 'souls', 'songs', 'soldier', 'socialism', 'smoky', 'sm', 'slowly', 'slower', 'slip', 'slate', 'skirt', 'skills', 'sized', 'sittwe', 'sitting\\x89Û', 'sites', 'sink', 'silvergray', 'silent', 'significant', 'sight', 'showcase', 'shoulders', 'shook', 'shocked', 'shock', 'shitty', 'shirt', 'shipwreck', 'shelby', 'shedding', 'shared', 'shanghai', 'sexy', 'settlement', 'sends', 'sending', 'seemed', 'seasons', 'screenshots', 'scotland', 'scoopit', 'scifi', 'schiphol', 'scars', 'sb', 'savebees', 'sassy', 'sand', 'sampling', 'salvation', 'salmon', 'safely', 'saddlebrooke', 'rwy', 'rworldnews', 'runner', 'ruined', 'royal', 'rome', 'roller', 'role', 'robotrainstorm', 'robinson', 'roberts', 'roanoke', 'ripped', 'rid', 'rickperry', 'rexyy', 'revolution', 'reviews', 'revenues', 'returns', 'returned', 'retail', 'resulted', 'restaurant', 'responded', 'republic', 'repeat', 'reopening', 'reminder', 'relax', 'regret', 'registered', 'regarding', 'refused', 'reflect', 'referring', 'recycling', 'recover', 'recipes', 'recalls', 'realtime', 'realmandyrain', 'realdonaldtrump', 'raynbowaffair', 'range', 'ramag', 'rainfall', 'raid', 'radioactive', 'quotes', 'queens', 'purchase', 'pun', 'pull', 'ptsdchat', 'ptsd', 'psychological', 'psychiatric', 'provide', 'protests', 'propertycasualty', 'prompted', 'profit', 'proceeds', 'procedures', 'private', 'preview', 'present', 'premium', 'premature', 'prefer', 'prayers', 'posting', 'possibly', 'portion', 'porn', 'popular', 'pond', 'poland', 'pockets', 'plays', 'planning', 'pizza', 'pisgah', 'pillow', 'pieces', 'photographer', 'pets', 'period', 'peoples', 'penalties', 'peaceful', 'pattern', 'patched', 'patch', 'passed', 'panel', 'pam', 'palin', 'pack', 'outflow', 'os', 'ornament', 'origin', 'orange', 'oral', 'opus', 'options', 'ops', 'opposition', 'oper', 'openly', 'ooh', 'ontario', 'omars', 'olive', 'older', 'olap', 'ohio', 'offensiveåÊcontent', 'offensive\\x89Ûª', 'odeon', 'odds', 'odd', 'occurs', 'occupants', 'oc', 'oak', 'nyt', 'numbered', 'nuggets', 'nsfw', 'ns', 'nri', 'noticed', 'note', 'nose', 'noncompliant', 'non', 'noise', 'nm', 'nike', 'niece', 'nickcannon', 'nfl', 'newsintweets', 'neither', 'needle', 'necessary', 'nbcnews', 'navbl', 'nations', 'nasty', 'nap', 'musician', 'multiplayer', 'mullah', 'msf', 'movement', 'mountaineering', 'moth', 'moral', 'modiministry', 'modi', 'models', 'model', 'mnpdnashville', 'mkx', 'mitt\\x89Û\\x9d', 'mitigation', 'mistake', 'mirage', 'mins', 'minority', 'minor', 'minaj', 'milkshake', 'milk', 'militant', 'mike', 'mfs', 'mf', 'metrofmtalk', 'metrics', 'method', 'mercy', 'mercury', 'mentioned', 'mentally', 'mental', 'memphis', 'member', 'melt', 'mega', 'meat', 'mcilroy', 'mcdonalds', 'mattson', 'matters', 'mate', 'matches', 'marvel', 'marker', 'marine', 'marijuana', 'manmade', 'maj', 'magnum', 'ma', 'm194', 'luis', 'lrt', 'lover', 'loses', 'lonewolffur', 'log', 'locker', 'locke', 'lock', 'local\\x89Û', 'localarsonist', 'listenlive', 'listenbuy', 'limit', 'lighting', 'lgbt', 'lessons', 'lesbian', 'leo', 'len', 'leisure', 'lego', 'legion', 'legendary', 'leg', 'leadership', 'lay', 'launch', 'laugh', 'lately', 'las', 'languages', 'langley', 'landfall', 'laid', 'l', 'kuwait', 'kurtschlichter', 'kurdish', 'korea', 'komen', 'knoxville', 'kingdom', 'kiernan', 'kicked', 'key', 'kenya', 'karachi', 'kalle', 'just\\x89Û', 'jupiters', 'julie', 'journalist', 'jon', 'joke', 'joining', 'johnson', 'johannesburg', 'joel', 'jimmyfallon', 'jesus', 'jazz', 'jays', 'jay', 'jax', 'japans', 'jan', 'james', 'jail', 'j', 'i\\x89Ûªve', 'itunesmusic', 'irish', 'ireland', 'involved', 'integrity', 'instant', 'installation', 'inst', 'inning', 'ink', 'initial', 'inevitable', 'indonesia', 'individuals', 'individual', 'independent', 'imported', 'illinois', 'ik', 'idps', 'idiot', 'icymi', 'ibooklove', 'ianhellfire', 'ian', 'hybrid', 'hurry', 'hunk', 'hunger', 'hundred', 'humidity', 'humaza', 'httptcoo91f3cyy0r', 'httptconnmqlz91o9', 'httptcocybksxhf7d', 'httptcocedcugeuws', 'httptcobbdpnj8xsx', 'httptco9nwajli9cr', 'httpstcorqwuoy1fm4', 'httpstcodehmym5lpk', 'however', 'houston', 'horrors', 'honey', 'historic', 'hillary', 'hike', 'highly', 'higher', 'helps', 'headset', 'hating', 'hatchet', 'hatcap', 'hashtag', 'harrybecareful', 'harper', 'happiness', 'hang', 'hampshire', 'hamilton', 'hamas', 'haiyan', 'gunshot', 'gunsense', 'guilty', 'guided', 'guard', 'growth', 'grown', 'grove', 'groom', 'grew', 'greg', 'greeces', 'grand', 'grabbers', 'gps', 'gopdebate', 'gon', 'goals', 'glorious', 'gives', 'gerenciatodos', 'georgia', 'genuine', 'generally', 'gem', 'gateau', 'gamergate', 'gameplay', 'fyi', 'funds', 'fuels', 'fuckin', 'frozen', 'frontpage', 'freezing', 'frank', 'fraction', 'foul', 'formed', 'forgiven', 'ford', 'footage', 'foot', 'flying', 'flower', 'floated', 'flaming', 'fkn', 'fixed', 'fitness', 'fit', 'fishing', 'finishing', 'finish', 'finger', 'filled', 'ferguson', 'feminist', 'feelings', 'fed', 'features', 'fd', 'fb', 'favourite', 'fashionable', 'faroeislands', 'farm', 'fam', 'fallen', 'fair', 'facts', 'factors', 'extends', 'exploit', 'experiencing', 'experienced', 'expensive', 'expecting', 'existence', 'excellent', 'example', 'evidence', 'euro', 'eu', 'esp', 'er', 'eq', 'environmental', 'environment', 'entering', 'enrt', 'enjoyed', 'engine', 'ending', 'encounter', 'en', 'embroidered', 'email', 'elite', 'eight', 'ego', 'eggs', 'egged', 'ee', 'editor', 'ed', 'eb', 'eaten', 'eastern', 'earthquakes', 'ear', 'dundee', 'dudes', 'dublin', 'dual', 'drives', 'drinks', 'dreams', 'drag', 'dq', 'dorrets', 'dorret', 'donate', 'donald', 'domestic', 'doc', 'dj', 'disgusting', 'discovery', 'disasters', 'disappoints', 'disappearance', 'dis', 'dirt', 'diamondkesawn', 'devalue', 'detained', 'destroying', 'despite', 'designed', 'describing', 'describes', 'dept', 'dental', 'denmark', 'dem', 'deliver', 'delay', 'definitely', 'declined', 'december', 'decades', 'dating', 'dat', 'darkness', 'daesh', 'cutting', 'curb', 'cunts', 'cum', 'cue', 'cuban', 'cta', 'csx', 'cryptic', 'crosses', 'croatian', 'cries', 'cricket', 'crew', 'crashing', 'crackdown', 'counter', 'count', 'correction', 'corners', 'cooler', 'control\\x89Û\\x9d', 'continued', 'context', 'contemplating', 'contained', 'construction', 'consequence', 'conquest', 'connector', 'condition', 'concept', 'commute', 'communication', 'commit', 'comedy', 'combat', 'columbia', 'color', 'collision1141', 'college', 'cobra', 'coastal', 'coach', 'cnbc', 'clothes', 'closures', 'closing', 'closes', 'climb', 'clearedincident', 'claytonbryant', 'cladding', 'citizens', 'circuit', 'circle', 'cigarette', 'chunks', 'chosen', 'choking', 'choices', 'chocolate', 'chicken', 'chewing', 'chevy', 'chest', 'chernobyl', 'checked', 'chases', 'charlotte', 'charges', 'charger', 'chaos', 'changed', 'chain', 'centipede', 'cecilthelion', 'cd', 'cbcca', 'cave', 'catches', 'casual', 'casper', 'carried', 'cargo', 'capsized', 'capital', 'candy', 'camera', 'cam', 'calum5sos', 'cakes', 'caitlin', 'cabin', 'bypass', 'buying', 'butt', 'burnt', 'buried', 'bunch', 'bully', 'buddys', 'bu', 'btw', 'bts', 'bs', 'brush', 'briefing', 'brian', 'breathe', 'breaks', 'breakingnews', 'brave', 'brand', 'brady', 'bp', 'bowling', 'bounty', 'bottom', 'bother', 'born', 'bored', 'bore', 'border', 'boom', 'bookboost', 'bones', 'boko', 'boeing', 'bluedio', 'blowout', 'blowmandyup', 'blow', 'blasts', 'blanket', 'blame', 'blake', 'blah', 'birth', 'birds', 'bio', 'billings', 'bill', 'biker', 'bigamist', 'beware', 'betrayed', 'besides', 'bend', 'belongs', 'belonged', 'beginners', 'beforeitsnews', 'bee', 'becoming', 'beard', 'bbcnews', 'bb4sp', 'battleship', 'batters', 'bath', 'basement', 'bars', 'barn', 'barely', 'bare', 'barackobama', 'bangladesh', 'band', 'background', 'a\\x89Û', 'aware', 'aw', 'avenue', 'aussies', 'at\\x89Û', 'attitude', 'asshole', 'assembly', 'arwx', 'arts', 'artistsunited', 'arsenal', 'arrest', 'arm', 'appreciate', 'applications', 'apch', 'apartment', 'apart', 'aoms', 'anxious', 'anxiety', 'announcement', 'anna', 'angels', 'amirite', 'although', 'alternatives', 'alright', 'alex', 'alarms', 'ahh', 'affects', 'adding', 'acute', 'actual', 'acting', 'acid', 'accused', 'accionempresa', 'abortion', 'abomination', 'abe', 'abandon', '95', '87', '86', '80', '78', '6th', '69', '56', '55', '45', '43rd', '41', '375', '361', '300000', '2us', '27', '2005', '200', '1620', '150foot', '150401', '150', '103', '0day', '09', '010401', '0104', 'åÈ', 'åÇ', 'å', '\\x89Û÷plot', '\\x89Û÷it\\x89Ûªs', '\\x89ÛÏyou', '\\x89ÛÏstretcher', '\\x89ÛÏhannaph\\x89Û\\x9d', '\\x89Û¢åÊdemolition', 'zippednews', 'zionism', 'zimbabwe', 'zaynmalik', 'zabadani', 'yycstorm', 'ypres', 'you\\x89Ûªre', 'you\\x89Ûªll', 'yourselves', 'yougov', 'yesterdays', 'yellow', 'yelling', 'yazidi', 'yankees', 'xv', 'wwwcbplawyers', 'wwe', 'ww2', 'wud', 'wrist', 'wowo', 'wouldn\\x89Ûªt', 'worries', 'worn', 'worldwide', 'works', 'workplace', 'workout', 'worker', 'woods', 'woodlawn', 'wolves', 'wolf', 'wod', 'wocowae', 'wmv', 'wmur9', 'witness', 'wipp', 'wine', 'windy', 'wilshere', 'william', 'wide', 'whose', 'whoops', 'whomever', 'wholesale', 'whoever', 'whoa', 'whitehouse', 'whitbourne', 'whistle', 'whipped', 'whenever', 'whatsapp', 'whale', 'wftv', 'wfp', 'weyreygidi', 'weston', 'wen', 'welfare', 'weighs', 'weekold', 'wednesdays', 'wedn', 'wedaug5th', 'wealthy', 'weallheartonedirection', 'weakening', 'wd', 'wce', 'wbioterrorismampuse', 'wb', 'wayne', 'wattpad', 'watertown', 'waters', 'washingtonpost', 'warrior', 'warming', 'warm', 'walter', 'walked', 'walerga', 'waking', 'waits', 'waist', 'voting', 'voted', 'voodoo', 'voluntary', 'volleyball', 'volcanoåÊinåÊrussia', 'volcanoes', 'vods', 'vital', 'visto', 'visits', 'vision', 'violations', 'vince', 'vietnamese', 'videoveranomtv', 'vida', 'victory', 'vicinity', 'vice', 'vibez', 'vi', 'veteran', 'versions', 'versethe', 'venice', 'vegetable', 've', 'vault', 'vashon', 'various', 'vanuatu', 'vantage', 'vancouver', 'utc5km', 'ut', 'ushed', 'user', 'us101', 'urs', 'upwards', 'uploading', 'upgrading', 'upgraded', 'unrest', 'unrelenting', 'unr', 'unprecedented', 'unnecessary', 'unity', 'unique', 'unions', 'uniforms', 'unhappiness', 'unfortunately', 'unfolded', 'uncle', 'ultimalucha', 'ukraine', 'typos', 'types', 'tyler', 'twovehicle', 'twos', 'twentynine', 'tweetlikeitsseptember11th2001', 'turkmen', 'tuning', 'tunein', 'tuesday', 'ttes', 'tt', 'tsunamiesh', 'tryouts', 'tryout', 'trusty', 'trunk', 'truelove', 'troy', 'troubling', 'troll', 'trinity', 'trillion', 'trick', 'trend', 'tremor', 'trek', 'treeporn', 'treatments', 'treating', 'treated', 'travis', 'traverse', 'travelling', 'traveling', 'transformed', 'trancy', 'tragic', 'trading', 'touched', 'totes', 'torture', 'tornados', 'torching', 'tor', 'topstories', 'tops', 'tomcatarts', 'tomatoes', 'tokyo', 'tlc', 'tix', 'titanic', 'tin', 'timkaine', 'timelapse', 'tigers', 'tides', 'tidal', 'thyroid', 'thy', 'thuggin', 'thu', 'thrown', 'throwingknifes', 'throwback', 'throughout', 'thrones', 'throat', 'threw', 'threaten', 'thisizbwright', 'thisiswhywecanthavenicethings', 'thirsty', 'thirst', 'thighs', 'thief', 'thetawniest', 'therapies', 'theological', 'themed', 'themagickidraps', 'thegame', 'thee', 'thankfully', 'thankful', 'tha', 'tgirl', 'tests', 'testing', 'testimony', 'teslas', 'term', 'tens', 'temptation', 'teeth', 'teens', 'teenagers', 'technologies', 'technique', 'technica', 'teases', 'tear', 'teamstream', 'teamhendrick', 'teacher', 'te', 'tch', 'tc', 'taylor', 'taught', 'tattoo', 'tastes', 'tasmanias', 'targeted', 'tape', 'tanzania', 'tanks', 'tan', 'talkin', 'tale', 'tak', 'tahoe', 's\\x89Û', 'syndrome', 'symphony', 'sx', 'sws', 'swept', 'sweet2young', 'sweater', 'sweat', 'swear', 'swarm', 'sustainable', 'suspense', 'suryaray', 'survey', 'suruc', 'surrounding', 'surrender', 'surgery', 'surfers', 'suppose', 'supports', 'supply', 'sunny', 'sunnis', 'sundays', 'summit', 'summertime', 'suit', 'suicidebombing', 'suh', 'suddenly', 'sudden', 'subway', 'stuns', 'stunned', 'studio', 'student', 'stu', 'sts', 'struggling', 'strongly', 'stronger', 'stroke', 'striking', 'strikesstrikes', 'strikers', 'striker', 'strict', 'stressful', 'strengthening', 'stout', 'stormchase', 'stores', 'stolen', 'stole', 'stockton', 'stocks', 'sticks', 'stick', 'steal', 'steak', 'stats', 'state\\x89Û', 'startups', 'starbucks', 'stans', 'standwithpp', 'standards', 'stagetwo', 'stacey', 'sr', 'squeeze', 'square', 'sputnik', 'spreading', 'spots', 'sportwatch', 'spontaneously', 'split', 'spilled', 'spending', 'spencers', 'spectacular', 'species', 'specialists', 'specialist', 'speak', 'soviet', 'southdowns', 'soudelors', 'sort', 'sorrows', 'sore', 'soooo', 'sooo', 'soo', 'sons', 'somewhere', 'solve', 'solo', 'solitude', 'solid', 'solicitor', 'sold', 'software', 'softenza', 'soft', 'socialmedia', 'soccer', 'soaking', 'soak', 'snuff', 'snowden', 'snowball', 'sniping', 'sneak', 'snd', 'snapchat', 'snacks', 'smooth', 'smiling', 'smells', 'smell', 'smash', 'slips', 'slipped', 'slides', 'slicker', 'slayer', 'slammed', 'skys', 'skyline', 'skipping', 'skill', 'sketch', 'skanndtyagi', 'sixpenceee', 'sixmeter', 'sis', 'singles', 'sin', 'simultaneous', 'simply', 'simon', 'signup', 'signing', 'sigalert', 'siding', 'sides', 'si', 'shutdown', 'showing', 'showed', 'shouting', 'shout', 'shouldve', 'shore', 'shooter', 'shoot', 'shoe', 'shizune', 'shira', 'sheriff', 'shelli', 'sheet', 'sheeran', 'sheer', 'shed', 'shaw', 'sharing', 'sharethis', 'shantae', 'shania', 'sham', 'shaking', 'shakes', 'shaker', 'sf', 'sewer', 'settle', 'setlist', 'servers', 'server', 'serve', 'servants', 'sequel', 'sept', 'sep', 'selling', 'sell', 'selfies', 'selection', 'seem', 'seduction', 'seal', 'screw', 'screamqueens', 'scream', 'scottwalker', 'scorpions', 'schwarber', 'schedule\\x89Û', 'scares', 'scare', 'scale', 'saturn', 'satan', 'sarcasm', 'sandy', 'sanctioned', 'samesex', 'samanthaturne19', 'salvis', 'salvador', 'sake', 'sailing', 'sail', 'sahib', 'sacramento', 'sa15t', 's2g', 'ryan', 'rutherford', 'rush', 'ruins', 'ruining', 'ruebs', 'rudd', 'rtrrt', 'rtamerica', 'rss', 'rpics', 'royals', 'royalcarribean', 'rover', 'routecomplex', 'rotten', 'rotator', 'rossum', 'roses', 'rory', 'ronnie', 'ronaldo', 'rolls', 'rohnertparkdps', 'roh3', 'rogue', 'roger', 'rockbottomradfm', 'riyadh', 'riversiskiyou', 'risks', 'rio', 'rihanna', 'rightwaystan', 'rightways', 'rifles', 'riding', 'riders', 'rick', 'rich', 'rey', 'revelation', 'rev', 'retweet', 'retro', 'resulting', 'restricted', 'restive', 'restaurants', 'responder', 'respected', 'resources', 'reshapes', 'required', 'request', 'repay', 'repairs', 'rep', 'reopens', 'reopen', 'renison', 'removing', 'removed', 'removal', 'remorse', 'remix', 'religion', 'relentless', 'relationship', 'rejects', 'rejected', 'reject', 'reinstate', 'reids', 'reid', 'regional', 'regardless', 'regard', 'refuse', 'redeemeth', 'recreates', 'recording', 'recommended', 'receive', 'recap', 'realised', 'reads', 'reacted', 'react', 'reaches', 'rdhorndale', 'rcmp', 'rb', 'raÌ¼l', 'razing', 'raynor', 'rayner', 'raw', 'raung', 'rating', 'rates', 'rated', 'rat', 'rapping', 'rappers', 'rapper', 'rapidcity', 'rap', 'random', 'rammed', 'raised', 'rainier', 'rained', 'railways', 'railway', 'rails', 'raiders', 'rages', 'racing', 'quoted', 'questioning', 'que', 'quartz', 'quarters', 'q', 'p\\x89Û', 'putins', 'pushing', 'push', 'purchased', 'puppy', 'puppies', 'punjab', 'punishment', 'punished', 'puncture', 'pulwama', 'pulling', 'publicizing', 'ptbo', 'pt', 'psalms', 'ps4', 'proud', 'protesting', 'protection', 'protecting', 'protectdenaliwolves', 'prosyn', 'proposed', 'proper', 'proof', 'prone', 'promote', 'projects', 'programme', 'professional', 'product', 'prod', 'privacy', 'priority', 'priorities', 'primarily', 'priceless', 'previous', 'prevention', 'pretend', 'pressed', 'preservation', 'presence', 'prepper', 'preparing', 'preorder', 'premonitions', 'premiere', 'premier', 'prediction', 'predator', 'precious', 'pre', 'potentially', 'posters', 'postbattle', 'possibility', 'poss', 'portugal', 'popularmmos', 'pops', 'poplar', 'pope', 'poorly', 'pomo', 'politifiact', 'policerun', 'pointing', 'poem', 'pocket', 'po', 'pmharper', 'pmarca', 'pluto', 'plummeted', 'pllolz', 'plenty', 'pledge', 'pleasure', 'platform', 'plants', 'planes', 'placing', 'placed', 'pjnet', 'pits', 'pitchers', 'pissed', 'pinpoint', 'piner', 'pillows', 'pill', 'pictures', 'pickup', 'pickerel', 'physicians', 'photoset', 'philadelphia', 'phil', 'phew', 'phase', 'pharaoh', 'phantom', 'peterjukes', 'pertains', 'personally', 'perquisite', 'permits', 'permanently', 'permanent', 'performing', 'performance', 'per', 'pennington', 'penn', 'pendleton', 'peeps', 'pedestrians', 'pedestrian', 'peak', 'peacefully', 'pdx911', 'pcps', 'pays', 'paved', 'pattonoswalt', 'patriot', 'pathogen', 'pasta', 'password', 'partnerships', 'particularly', 'paris', 'paramedic', 'parade', 'pants', 'pan', 'pakpattan', 'pakistannews', 'pair', 'paint', 'paid', 'pa', 'ovofest', 'ovo', 'overwork', 'overlooking', 'overload', 'ouvindo', 'outfit', 'outbid', 'outage', 'ourselves', 'otherwise', 'oth', 'oso', 'osborn', 'originalfunko', 'organizations', 'organic', 'org', 'oregon', 'ordered', 'opp', 'operations', 'opera', 'oped', 'oooooohhhh', 'oooh', 'oo', 'onlinecommunities', 'oneself', 'omega', 'oks', 'okinawa', 'ohh', 'offs', 'offramp', 'offr', 'offices', 'offers2go', 'obviously', 'obsessed', 'objects', 'obispo', 'nylon', 'nwo', 'nv', 'nurses', 'nuff', 'nude', 'ntsb', 'nowhere', 'november', 'novel', 'notifications', 'noted', 'nosurrender', 'nostrils', 'nostalgia', 'northwest', 'northland', 'northeast', 'norman', 'nor', 'nope', 'nonlife', 'noaa', 'njturnpike', 'njenga', 'nj', 'nixon', 'nikeplus', 'nights', 'nightmare', 'nickcocofree', 'nick', 'niall', 'nhs', 'nh', 'new\\x89Û', 'newzsacramento', 'newswatch', 'newsarama', 'newbie', 'newberg', 'neverending', 'netanyahu', 'nestleindia', 'nepal', 'neighborhood', 'neck', 'nda', 'nbc', 'nba', 'nazi', 'native', 'nasasolarsystem', 'narendramodi', 'nankana', 'nan', 'names', 'najib', 'nail', 'm\\x89Û', 'myfitnesspal', 'mv', 'muzzamil', 'mutual', 'mutant', 'musik', 'musicians', 'murders', 'murderers', 'mum', 'multidimensi', 'multi', 'mukilteo', 'mud', 'msnbc', 'moyo', 'mouth', 'mourns', 'moulding', 'motion', 'moscow', 'mooresville', 'montgomery', 'montetjwitter11', 'monster', 'monkeys', 'monkey', 'monitoring', 'monitor', 'moms', 'mohammed', 'moderate', 'mock', 'mobile', 'mmmmmm', 'ml', 'miyagi', 'mistreated', 'mississauga', 'missionhills', 'missiles', 'misses', 'mishacollins', 'misery', 'ministers', 'minions', 'minimehh', 'minhazmerchant', 'milwaukee', 'migrants\\x89Û', 'midwest', 'midsouth', 'midget', 'mid', 'microsofts', 'microsoft', 'microphone', 'micom', 'michelebachman', 'mic', 'mi17', 'mgm', 'metlife', 'meteoearth', 'met', 'messi', 'messed', 'messages', 'mercados', 'meme', 'meinlcymbals', 'megynkelly', 'meets', 'medium', 'medieval', 'medicine', 'medals', 'mechanical', 'measles', 'meaning', 'mcmahon', 'mchenry', 'mc', 'matthew', 'material', 'matching', 'master', 'massmurderer', 'martinmj22', 'marshall', 'married', 'marquei', 'marlon', 'marketing', 'marines', 'mariah', 'march', 'maps', 'manufactured', 'mania', 'mandatory', 'mamata', 'malik', 'maketh', 'maker', 'maintain', 'magginoodle', 'mafia', 'madison', 'lyrics', 'lying', 'luka', 'luchaunderground', 'lubbock', 'lovedup', 'lous', 'lotz', 'loseit', 'losdelsonido', 'loretta', 'looses', 'looping', 'longterm', 'longs', 'lone', 'londonfire', 'lolol', 'lollapalooza', 'logistics', 'logic', 'locked', 'located', 'loans', 'loads', 'loading', 'loaded', 'lmfaoooo', 'llf', 'lizards', 'livingsafely', 'liveonk2', 'lived', 'lith', 'lit', 'links', 'lines', 'likes', 'lightningcaused', 'lifting', 'lifetime', 'lifethreatening', 'lifestyle', 'liberal', 'liable', 'liability', 'lglorg', 'letter', 'letsfootball', 'lesson', 'lemon', 'legs', 'legislation', 'legio', 'leeds', 'learned', 'leaks', 'leaked', 'leak', 'layout', 'lawsuit', 'lawrence', 'lavenderpoetrycafe', 'lauren', 'laundry', 'latimes', 'latestnews', 'lasting', 'laois', 'lansdowne', 'language', 'lanes', 'landscape', 'lands', 'lance', 'lamha', 'lakes', 'labs', 'label', 'kurd', 'ks94', 'ks', 'kraft', 'kowing', 'koin6news', 'knowing', 'knob', 'knife', 'knees', 'km', 'kittens', 'kith', 'kisses', 'kissed', 'kiss', 'kings', 'kindness', 'kindermorgan', 'killings', 'killers', 'kiev', 'kidding', 'kerry', 'keratin', 'kendall', 'ke', 'katunews', 'katrina', 'katherines', 'kashmir', 'karma', 'kanye', 'kaduna', 'justmarried', 'justifying', 'justified', 'jurors', 'junk', 'june', 'jumped', 'juliedicaro', 'juice', 'jr', 'jp', 'journal', 'jose', 'jonvoyage', 'jones94kyle', 'jones', 'jonathanferrell', 'joint', 'johns', 'johnny', 'jkl', 'jim', 'jhaustin', 'jewelry', 'jerry', 'jenner', 'jeff', 'jealous', 'jdabe80', 'japton', 'jams', 'jamesmelville', 'jamaicaplain', 'jamaicaobserver', 'jailed', 'jacque', 'jacket', 'ja', 'i\\x89Ûªd', 'ivanberroa', 'itsjustinstuart', 'itll', 'items', 'item', 'isil', 'irony', 'ironic', 'iredell', 'iranians', 'ipod', 'ipad', 'in\\x89Û', 'investing', 'investigation', 'investigate', 'invest', 'invasion', 'interviews', 'interstate', 'interlaken', 'intelligence', 'intact', 'insubcontinent', 'inspiring', 'inspections', 'insomnia', 'insight', 'insas', 'innovation', 'injures', 'infosec', 'infinity', 'inferno', 'infectious', 'inevitably', 'inec', 'indoors', 'indie', 'indiannews', 'indi', 'incredibly', 'increase', 'incase', 'inc', 'impulse', 'improve', 'impressive', 'impressed', 'important', 'imperfect', 'impending', 'impacted', 'immediately', 'imdb', 'imagined', 'ima', 'illustration', 'ihhen', 'ignored', 'ignore', 'idol', 'idis', 'identitytheft', 'idc', 'iconic', 'icelandreview', 'i95', 'i580', 'i405', 'i10', 'h\\x89Û', 'hysteria', 'hypocrisy', 'hyderabad', 'hurricanes', 'hurricanedolce', 'humble', 'humanconsumption', 'hug', 'httpt\\x89Û', 'httptcozevakjapcz', 'httptcozdtoyd8ebj', 'httptcoyduixefipe', 'httptcoydetwgribk', 'httptcoxssgedsbh4', 'httptcoxpfmr368uf', 'httptcovz1irh0nmm', 'httptcovxvfaeey0q', 'httptcovam5podgyw', 'httptcov3azwoamzk', 'httptcouoozxaus26', 'httptcoskqpwsnoin', 'httptcosdgoutwntb', 'httptcosaf9mosksn', 'httptcoroi2nsmejj', 'httptcopyehwodwun', 'httptcopvmr38lnva', 'httptcopo19h8ycnd', 'httptcophixznv1yn', 'httptconmfsgkf1za', 'httptcomg5eajelul', 'httptcomfckpvzfv8', 'httptcom5kxlpkfa1', 'httptcom203ul6o7p', 'httptcolxtjc87kls', 'httptcolwwojxttiv', 'httptcojhpdssvhve', 'httptcoj5mkcbkcov', 'httptcoio7kuug1uq', 'httptcoiikssjgbdn', 'httptcoidmhswewqw', 'httptcoi27oa0hisp', 'httptcoeysvvza7qm', 'httptcoedyfo6e2pu', 'httptcodydfvz7amj', 'httptcoct9ejxolpu', 'httptcoc1h7jecfrv', 'httptcobtdjgwekqx', 'httptcoafmkcfn1tl', 'httptco7hanpcr5rk', 'httptco3tj8zjin21', 'httptco3sicroaanz', 'httptco0wratka2jl', 'httpstcowudlkq7ncx', 'httpstcolfkmtzaekk', 'httpstcoe8dl1lncvu', 'hr', 'housed', 'hottest', 'hostageamp2', 'hospitals', 'hoping', 'hood', 'honest', 'homs', 'homie', 'homeowners', 'holmgren', 'holed', 'holds', 'hoes', 'hoe', 'hockey', 'hmu', 'hmm', 'hiroshima70', 'hiphop', 'hinton', 'himalaya', 'hiding', 'hide', 'hidden', 'hew', 'heros', 'heroin', 'hermancranston', 'henry', 'helpline', 'hella', 'helicopters', 'heavenly', 'heartwarming', 'heartless', 'hearthstone', 'healthy', 'healthcare', 'healing', 'heal', 'headlines', 'hazmat', 'have\\x89Û', 'hatred', 'hatchetwielding', 'harwich', 'harmkid', 'hardy', 'hardline', 'hardcore', 'happily', 'handling', 'handle', 'hamburg', 'halt', 'hall', 'hahahaha', 'hahahah', 'hahaha', 'hahah', 'hah', 'hadnt', 'hackers', 'hack', 'habits', 'gym', 'gust', 'gunmen', 'gum', 'guest', 'guaranteed', 'gtii', 'growingupblack', 'growing', 'grounds', 'grenades', 'greenway', 'greenharvard', 'greek', 'greatbritishbakeoff', 'graveyard', 'gravel', 'grass', 'grandpa', 'grandeur', 'grande', 'gpm', 'governments', 'goulburn', 'gorgeous', 'goodbye', 'golem', 'goldstein', 'goku', 'gofundme', 'goat', 'gn', 'gmt', 'gmmbc', 'gloucester', 'globe', 'globalwarming', 'glink', 'glimpses', 'glenn', 'glasses', 'giveaway', 'gilbert23', 'gig', 'gif', 'ghostwriter', 'gg', 'geometric', 'genius', 'geneva', 'generalnews', 'gel', 'gear', 'gd', 'gays', 'gawx', 'gates', 'garfield', 'gardens', 'garbage', 'gander', 'gaining', 'gain', 'gadgets', 'ga', 'fury', 'function', 'fukushimatepco', 'fueling', 'fruits', 'frontlines', 'friggin', 'friendship', 'fresno', 'freshman', 'freaking', 'franklin', 'fran', 'fragile', 'foxnew\\x89Û', 'fouseytube', 'fourth', 'foster', 'for\\x89Û', 'fortune', 'fortunately', 'forth', 'forsure', 'forgive', 'forex', 'foreign', 'forbid', 'fool', 'foodscare', 'follower', 'folk', 'fold', 'fm', 'fluid', 'flow', 'florida\\x89Û', 'float', 'flip', 'fleeing', 'fled', 'flashbacks', 'fixing', 'fist', 'fire\\x89Û', 'firey', 'firetruck', 'firemen', 'firefighting', 'fir', 'finished', 'financing', 'fill', 'files', 'file', 'fifty', 'fifa16', 'fierce', 'fieg', 'fi', 'fevwarrior', 'fest', 'ferries', 'ferguson\\x89Ûªs', 'fergusons', 'fennovoima', 'fella', 'feinstein', 'federal', 'featured', 'feast', 'favs', 'favorites', 'favor', 'faulty', 'fathers', 'fatburning', 'fatally', 'fatalityus', 'fart', 'familia', 'fallacy', 'fairy', 'fairfax', 'fading', 'facing', 'facility', 'fabric', 'extinguished', 'exterminate', 'extensive', 'extension', 'extender', 'explores', 'explodes', 'explain', 'expand', 'exited', 'exhibition', 'exhausted', 'exercised', 'executing', 'excuse', 'exclusive', 'exciting', 'excited', 'exc', 'examiner', 'evolve', 'everytime', 'everybody', 'evansville', 'evanston', 'evacuating', 'ev', 'eurotunnel', 'eudrylantiqua', 'etisalat', 'et', 'esteemed', 'esh', 'escaping', 'escaped', 'ergo', 'equate', 'epicenter', 'en\\x89Û', 'envw98', 'entrepreneur', 'enroute', 'enormous', 'enhanced', 'engvaus', 'engage', 'enemies', 'endures', 'endorses', 'endangered', 'encouragement', 'encore', 'enabled', 'empty', 'empire', 'emperor', 'emotionally', 'emerges', 'emerg', 'elsa', 'elliott', 'elkhorn', 'elizabeth', 'element', 'electricity', 'eh', 'egypt', 'efak', 'ef5', 'edge', 'economies', 'eastward', 'ears', 'earnings', 'earned', 'earbuds', 'dystopian', 'dye', 'dwarves', 'dvc', 'durant', 'dunbar', 'dumb', 'dukes', 'ducks', 'duck', 'dt', 'ds', 'dryer', 'drum', 'dropping', 'droid', 'drivers', 'drifting', 'drew', 'dressed', 'dreaming', 'draw', 'drama', 'dozen', 'downstairs', 'downpours', 'downfall', 'douchebag', 'doublecups', 'dothraki', 'dorman', 'dopey', 'dope', 'doors', 'donå«t', 'dolphin', 'dollars', 'document', 'doctors', 'doctor', 'dock', 'dmpl', 'dm', 'dlh', 'divided', 'district', 'distinct', 'disruptive', 'displace', 'discussion', 'disappeared', 'disappear', 'directors', 'director', 'diplomacy', 'dijk\\x89Ûª', 'dignity', 'digits', 'digital', 'difficult', 'diesis', 'dickheads', 'dick', 'diarrhea', 'diaporama', 'diamorfiend', 'diablo', 'dey', 'devil', 'device', 'develop', 'detroit', 'destructive', 'destroyer', 'despair', 'desk', 'deserves', 'deserve', 'descriptions', 'derby', 'deputy', 'deny', 'denier', 'denial', 'denali', 'dems', 'demon', 'democrats', 'demi', 'delete', 'delayed', 'del', 'define', 'defects', 'def', 'deeds', 'decor', 'declared', 'deck\\x89Û\\x9d', 'deck', 'decent', 'debatequestionswewanttohear', 'dealbreaker', 'deadliest', 'daytoday', 'davidcameron', 'dates', 'darkest', 'dante', 'dannyonpc', 'danisnotonfire', 'daniels', 'dances', 'dambisa', 'damaging', 'cyclists', 'cycling', 'customs', 'customers', 'custom', 'custer', 'cus', 'curiosity', 'cuff', 'ctd', 'cs', 'crusty', 'crude', 'crowns', 'croat', 'critical', 'crippling', 'criminal', 'crimes', 'cried', 'crickets', 'credit', 'creating', 'creates', 'crane', 'cracks', 'cracking', 'crack', 'coyotes', 'coworker', 'cowboys', 'cow', 'coverage', 'cousins', 'courts', 'coursing', 'countynews', 'countrys', 'countless', 'couldve', 'costly', 'correspondent', 'correct', 'corp', 'corleonedaboss', 'corey', 'coral', 'copycats', 'coping', 'cope', 'cooking', 'conversations', 'conversation', 'contruction', 'controllers', 'controlled', 'contributing', 'contrast', 'contract', 'continually', 'contain', 'contact', 'constant', 'console', 'conservative', 'consent', 'connectorconnecto', 'condolence', 'condemnation', 'condemn', 'concrete', 'concluded', 'con', 'compound', 'complications', 'completed', 'complaints', 'compete', 'comparison', 'comp', 'como', 'committee', 'committed', 'commerce', 'command', 'colluded', 'collective', 'cole', 'colder', 'col', 'coincide', 'cod', 'cockpit', 'cocaine', 'coat', 'coaster', 'cnewslive', 'cmon', 'cm', 'clueless', 'closest', 'cliffs', 'clever', 'cleric', 'cleared', 'cld', 'claimed', 'cjoyner', 'civilization', 'cityofcalgary', 'cites', 'circus', 'chronicle', 'christie', 'christ', 'chris', 'choose', 'chills', 'chiefs', 'chick', 'cheyenne', 'chevrolet', 'chesttorso', 'cheryl', 'cherry', 'cherokee', 'chase', 'channels', 'changing', 'chances', 'chan', 'championship', 'challenges', 'chairs', 'chairman', 'chair', 'cfc', 'certified', 'certificate', 'centers', 'census', 'cement', 'celebrations', 'cbsbigbrother', 'cbs', 'cbc', 'cawx', 'catching', 'castle', 'casperrmg', 'cash', 'cart', 'carr', 'carpet', 'carlos', 'caribbean', 'careers', 'cape', 'canvas', 'cannon', 'candle', 'cancers', 'cancels', 'cancelled', 'canadas', 'camps', 'camping', 'cameo', 'calumet', 'cairo', 'cafire', 'cafe', 'cadfyi', 'cables', 'cab', 'c4news', 'b\\x89Û', 'bwp', 'butterfinger', 'busy', 'bundle', 'bumper', 'bump', 'bullseye', 'bullets', 'builds', 'buffer', 'bubble', 'brunette', 'bruise', 'brooke', 'bronx', 'britons', 'britney', 'brisk', 'brighton', 'brigade', 'brief', 'brick', 'brewing', 'breathing', 'bread', 'brazilian', 'bradleybrad47', 'boxing', 'bounds', 'boundary', 'boundaries', 'bottle', 'boise', 'bodys', 'bodybagging', 'bobcats', 'bmw', 'blutz10', 'blunt', 'blues', 'blueprint', 'bloomberg', 'blocks', 'blizzheroes', 'blizzarddraco', 'blames', 'blackpool', 'blacklivesmatter', 'bits', 'bites', 'bite', 'bitcoin', 'bistro', 'birmingham', 'biological', 'bills', 'billneelynbc', 'billboard', 'bicycles', 'bicycle', 'bicep', 'betz', 'bets', 'bethlehem', 'bestseller', 'bengal', 'belt', 'belly', 'believing', 'beliefs', 'belief', 'behalf', 'begging', 'beclearoncancer', 'beckarnley', 'beauty', 'bean', 'battles', 'batting', 'batteries', 'battered', 'basis', 'basically', 'bashes', 'baruch', 'barrier', 'banquet', 'bangin', 'banerjee', 'bancodeseries', 'baltimore', 'balls', 'balance', 'bakeofffriends', 'bail', 'bago', 'backyards', 'backyard', 'backup', 'backs', 'ay', 'awwww', 'awareness', 'awaits', 'avoided', 'aviation', 'avengers', 'available', 'autumn', 'autoinsurance', 'autistic', 'author', 'authentic', 'australia\\x89Ûªs', 'austin', 'aust', 'aunt', 'audience', 'auction', 'auckland', 'attraction', 'attic', 'attendance', 'attempting', 'attempt', 'atmospheric', 'atmosphere', 'atm', 'atlantic', 'atk', 'athlete', 'astrology', 'association', 'assisting', 'assistant', 'assholes', 'asleep', 'asks', 'askcharley', 'asics', 'ashley', 'ashayo', 'ash', 'asf', 'artist', 'artificial', 'arsonistmusic', 'ars', 'arriving', 'arnhem', 'armory', 'armed', 'arizona', 'ariaahrary', 'argument', 'area\\x89Û', 'architecture', 'architect', 'aquarium', 'apt', 'april', 'approves', 'approval', 'appropriation', 'approaching', 'appreciated', 'appointment', 'applies', 'applaud', 'apollobrown', 'apocalyptic', 'apartments', 'aogashima', 'anyways', 'any1', 'antonio', 'annoying', 'announces', 'announced', 'ani', 'anger', 'andrew', 'andor', 'ames', 'ambulances', 'alot', 'alois', 'ally', 'alloy', 'allies', 'allegiance', 'allegations', 'aliens', 'alien', 'alexbelloli', 'alerts', 'albany', 'alarmed', 'ak', 'agrees', 'aggressive', 'ages', 'agents', 'agency', 'ag', 'africans', 'afp', 'affiliation', 'affiliate', 'affecting', 'afc', 'advised', 'advice', 'advertised', 'adventures', 'advanced', 'admit', 'administration', 'admin', 'addition', 'adam', 'ad', 'actor', 'activities', 'acted', 'acquire', 'acoustic', 'achimota', 'accustomed', 'accounts', 'accept', 'acc', 'ac', 'abusing', 'abuseddesolateamplost', 'abused', 'abubaraa1', 'absolute', 'abomb', 'abia', 'abc7', 'abbott', 'aa', 'a5', 'a1', '9pm', '9newsgoldcoast', '9am', '96', '90th', '90blksamp8whts', '9000', '900', '8th', '8pin', '84', '83', '77', '75', '72w', '64', '61st', '60mph', '60000', '5th', '5sosfam', '5sos', '5s', '5c', '57', '548', '530', '53', '4th', '4playthursdays', '4km', '4500feet', '43', '429cj', '3m', '3inspired', '3942', '360', '36', '32', '2k15', '299', '29', '28', '23km', '235409', '233liveonline', '21a', '211023', '2082676773', '2016', '20150805', '2012', '2010', '2008', '2000', '1999', '1998', '1986', '1979', '1976', '1974', '1970', '1965', '1943', '1916', '18wheeler', '1880', '180', '175225', '1716', '166', '15th', '15km', '143', '140', '12news', '118', '1100', '10km', '109', '1061thetwister', '1038pm', '1030', '100000', '075', '0700', '070', '06jst', '0306', '015025', '005225', 'åÊi', 'åÊfedex', 'å¬only', 'å©daniel', 'å¤', 'å£9', 'å£6bn', 'å£27900end', 'å£150', 'å£100bn', 'Ìü', 'ÌÑ1', 'ÌÑ', 'Ì¢', '\\x89âÂ', '\\x89Û÷we', '\\x89Û÷vulnerable\\x89Ûª', '\\x89Û÷the', '\\x89Û÷second\\x89Ûª', '\\x89Û÷ransomware\\x89Ûª', '\\x89Û÷nuclear', '\\x89Û÷nother\\x89Û\\x9d', '\\x89Û÷muslim', '\\x89Û÷minimum', '\\x89Û÷let\\x89Ûªs', '\\x89Û÷leaves', '\\x89Û÷it', '\\x89Û÷institute', '\\x89Û÷ill', '\\x89Û÷hoax', '\\x89Û÷hijacker', '\\x89Û÷heat', '\\x89Û÷hazard\\x89Ûª', '\\x89Û÷good', '\\x89Û÷food', '\\x89Û÷first\\x89Ûª', '\\x89Û÷faceless\\x89Ûª', '\\x89Û÷faceless', '\\x89Û÷exceptional\\x89Ûª', '\\x89Û÷em', '\\x89Û÷devastated\\x89Ûª', '\\x89Û÷british', '\\x89Û÷bomb', '\\x89Û÷body', '\\x89Û÷badges', '\\x89Û÷avalanche\\x89Ûª', '\\x89Û÷amino', '\\x89Û÷alloosh', '\\x89ÛÓkody', '\\x89ÛÓher', '\\x89ÛÒåÊcnbc', '\\x89ÛÒthe', '\\x89ÛÏymcglaun', '\\x89ÛÏthehighfessions', '\\x89ÛÏthat\\x89Ûªs', '\\x89ÛÏsippin\\x89Ûª', '\\x89ÛÏplans', '\\x89ÛÏparties', '\\x89ÛÏnumbers', '\\x89ÛÏnobody', '\\x89ÛÏmake', '\\x89ÛÏmacdaddyleo', '\\x89ÛÏlordbrathwaite', '\\x89ÛÏlolgop', '\\x89ÛÏleoblakecarter', '\\x89ÛÏleejasper', '\\x89ÛÏkeits', '\\x89ÛÏi', '\\x89ÛÏfor', '\\x89ÛÏfdny', '\\x89ÛÏdylanmcclure55', '\\x89ÛÏdetonate\\x89Û\\x9d', '\\x89ÛÏcat', '\\x89ÛÏbbcwomanshour', '\\x89ÛÏbbcengland', '\\x89ÛÏbasedgeorgie', '\\x89ÛÏall', '\\x89ÛÏairplane\\x89Û\\x9d', '\\x89ÛÏ', '\\x89Û¢\\x89Û¢if', '\\x89Û¢im', '\\x89Û¢', 'zzzz', 'zxathetis', 'zurich', 'zumiez', 'zss', 'zrnf', 'zourryart', 'zotar50', 'zoom', 'zonewolf123', 'zonesthank', 'zones', 'zombies', 'zombiefunrun2014', 'zomatoaus', 'zojadelin', 'zodiac', 'zmne', 'ziuw', 'zippoline', 'zippers', 'zipper', 'zipped', 'ziphimup', 'zip', 'zionists', 'zimmerman', 'zimmer', 'zicac', 'zhenghxn', 'zhejiang', 'zeros', 'zero', 'zergele', 'zeno001', 'zenandemcfen', 'zehrs', 'zeal', 'zaynmaiikist', 'zarry', 'zarharzar', 'zar', 'zamtriossu', 'zaman', 'zakuun', 'zakbagans', 'zaibatsunews', 'zachzaidman', 'zach', 'zacb', 'zaatari', 'z3kesk1', 'yzf', 'yyj', 'yyeso', 'yycweather', 'yycfringe', 'yuvi', 'yuuko', 'yuppies', 'yup', 'yunita99', 'yumiko', 'yum', 'yukis', 'yug', 'yuan', 'ypg', 'yo\\x89Û', 'you\\x89Û\\x9d', 'you\\x89Û', 'youuu', 'youssefyamani', 'yourboyshawn', 'younoone', 'young\\x89Û', 'youngsafe', 'youngins', 'youngerampgrossly', 'younger', 'yosemite', 'yorkshire', 'yor', 'yonews', 'yolk', 'yolandaph', 'yogurt', 'yoga', 'yoenis', 'ymcglaun', 'ykelquiban', 'yiraneuni', 'yikes', 'yield', 'yiayplan', 'yhngsjlg', 'yh', 'yeyeulala', 'yessum', 'yeshayad', 'yennora', 'yemenis', 'yellows', 'yelllowheather', 'yelled', 'yell', 'yehuda', 'yeehaw', 'yeat', 'yeaahh', 'yday', 'ybtheprophet', 'yazidishingalgenocide', 'yard', 'yamashiro', 'yamaguchi', 'yahootv', 'yahoonewsdigest', 'yahoofinancehope', 'yahoocare', 'yahoo7', 'yahistorical', 'yagitudeh', 'yaboiluke', 'xylodemon', 'xxhjesc', 'xvii', 'xtra1360', 'xrays', 'xpost', 'xoxo', 'xojademarie124', 'xo', 'xmen', 'xmas', 'xl', 'xkdrx', 'xii', 'xhnews', 'xgninfinity', 'xfiles', 'xeni', 'xela', 'xekstrin', 'xdojjjj', 'xdescry', 'xboxone', 'xb1', 'xaviermarquis', 'xavier', 'x37bs', 'x2', 'x1441', 'x1434', 'x1411', 'x1402', 'x1392', 'x1386', 'w\\x89Û', 'wzbt', 'wyrmwood', 'wyou', 'wyattb23', 'wxky', 'wxii', 'wxiatv', 'wwwbigbaldhead', 'www', 'wwp', 'wwexdreamer', 'wwa', 'ww3', 'ww', 'wut', 'wugliness', 'wtwitter', 'wtony', 'wth', 'wtc', 'wsvr1686b', 'wsoc', 'wsoaring', 'wsls', 'wsjthinktank', 'wsj', 'wsazbrittany', 'wroug', 'wrote', 'wrongway', 'wrongperson', 'wrongdejavu', 'wrked', 'writingtips', 'writers', 'writebothfists', 'wristband', 'wrightsboro', 'wrestler', 'wrestleon', 'wreak', 'wrapped', 'wrap', 'wraith', 'wr', 'wqow', 'wpt994', 'wps', 'wpo', 'wowthe', 'wowsavannah', 'wout', 'wounded\\x89Û\\x9d', 'woundedpigeon', 'wouldelectrocute', 'worthless', 'worstoverdose', 'worstever', 'worship', 'worsen', 'worseits', 'worrying', 'worm', 'worldwatchesferguson', 'worldvision', 'worldpay', 'worldoil', 'worldnetdailyhomosexuality', 'worldlets', 'workspace', 'workd', 'wordpressdotcom', 'wordk', 'wording', 'wooooooo', 'woodward', 'woodland', 'wooden', 'woodchucks', 'woo', 'wonders', 'wonderousallure', 'wonderkid', 'wonderfully', 'wompppp', 'women\\x89Ûª', 'womengirls', 'womem', 'womb', 'woman\\x89Ûªs', 'wolter', 'wolforth', 'woken', 'woes', 'woah', 'wnw', 'wnukes', 'wniagospel', 'wn', 'wmiddle', 'wm', 'wld', 'wlandslide', 'wkrn', 'wknd', 'wk', 'wizard', 'wiwnpfxa', 'witnessing', 'witnesses', 'witnessed', 'withåÊannihilation', 'withstand', 'withering', 'withdrawur', 'withdraws', 'witch', 'wishlist', 'wishing', 'wished', 'wisely', 'wise', 'wisdomwed', 'wisdom', 'wisdc', 'wipes', 'winnipeg', 'winning', 'winner', 'winik', 'wingers', 'winged', 'wing', 'winechat', 'windwakerstyle', 'windstormåÊinsurer', 'windstormfollow', 'windsor', 'windows10', 'windowgatribble', 'windmy', 'windits', 'win10', 'wimp', 'wimbledon', 'wilsons', 'willow', 'willis', 'willinghearted', 'willieami', 'willian', 'willhillbet', 'wildwestsixgun', 'wildlooking', 'wildlionx3', 'wildlife', 'wildhorses', 'wilden', 'wikipedia', 'wii', 'wifi', 'wifekids', 'wiedemer', 'width', 'widout', 'wider', 'widda16', 'wickett', 'whyor', 'whvholst', 'who\\x89Û', 'whopperjr760', 'whod', 'whocares', 'whitt', 'whitewashes', 'whistled', 'whistleblower', 'whiskey', 'whippenz', 'whipe', 'whimsy', 'while\\x89Û', 'whereas', 'wher', 'whensoever', 'whelen', 'wheelsio', 'wheel', 'whedonesque', 'wheatley', 'whatevs', 'whatever', 'whatcanthedo', 'whashtag', 'whackamole', 'wha', 'wfries', 'wfaaweather', 'we\\x89Ûªve', 'we\\x89Ûªre', 'wexler', 'wews', 'wew', 'west\\x89Ûªs', 'westward', 'wests', 'westminister', 'westmarch', 'westerosnah', 'westeros', 'westerncanadadrought', 'westchester', 'wesleylowery', 'wesley', 'wereonadesolateplanet', 'weren\\x89Ûªt', 'wenger', 'wendell', 'welshninja87', 'weloveyoulouis', 'weloverobdyrdek', 'welovela', 'wells', 'wellknown', 'wellgrounded', 'welles7', 'welladjusted', 'welcomes', 'weirdo', 'weiqin', 'weights', 'weightless', 'weigh', 'weep', 'weeklong', 'weekends', 'weei', 'weebly', 'wednesday\\x89Û', 'wednes', 'wedneday', 'wedgie', 'weddinghour', 'websites', 'webinar', 'web', 'weatherstay', 'weatherit', 'wears', 'weaponxmusic', 'wealilknowa', 'weaknesses', 'weakness', 'wdyouth', 'wdym', 'wdtv', 'wderailed', 'wcw', 'wctv35', 'wccorosen', 'wc', 'wbu', 'wbre', 'wbcshirl2', 'wbc2015', 'waziristan', 'way\\x89Û\\x9dyeah', 'wayward', 'waynesteratl', 'wayi', 'wayfieldstone', 'wave\\x89Ûª', 'waved', 'wattys2015', 'wattle', 'water\\x89Û', 'watersafety', 'waterproof', 'waterfur', 'waterboarding', 'watchthevideo', 'watchout', 'watchin', 'watches', 'wasting', 'wastenoxious', 'wastelands', 'wasted', 'wasn\\x89Ûªt', 'wasnamp8217t', 'wasilla', 'washing', 'washard', 'waseembadami', 'war\\x89Û', 'warzone', 'wartime', 'warthen', 'warsgoddess', 'warriorcord', 'warranted', 'warra', 'warped', 'warningwild', 'warnings900037', 'warnerrobins', 'warned\\x89Û\\x9d', 'warmth', 'warmbodies', 'warlordqueen', 'warfare', 'wardens', 'ward', 'wantmyabsback', 'wanother', 'wank', 'wander', 'waltdisney', 'wall\\x89Û\\x9d', 'wallybaiter', 'wales', 'wakho', 'wakeupflorida', 'waiver', 'waited', 'waimea', 'wahpeton', 'wahhabism', 'wage\\x89Ûª', 'waferthin', 'wackos', 'wackoes', 'vÌdeo', 'v\\x89Û', 'vzwsupport', 'vvorm', 'vuzuhustle', 'vulnerability', 'vulnera', 'vuln', 'vtc', 'vroman', 'vra50\\x89Û\\x9d', 'votes', 'voters', 'vosloorus', 'vortex', 'voortrekker', 'voodooben', 'volunteers', 'volunteer', 'voltaire', 'volfan326', 'volcanotornado', 'volcanodiscover', 'volcanic', 'void', 'voices', 'vodka', 'vocals', 'vocalist', 'vocal', 'vmas', 'vj44', 'vi\\x89Û', 'vixstuart', 'vixmeldrew', 'vivid', 'vivianunhcr', 'viviangiang', 'vivian', 'vivaargentina', 'vitesse', 'vitaly', 'vitalvegas', 'vita', 'visting', 'visiting', 'visionzero', 'visible', 'visibility', 'visage', 'virtual', 'vir', 'viper', 'violin', 'violets', 'violentfeminazi', 'violators', 'violation', 'violated', 'vinustrip', 'vinnie', 'vines', 'vincent', 'vimvith', 'vimeo', 'villicanaalicia', 'villa', 'vilelunar', 'vikings', 'vigils', 'vigilent', 'views', 'viennabutcher', 'videogame', 'videoclip', 'victorious', 'victorias', 'victorian', 'victoriagittins', 'vickybrush', 'vichardy', 'vibrates', 'vibrate', 'viab', 'vhull', 'vhs', 'vgbootcamp', 'vets78734', 'vestment', 'vessels', 'versus', 'veronicadlcruz', 'vern', 'vermilion', 'verhoek', 'vergil', 'verge', 'verde', 'venture', 'ventilated', 'vent', 'venoms', 'veneto', 'veldfest', 'veld', 'veins', 'veil', 'veggies', 'vegetables', 'vegassolitude', 'vegan', 'veg', 'vector', 'vaxshill', 'vast', 'vassalboro', 'varagesale', 'vanpoli', 'vannuyscouncil', 'vanishing', 'vanished', 'vanilla', 'vanessas', 'vanessa', 'vandalized', 'vancouveråÊisland', 'vampires', 'value', 'valuations', 'valleywx', 'vallerand', 'valentines', 'vale', 'valdes1978', 'vail', 'vai', 'vaginaorcake', 'vagersedolla', 'vaccines', 'vaccine', 'vacancies', 'vaca', 'vabengal', 'v452', 'u\\x89Û', 'ux', 'uvopwz', 'uve', 'uv', 'utv', 'utp', 'utopian', 'utilized', 'utility', 'utica', 'utfire', 'utd', 'utc3km', 'utc20150806', 'utahgrizz', 'utahcanary', 'uswarcrimes', 'usw', 'uspacific', 'usmnt', 'ushanka', 'usg', 'usfs', 'useless', 'usdot', 'usbush', 'usatodaynfl', 'usat', 'usarmy', 'usamisan', 'usama', 'usagi', 'usage', 'urufusanragu', 'uruan', 'urself', 'urogyn', 'urine', 'uriminzok', 'urgentthere', 'urg', 'urbanisation', 'urbanfashion\\x89Û', 'urban', 'uranium', 'upwindstorm', 'upward', 'uptownjorge', 'uptown', 'uptotheminute', 'upstairs', 'upsetting', 'uprooting', 'uprootin', 'uplifting', 'upi', 'uphill', 'upgrades', 'updateme', 'upcoming', 'upah', 'upa', 'unwomen', 'unwarranted', 'unwanted', 'unu', 'unto', 'untill', 'untameddirewolf', 'unsurprisingly', 'unsure', 'unsuccessful', 'unstoppable', 'unstable', 'unsigned', 'unsensibly', 'unsecured', 'unrecognized', 'unrealtouch', 'unreal', 'unprepared', 'unpredictable', 'unplug', 'unpacked', 'unnewsteam', 'unloads', 'unlicensed', 'unknowingly', 'univsfoundation', 'universityoflaw', 'uniteblue', 'unite', 'uninvestigated', 'unimpressed', 'unimaginable', 'unhinged', 'unhealed', 'unharmed', 'unhappy', 'ungodly', 'unfortunemelody', 'unfollow', 'unfold', 'unfml', 'unfair', 'unexplainable', 'unending', 'undone', 'undetected', 'undeserving', 'underwritersenior', 'underwriter', 'understood', 'understand\\x89Û\\x9d', 'understandable', 'underpasses', 'undermined', 'undergroundrailraod', 'undergroundbestsellers', 'underground', 'underestimate', 'uncover', 'uncontrolled', 'uncontrollable', 'unconsciously', 'unconscious', 'unconditional', 'uncommon', 'uncomfortable', 'uncles', 'uncertaintyeconomic', 'uncertain', 'unbelievably', 'unaware', 'unauthorized', 'unarmed', 'unaddressed', 'unable', 'umntu', 'umm', 'umbrella', 'um', 'uluru', 'ultimatum', 'ullman', 'uk\\x89Ûªs', 'ukraines', 'uknews', 'ukfrance', 'ukfloods', 'uhmmmm', 'uhhhhh', 'uglypeople', 'uglyamesocialaction', 'ugliest', 'ugc', 'ufo4ublogeurope', 'ufn', 'udom', 'udhampuragain', 'uchicago', 'uabstephenlong', 'u2', 'tÌüp', 't\\x89Û', 'tyrone', 'tyrant', 'typography', 'typing', 'typical', 'typhoon\\x89Û', 'typewriter', 'tyleroakley', 'tyar', 'txt', 'txlege', 'tx', 'twx', 'twoptwips', 'twoout', 'twitsandiego', 'twitch', 'twist', 'twill', 'twilights', 'twi', 'twentysix', 'tweetstorm', 'tweetinglew', 'tweeting', 'tweeted', 'tweet4taiji', 'tween', 'twcnews', 'twain', 'tvshowtime', 'tvjnews', 'tutorials', 'tusky', 'turner', 'turnedonfetaboo', 'turdnado', 'turbojet', 'tunisian', 'tunisia', 'tunis', 'tuneswgg', 'tuned', 'tunas', 'tumblr', 'tumbling', 'tumbles', 'tulowitzki', 'tullamarine', 'tuicruises', 'tuffers', 'tuesdays', 'tucson', 'tub', 'tu', 'ttw', 'tthe', 'tsutomi', 'tsunamis', 'tsipras', 'tshirts', 'tshirt', 'trynna', 'truthsof', 'trustymclusty', 'trusting', 'trusted', 'trulystings', 'truestory', 'truediagnosis', 'truckload', 'truckcrash', 'tru', 'trpreston01', 'trp', 'troyslaby22', 'troylercraft', 'troye', 'troupe', 'troubleonmymind', 'trophyhunt', 'trophy', 'trophies', 'tropes', 'trooper', 'trombonetristan', 'trollkrattos', 'trollingtilmeekdiss', 'troisrivieres', 'trjdavis', 'trixiedrowned', 'trivium', 'triumphs', 'triumphant', 'triumph', 'trinna', 'trim', 'trillac', 'trigger', 'trident', 'tricycle', 'tricky', 'trickxie', 'trickshot', 'trickier', 'triciaoneillphoto', 'triciaoneill', 'tribez', 'tribe', 'trib', 'triangle', 'triad', 'treyarch', 'trey', 'trestle', 'trend\\x89Û\\x9d', 'trends', 'trending', 'trench\\x89Û', 'tren', 'tremors', 'tremont', 'tremblayeh', 'trekkers', 'treescape', 'treblinka', 'treatmen', 'treasures', 'treasurehouse', 'trc', 'tray', 'travellers', 'travelelixir', 'trash', 'traplord29', 'transwomen', 'transportation', 'transporta', 'translated', 'transgress', 'transgendered', 'transgender', 'transcription', 'trampling', 'traitor', 'traintragedy', 'trained', 'trailheads', 'trailed', 'trail', 'trafficnetwork', 'traditionalist', 'trader', 'trade', 'tradcatknight', 'tracy', 'tractor', 'tracklist', 'tracey', 'trace', 'tra', 'tps', 'tprimo24', 'to\\x89Û', 'tozlet', 'toyota', 'toxicsavior', 'toxiccancerdiseasehazardous', 'toxic', 'towns', 'towing', 'tower\\x89Ûª', 'tower', 'towboat', 'tow', 'tours', 'tournaments', 'tournament', 'tourists', 'tounge', 'toughens', 'touching', 'touchdown', 'tottenham', 'totteham', 'totoooooooooo', 'totoooooo', 'totalitarianism', 'totalitarian', 'tosu', 'toss', 'tos', 'tory', 'tort', 'torso', 'torrential', 'torrent', 'torrecilla', 'torrance', 'torontorc', 'tornadogiveaway', 'tormented', 'tories', 'tora', 'topic', 'topdown', 'top25', 'tootrue', 'toosoon', 'toooooo', 'tookitlikeaman', 'tookem', 'toocodtodd', 'tonysandos', 'tonymcguinness', 'tonyhsieh', 'tonycottee1986', 'tonyburke', 'tonyabbottmhr', 'tony', 'tonne', 'tonight\\x89Ûªs', 'tonguetwister', 'ton', 'tomorrow\\x89Ûªs', 'tommorow', 'tomlinson', 'tomislav', 'tomfromireland', 'tomdean86', 'tomclancy', 'tolled', 'tolewantg', 'tolerated', 'tolerance', 'tokteacher', 'toilets', 'toiindianews', 'togthe', 'toes', 'toenail', 'toe', 'toddyrockstar', 'toddstarnes', 'toddcalfee', 'today\\x89Ûªs', 'todaythat', 'todayngr', 'todayng', 'todayim', 'todayhave', 'today4got', 'tod', 'tobiasellwood', 'tnwx', 'tnn', 'tneazzy', 'tna', 'tn', 'tms7', 'tmake', 'tlvfacesauspol', 'tlvfaces', 'tloz', 'tlk', 'tkyonly1fmk', 'tjrobertson2', 'tj', 'titty', 'tittie', 'titortau', 'titolo', 'titania', 'titadom', 'tita', 'tirelessly', 'tire', 'tipster', 'tip', 'tinybaby', 'tiny', 'tinted', 'ting', 'tindering', 'tinderbox', 'tinder', 'timmicallef', 'timing', 'time\\x89Û\\x9d', 'timesofindia', 'timesap', 'timed', 'timebomb', 'timber', 'timaroberts', 'tightly', 'tight', 'tiggr', 'tigersjostun', 'tiffanyfrizzell', 'tier', 'tide', 'tidalhifi', 'ticklemeshawn', 'tianta', 'th\\x89Û', 'thursdays', 'thursd', 'thurs', 'thurlow', 'thunderstormtornado', 'thundersnow', 'thugging', 'thucydiplease', 'tht', 'thruuu', 'thrusts', 'throwin', 'thriving', 'threesome', 'threealarm', 'threat\\x89Ûª', 'threatintel', 'threatconnect', 'thread', 'thrarchives', 'thr', 'thoutaylorbrown', 'thoughwill', 'thou', 'thoroughly', 'thorium', 'thorins', 'thorgan', 'thomassmonson', 'thomashcrown', 'thnk', 'thi\\x89Û', 'this\\x89Û', 'thisispublichealth', 'thisisperidot', 'thisishavehope', 'thisisfaz', 'thisdayinhistory', 'thirtyfive', 'thirdquarter', 'thinner', 'thinkpink', 'thingsihate', 'thh', 'they\\x89Ûªd', 'thexfiles201days', 'thewesterngaz', 'thetxi', 'thetshirtkid', 'thetimepast', 'thestrain', 'thesmallclark', 'thesewphist', 'thesensualeye', 'theresmorewherethatcamefrom', 'thereof', 'thereisonlysex', 'therein', 'therefore', 'therealrittz', 'thereal', 'theramin', 'thepartyofmeanness', 'then\\x89Û', 'thenissonian', 'thenewshype', 'theneeds', 'themhe', 'themermacorn', 'theme', 'themalemadonna', 'themaine', 'thelegendblue', 'thejonesesvoice', 'thejenmorillo', 'theirs', 'thehobbit', 'thehammers', 'thegreenparty', 'theghostparty', 'theevilolives', 'theemobrago', 'theellenshow', 'theeconomist', 'thedoolinggroup', 'thedayct', 'thedarktower', 'thedailyshow', 'thedailybeast', 'thecomedyquote', 'theburnageblue', 'thebriankrause', 'theboyofmasks', 'thebookclub', 'theblackshag', 'thebargain', 'thebachelorette', 'theatres', 'theatlantic', 'theatershooting', 'theashes', 'theadvocatemag', 'thda', 'that\\x89Û', 'thatwitchem', 'thatswhatfriendsarefor', 'thatsabinegirl', 'thatrussianman', 'thatpersianguy', 'thatnot', 'thatfatguy', 'thatdes', 'thatd', 'thankyou', 'thanku', 'thankkk', 'thanking', 'thalapathi', 'thailand', 'thai', 'tfw', 'tfb', 'te\\x89Û', 'texture', 'texts', 'texting', 'texaschainsawmassacre', 'texans', 'testy', 'testify', 'testified', 'testicles', 'tesco', 'terwilliger', 'tersestuff', 'territory', 'terrified', 'terrific', 'terrain', 'termn8r13', 'terminated', 'terell', 'tepat', 'tents', 'tenshi', 'tennis', 'tennews', 'tends', 'ten4', 'tem\\x89Û', 'temps', 'temporary', 'temporarily', 'templates', 'temperature', 'temp', 'temecula', 'temecafreeman', 'telnet', 'tellyfckngo', 'tellyampi', 'telly', 'telltales', 'teleported', 'telemarketing', 'telekinesis', 'telegraphworld', 'telangana', 'tee\\x89Û', 'teenfiction', 'teena797', 'teemo', 'tee', 'teduka', 'tedcruz2016', 'tecno', 'techniqu', 'technical', 'technews', 'techesback', 'team\\x89Û', 'teamvodg', 'teamsurvivors', 'teamscorpion', 'teamo', 'teammates', 'teamhennessy', 'teamfollowback', 'teamatowinner', 'teahivetweets', 'teafrystlik', 'tdog', 'tdm', 'tcotåÊccot', 'tcgreno', 'tbs', 'tbr', 'tblack', 'tbh', 'taylorswift13', 'taylors', 'taykreidler', 'tayiorrmade', 'taxstone', 'taxreturn', 'taxpayers', 'taxis', 'taxi', 'taxes', 'tawfmcaw', 'taungbazar', 'taufikcj', 'tattoos', 'tattooed', 'tat', 'tastemycupcakee', 'tasks', 'task', 'tarzana', 'tarynel', 'tarp', 'targe', 'tareksocal', 'taraswart', 'tapas', 'taoistinsight', 'tantrums', 'tanstaafl23', 'tanslash', 'tangletalk', 'tangled', 'tanehisicoates', 'tampons', 'tampabay', 'tambourine', 'tambo', 'tallest', 'talkradio', 'talkinghell', 'talked', 'talkecologyamphuman', 'talisman', 'talibans', 'taliban', 'tales', 'takis', 'takin', 'takeoff', 'takehome', 'takecare', 'takeaways', 'taipei', 'tailor', 'tail', 'tahoeblazeravalanches10', 'tagging', 'tagged', 'tafs', 'tae', 'tadhgtgmtel', 'tactics', 'tactful', 'tacos', 'tackettdc', 'tacit', 'taaylordarr', 't1000s', 's\\x89Ûªarabia', 'szuter', 'szmnextdoor', 'systematic', 'sys', 'syringetoanger', 'synapsenkotze', 'symptoms', 'symbol', 'symantec', 'syjexo', 'sydtraffic', 'swtrains', 'sworn', 'swords', 'swooping', 'swollen', 'swivels', 'switzerland', 'switching', 'switch', 'swiss', 'swingman', 'swiming', 'swiftycommissh', 'swiftly', 'swellyjetevo', 'swell', 'sweets', 'sweetpeas', 'sweetiebirks', 'sweeps', 'sweeping', 'sweep', 'swedish', 'sweaty', 'sweatfyi', 'sweated', 'swea', 'swb1192', 'swayoung01', 'swayback', 'swanger', 'swami', 'swag', 'svetlana', 'sux', 'suvs', 'sustainourearth', 'sustainability', 'suspicious', 'suspended', 'suspects', 'susiya', 'susinesses', 'sushi', 'susanj357', 'survivorsr', 'surviving', 'surveys', 'suruÌ¤', 'surgical', 'surges', 'surfspa', 'surfphoto', 'surety', 'sureshpprabhu', 'suresh', 'suregod', 'supremo', 'supremacist', 'supposedly', 'supporting', 'supporthealthhomebathroomsupportelderlyinjureds\\x89Û', 'supporters', 'superv', 'superstitions', 'superstition', 'superpower', 'supernovalester', 'supernatural', 'supermarket', 'superman', 'superiority', 'superintendent', 'superintende', 'superfood', 'superbug', 'superb', 'sunshine', 'suns', 'sunrays', 'sunnymeade', 'sunk\\x89Û1', 'sunflower', 'sundercr', 'sunday\\x89Ûªs', 'sundaydont', 'sunburst', 'sunburned', 'sunbathe', 'sumo', 'sumn', 'summons', 'summon', 'summervibes', 'summers', 'summerhallery', 'summer2k15', 'summary', 'sultry', 'sul', 'suites', 'suited', 'suitable', 'suing', 'suicides', 'suicidebycop', 'suho', 'suggs', 'sugar', 'suffield', 'sufficiently', 'suffers', 'suelinflower', 'sued', 'sudan\\x89Ûªs', 'sucking', 'suckers', 'sucked', 'suck', 'succeed', 'subtornado', 'subtlety', 'subtle', 'substantial', 'substance', 'subsequent', 'subsd', 'subscription', 'submitt', 'submissions', 'submerged', 'subjected', 'subcontractor', 'subconscious', 'subcommittee', 'subatomic', 'su', 'stylist', 'stylishly', 'styled', 'stvmlly', 'stury', 'sturgis', 'stupidniggr', 'stunningly', 'stung', 'stunckle', 'stump', 'stuffin', 'studying', 'studebaker', 'studded', 'stuckinbooks', 'stuartbroad8', 'strutting', 'strutted', 'struggle', 'structuring', 'strongminded', 'strives', 'striptease', 'strips', 'stripped', 'stripe', 'strip', 'striked', 'strictly', 'strickskin', 'stretches', 'stretcherbearers', 'stretcherbearer', 'stretched', 'stressing', 'stresses', 'strength', 'streetlight', 'streetjamzdotnet', 'stree', 'streamyxhomesouthern', 'streams', 'streaming', 'stray', 'strawberrysoryu', 'strawberries', 'stratford', 'strategyhua', 'strategies', 'strap', 'strangers', 'strand', 'straits', 'strains', 'strain', 'straighten', 'sto\\x89Û', 'stowing', 'stormtrooper', 'stormlike', 'storming', 'stormfree', 'stormbeard', 'storey', 'storen', 'stop\\x89Û\\x9d', 'stopping', 'stoponesounds', 'stopharper', 'stopevictions', 'stood', 'stony', 'stonewall', 'stones', 'stonebrewingco', 'stokes', 'stockwell', 'stockholm', 'sto', 'stlouis', 'stlnd', 'stl', 'stirring', 'stil', 'stiiilo', 'stickynyc', 'sticky', 'sticking', 'sticker', 'sthing', 'stfxuniversity', 'stevie', 'steveycheese99', 'stevenrulles', 'stevenontwatter', 'steven', 'sterotypical', 'stern', 'sterlingscott', 'sterlingknight', 'sterling', 'stepkans', 'stephenson', 'stephenscifi', 'stephenking', 'stephengeorg', 'stephaniemarija', 'steph93065', 'stemming', 'stem', 'stefano', 'stefanejones', 'steep', 'steellord', 'stearns', 'stealth', 'steady', 'stds', 'staying', 'stayed', 'stavola', 'stavernise', 'statistically', 'stations', 'stationcdrkelly', 'states\\x89Û', 'statesville', 'statements', 'stat', 'starving', 'starve', 'startrek', 'startide', 'startelegram', 'starmade', 'starks', 'stark', 'starflamegirl', 'stare', 'stardate', 'starbuckscully', 'starbs', 'stankyboy88', 'standup', 'standstill', 'standforwolves', 'standardised', 'standardanonymous', 'stallion150', 'stalled', 'stalins', 'stalag', 'staining', 'staid', 'stages', 'staged', 'staff\\x89Û', 'staffing', 'stacy', 'stacks', 'stack', 'stacedemon', 'stacdemon', 'stable', 'ssw', 'ssu', 'ssssnell', 'ssshhheeesshh', 'ssp', 'ssb4', 'srsly', 'srs', 'srk', 'sriramk', 'srajapakse', 'sr37', 'sr22', 'sr14', 'sqwizzix', 'squirrel', 'squibby', 'squeezed', 'squeaver', 'squeaky', 'squabble', 'sq', 'spyro', 'spying', 'spx', 'sputtering', 'sputnikint', 'spurs', 'spurgeon', 'spur', 'spså¨', 'spsgsp', 'sprite', 'sprinklers', 'springer', 'spree', 'spreads', 'spread', 'spray', 'sprains', 'spouting', 'spouse', 'spotting', 'spotlight', 'sportsroadhouse', 'sportinggoods', 'sporten', 'spookyfob', 'sponsor', 'sponge', 'spokes', 'spoke', 'spokane', 'spoiled', 'spoil', 'splifs', 'splattershot', 'splatoon', 'splatling', 'splatdown', 'splash', 'spits', 'spit', 'spirits', 'spins', 'spinnellii', 'spin', 'spilt', 'spillevacuationsred', 'spike', 'spies', 'spiderweb', 'spicybreads', 'spice', 'spends', 'spencerfearon', 'spen', 'spells', 'spell', 'speedtech', 'speeding', 'speech', 'speculation', 'speculatio', 'spectrum', 'specs', 'specifically', 'specialized', 'specialize', 'speccy', 'speakingfromexperience', 'sparxxx', 'spartans', 'sparkz', 'sparking', 'spark', 'spaniels', 'spaniel', 'span', 'spammers', 'spam', 'spacex', 'spacewolverine', 'spaceshiptwo', 'spaceangelseven', 'so\\x89Û', 'soz', 'sow', 'south\\x89Û', 'southwestern', 'southwest', 'southridgelife', 'southline', 'southkorea', 'southdown', 'southbound', 'southaccident', 'sousse', 'sourmashnumber7', 'sour', 'soundtrack', 'sounding', 'sounders', 'soultech', 'sought', 'souda', 'sothwest', 'sos', 'sorryi', 'sorrybutitstrue', 'sorrowful', 'sorrower', 'sorrow', 'sorely', 'sophistication', 'sophiewisey', 'sophieingle01', 'soonpandemonium', 'soonergrunt', 'sonyprousa', 'sony', 'sonoranrattler', 'sonofbobbob', 'sonofbaldwin', 'sonisoner', 'sonia', 'soni', 'songhey89', 'songfor', 'soner', 'sond', 'sona', 'somme', 'sometimesi', 'somethin\\x89Ûª', 'somethingyr', 'someday', 'solving', 'solelinks', 'sole', 'soldi', 'solano', 'sojapan', 'soil', 'soggy', 'softball', 'sofa', 'sods', 'sodamntrue', 'sockets', 'socket', 'sock', 'socialwots', 'socialtimes', 'socialmediadriven', 'socially', 'socal', 'soc', 'sobbing', 'soapscoop', 'soap', 'soaker', 'soaked', 'snuck', 'snowywolf5', 'snowy', 'snowstormhailstorm', 'snowstormdespite', 'snowflake', 'snotgreen', 'snort', 'snoop', 'snooker', 'snippets', 'snipe', 'sniiiiiiff', 'sniff', 'sni', 'sneezing', 'sneaks', 'snazzychipz', 'snapping', 'snapharmony', 'snapchatselfie', 'snakes', 'snake', 'snack', 'sn', 'smusx16475', 'smugglersåÊnabbed', 'smugglers', 'smug', 'smth', 'sms087809233445', 'sms', 'smp', 'smores', 'smoothed', 'smoochy', 'smokey', 'smokes', 'smokers', 'smoakqueen', 'smirking', 'smiles', 'smfh', 'smem', 'smelltaste', 'smelling', 'smelled', 'smeared', 'smartteks', 'smartnews', 'smart', 'smantibatam', 'smallforestelf', 'smaller', 'smallbusiness', 'smallbiz', 'smack', 'slums', 'slumber', 'slsp', 'slsandpet', 'slows', 'slowpoke', 'slosheriff', 'slosher', 'slopeofhope', 'slone', 'slogan', 'slit', 'slipping', 'slipper', 'slimebeast', 'slightest', 'slight', 'sliding', 'slideshare', 'sliced', 'slew', 'slept', 'sleepjunkies', 'slay', 'slaves', 'slavery', 'slave', 'slaughter', 'slatukip', 'slating', 'slated', 'slashandburn', 'slapping', 'slander', 'slams', 'slamming', 'slam', 'slain', 'slabs', 'sl', 'skyåÊnews', 'skywars', 'skywarn', 'skyscrapers', 'skyrim', 'skype', 'skynews', 'skynet', 'skyler', 'skylanders', 'skull', 'skippy6gaming', 'skip', 'skinless', 'skims', 'skimmed', 'skiing', 'skies', 'ski', 'skh', 'sketchbook', 'skeleton', 'skc', 'skateboards', 'skarletan', 'skardu', 'skaggs', 'sk398', 'sjubb', 'sj', 'sizygwwf', 'sizewell', 'sixcar', 'sivan', 'situ', 'sittway', 'siteinvestigating', 'sister\\x89Ûª', 'sirtophamhat', 'sirtitan45', 'sirmixalot', 'sirmione', 'sirius', 'sirenvoice', 'sirens\\x89Û', 'sirensong21', 'sirensamp', 'sippin', 'sip', 'siouxland', 'siouxlan', 'sioux', 'sins', 'sinkingshipindy', 'sinkingfund', 'sinkhole\\x89Û', 'sinistras', 'singled', 'singlecar', 'sindh', 'sincerely', 'since3g', 'since1970the', 'simulation', 'simulating', 'simplify', 'simmons', 'similar', 'silvery', 'silverwood', 'silverman', 'silverhusky', 'silo', 'silly', 'silinski', 'silentmind', 'silent0siris', 'silenced', 'silas', 'sikh', 'sigue', 'signin', 'significance', 'signatureschange', 'sigh', 'sifting', 'siena', 'sidjsjdjekdjskdjd', 'side\\x89Û', 'sidewalk', 'sidelinesavage', 'sided', 'sick\\x89Ûª', 'sibling', 'shuts', 'shunichiro', 'shuffled', 'shuffle', 'shud', 'shtf', 'shtap', 'sht', 'shrews', 'showwent', 'showersstorms', 'showers', 'showdown', 'shovel', 'shove', 'shoutout', 'shouted', 'shouout', 'shotgun', 'shorts', 'shortfalls', 'shopping', 'shoppe', 'shootoutåÊ', 'shootings', 'shoook', 'sholt87', 'shocking\\x89ÛÏ', 'shocking', 'shoalstraffic', 'shiver', 'shitton', 'shite', 'shirley', 'shipsxanchors', 'shimmyfab', 'shii', 'shifts', 'shifter', 'shifted', 'shield', 'shidddd', 'shias', 'shia', 'she\\x89Ûªs', 'shevlinhixon', 'shestooyoung', 'sherfield72', 'shen', 'shemesh', 'sheltersupport', 'shells', 'shekhargupta', 'sheeting', 'shedid', 'shear', 'shayoly', 'shawie17shawie', 'shattered', 'shatter', 'sharply', 'sharper', 'shark\\x89Û\\x9d', 'shark', 'sharif', 'sharia', 'shar', 'shaping', 'shaper', 'shapeand', 'shaolin', 'shantaeskyy', 'shantaehalfgeniehero', 'shantaeforsmash', 'shanghai\\x89Ûªs', 'shanaynay', 'shakjn', 'shakingcatching', 'shakespeares', 'shakeology', 'shaken', 'shake', 'shaheed', 'shadows', 'shadowman', 'shadowflame', 'shadowed', 'shade', 'shad', 'sha', 'sgc72', 'sg', 'sfor', 'sfgiants', 'sfa', 'sexydragonmagic', 'sexuality', 'sexist', 'sewing', 'seward', 'sewage', 'severing', 'severely', 'seventies', 'sevenfold', 'sevenfigz', 'setting4success', 'setsuko', 'sethalphaeus', 'setanta', 'sessions', 'session', 'serving', 'servicin', 'servicesft7p7a', 'sergiopiaggio', 'serephina', 'serene', 'serbian', 'seras', 'sequence', 'sequalae', 'septic', 'separation', 'separated', 'senzu', 'sentient', 'sentenced', 'sensory', 'sensorknock', 'sensitive', 'sensei', 'senschumer', 'sensanders', 'sens', 'senfeinstein', 'senators', 'senatemajldr', 'sen', 'seminars', 'semi', 'semasirtalks', 'selmoooooo', 'selmo', 'selfseeking', 'selfpity', 'selfinflict', 'selfesteem', 'selfdestruction', 'selfdelusion', 'selfavowed', 'selects', 'select', 'sel', 'sejorg', 'seizing', 'seize', 'seismicsoftware', 'seismicresistant', 'segment', 'segas', 'sef', 'seeyouatamicos', 'seeweed', 'seemly', 'seemeth', 'seeker', 'seeds', 'seed', 'sedar', 'sedan', 'securing', 'secures', 'securedgt', 'secured', 'sectors', 'sections', 'secondhand', 'seclusion', 'sec', 'seaworld', 'seattletimes', 'seattles', 'seattledot', 'seats', 'seatbelt', 'seasonfrom', 'seashore', 'seas', 'seanhannity', 'seagulls', 'seagull07', 'sd', 'scynic1', 'scwx', 'scum', 'scuf', 'sct014', 'sct012', 'scseestapreparando', 'scrolling', 'scriptettesar', 'screwed', 'screenshot', 'screening', 'screeching', 'screamsdont', 'scratching', 'scratches', 'scraptrident', 'scraped', 'scrambledeggs', 'scouts', 'scout', 'scourgue', 'scourge', 'scotto519', 'scottdpierce', 'scotrail', 'scotiabank', 'scored', 'scorched', 'scofield', 'scmpnews', 'scissor', 'sciencefiction', 'scichat', 'schulz', 'schoolboy\\x89Ûªs', 'scholars', 'schoenfeld', 'schism\\x89Ûª', 'schelbertgeorg', 'scheer', 'scenes', 'scenario', 'scegnews', 'scasualty', 'scaryeven', 'scarlet', 'scariest', 'scarier', 'scandals', 'scandal', 'scam', 'scalpium', 'scaligero', 'scabs', 'sbee', 'sa\\x89Û', 'say\\x89Û\\x9d', 'saynae', 'sayin', 'sayedridha', 'savs', 'savour', 'savior', 'saveti', 'saves', 'saver', 'savedenaliwolves', 'savannahross4', 'savages', 'savagenation', 'saumur', 'sauldale305', 'saudiåÊmosque', 'saudies', 'saudiarabia', 'saturation', 'saturated', 'satoshis', 'satisfying', 'satire', 'satin', 'satellites', 'satans', 'satanaofhell', 'sask', 'sasha', 'sarumi', 'sarniamakchris', 'sarcastic', 'sarahmcpants', 'sarahksilverman', 'sara', 'sapphirescallop', 'san\\x89Ûªa', 'santos', 'santiago', 'santanicopandemonium', 'santaclara', 'sansa', 'sanonofre', 'sanity', 'sanitizing', 'sanitised', 'sang', 'sanfrancisco', 'sanford', 'sanelesstheory', 'sandwich', 'sandunes', 'sandra', 'sanders', 'sandbox', 'sanction', 'sanchez', 'samsung', 'samsmithworld', 'samples', 'sample', 'sammysosita', 'sammy', 'samihonkonen', 'sami', 'samelsamel', 'samaritans\\x89Ûª', 'sam', 'salyersblairhall', 'salvages', 'salvadors', 'salvadoran', 'salute', 'salty', 'saltriverwildhorses', 'salted', 'salopek', 'salmanmydarling', 'salman', 'sally', 'salisbury', 'sales', 'salado', 'saladinahmed', 'sakuuchiha', 'saku', 'sakhalintribune', 'saison', 'saintsfc', 'saint', 'sailors', 'safyuan', 'safsufa', 'safferoonicle', 'safes', 'saferåÊ', 'safeco', 'safaris', 'safari', 'sadtraumatised', 'saddledome', 'saddle', 'sacrifice', 'sackville', 'sackings', 'sabotagei', 'sabcnewsroom', 'saat', 'saalon', 'saadthe', 's61231a', 's5', 's3xleak', 's01e09', 'rzimmermanjr', 'ryt', 'ryrotheunaware', 'ryleedowns02', 'ryans', 'ryanoss123', 'rwrabbit', 'rvfriedmann', 'rvaping101', 'rvacchianonydn', 'rv', 'ruthann', 'russiaukraine', 'russellville', 'russell', 'russaky89', 'rushlimbaugh', 'rural', 'rupaul', 'run\\x89Û', 'runnin', 'runners', 'runkeeper', 'runjewels', 'runin', 'runaway', 'runabout', 'rumor', 'rumbling', 'rumah', 'rum', 'ruling', 'ruler', 'ruled', 'ruhl', 'rude', 'ruddyyyyyy', 'rubybot', 'rubi', 'rubbing', 'rubbin', 'rubbery', 'ru', 'rtsampdemocracy', 'rtrrtcoach', 'rtirishirr', 'rtcom', 'rsx', 'rstormcoming', 'rspca', 'rslm72254', 'rsf', 'rsa', 'rs5', 'rs40000cr', 'rrusa', 'rq', 'rpn', 'rp', 'roy', 'rowysolouisville', 'rowyso', 'rowaa', 'roving', 'routing', 'routine', 'routes', 'router', 'rousey', 'roundhouse', 'round2', 'rotting', 'rottentomatoes', 'rotations', 'rotation', 'rotating', 'rotary', 'rosters', 'roster', 'rossmartin7', 'rossbarton', 'roskomnadzor', 'rosewell', 'rosenthalauthor', 'rosenbergs', 'rosemarytravale', 'rorington95', 'ropes', 'roomsgrrrr', 'rooms', 'roomr', 'rooftops', 'roofing', 'roofers', 'ronwyden', 'ronincarbon', 'ronge', 'rondarousey', 'ronda', 'ronald', 'romp', 'romford', 'romes', 'romeocrow', 'romeo', 'romanticsuspense', 'romantic', 'romania', 'romanatwoodvlogs', 'roman', 'rom', 'rolo', 'rolling\\x89Û', 'roles', 'roleplay', 'rolandonabeats', 'rokiieee', 'roh3smantibatam', 'roguewatson', 'rogers', 'roga', 'rods', 'rodkiai', 'roddypiperautos', 'rodarmer21', 'rockstar', 'rockn', 'rockingham', 'rocking', 'rochdale', 'robthieren', 'robsimss', 'robpulsenews', 'robotlvl', 'robotcoingame', 'robot', 'roblox', 'robertwelch', 'robertoneill31', 'robertmeyer9', 'robertharding', 'robertcalifornia', 'robertbenglunds', 'robdelaney', 'robbiewilliams', 'robbed', 'roar', 'roanoketimes', 'roadworks', 'roadwayproperty', 'roadid', 'rnk', 'rlyeh', 'rlauren83199', 'rjkrraj', 'rjg0789', 'rjailbreak', 'rizzo', 'rivers', 'riverroaming', 'riveeeeeer', 'rivals', 'ritzyjewels', 'ritualistic', 'ritual', 'rite', 'risky', 'riser', 'ris', 'ririnsider', 'rips', 'ripriprip', 'ripples', 'ripping', 'rioters', 'rioslade', 'riooooos', 'rio2016', 'rinkydnk2', 'rindou', 'rin', 'rijn', 'rigour', 'rightly', 'righteous', 'rigga', 'rig', 'rifle', 'ridiculously', 'riddler', 'ricotta\\x89Û', 'rico', 'rickybonessxm', 'rickets', 'ricin', 'richhomeydon', 'riches', 'richelieusaintlaurent', 'richarkkirkarch', 'riceechrispies', 'rice', 'ribbon', 'ri', 'rhymes', 'rhinestone', 'rhiannon', 'rhett', 'rhee1975', 'rgj', 'rfp', 'rfcgeom66', 'rezaphotography', 'reworked', 'rewatchingthepilot', 'revolutionblight', 'revolt', 'revitup', 'revise', 'reviewing', 'reverse', 'reversal', 'revere', 'revenge', 'revel', 'reveillertm', 'revealing', 'reusing', 'reunite', 'retweeted', 'returning', 'retroactive', 'retreat', 'retract', 'retooled', 'retirement', 'retirees', 'retiredfilth', 'retard', 'retainers', 'resumed', 'restrospect', 'restoringpaths', 'restoring', 'restlessness', 'resting', 'restart', 'resque', 'responding', 'respondents', 'respects', 'respecting', 'resource', 'resort', 'resolved', 'resolutevanity', 'resoluteshield', 'resistant', 'resin', 'resilience', 'resigninshame', 'residualincome', 'residual', 'reshrimplevy', 'reshareworthy', 'reshape', 'reset', 'reserves', 'reserved', 'resemblance', 'researchers', 'rescuing', 'rescuersthe', 'rescued\\x89Û', 'rescuedagain', 'rescind', 'requiring', 'requiem', 'requests', 'requa', 'reqd', 'reputation', 'reps', 'reprocussions', 'reprises', 'repression', 'represents', 'representing', 'representative', 'repped', 'reporters', 'replacement', 'replaced', 'repjohnkatko', 'repdonbeyer', 'repatriating', 'reoccur', 'rent', 'renovation', 'renewsit', 'renewed', 'renew911health', 'rene', 'rendered', 'render', 'renaomino', 'renamed', 'ren', 'remymarcel', 'remote', 'remorseless', 'remodeled', 'remixes', 'reminders', 'reminded', 'remind', 'remembrance', 'remembers', 'rememberrabaa', 'remedial', 'rembr', 'remaster', 'remarkably', 'remark', 'remand', 'remainontop', 'remaining', 'remade', 'relive', 'religious', 'reliefweb', 'relevance', 'relegation', 'releasing', 'relaxinpr', 'relations', 'rejoice', 'rejectdcartoons', 'reiterate', 'reined', 'reince', 'reimagining', 'reigncoco', 'reidlake', 'regress', 'regr', 'regime', 'reggaeboyz', 'regent', 'regc', 'reg', 'refuses', 'refunds', 'refund', 'refugees\\x89Û', 'refugeesmatter', 'reflects', 'reflections', 'reflected', 'referred', 'referencereference', 'reference', 'refer', 'reeves', 'reef', 'reed', 'reebok', 'redwing', 'reduces', 'redskins', 'reds', 'redlands', 'redistribute', 'rediscovered', 'rediscover', 'redhead', 'redhanded', 'redesigning', 'redesigned', 'redemption', 'redeemer', 'redeem', 'reddish', 'reddevil4life', 'reddakushgodd', 'redcliffe', 'redbull', 'redblood', 'recruitment', 'recruiting', 'recovered', 'recordhigh', 'recorded', 'recordand', 'reconnect', 'recommendations', 'recoil', 'recognition', 'recognised', 'recluse', 'reckless', 'recipe', 'recip', 'receives', 'recalled', 'recal', 'rec', 'rebound', 'reboot', 'reblogged', 'rebelmage2', 'rebelled', 'rebecca', 'rebahes', 'reassigned', 'realm', 'realliampayne', 'realjaxclone', 'realizations', 'realization', 'realities', 'realistic', 'realhotcullen', 'realhiphop', 'reagans', 'reagan', 'reafs', 'readiness', 'reader', 'reacts', 'reactors', 'reactorbased', 'reactions', 'reached', 'reaad', 'rdg', 'rdconsider', 'rconspiracy', 'rcityporn', 'rchs', 'rbi', 'rbcinsurance', 'razedåÊ\\x89ÛÒ', 'razak', 'rayquazaerk', 'raychielovesu', 'rawfoodbliss', 'ravioliåÊwith', 'rave', 'rationing', 'ratio', 'ratingscategories', 'ratings', 'ratingbut', 'rascal', 'raredealsuk', 'rar', 'raptorsbeg', 'raped', 'rants', 'rantipozi', 'ransacked', 'ranks', 'ranking', 'ranked', 'rank', 'raniakhalek', 'rangerkaitimay', 'rang', 'randy', 'randomtourist', 'randomthought', 'randerson62', 'randallpinkston', 'rams', 'rampage', 'ramp', 'ramat', 'ram', 'ralph', 'rally\\x89Û', 'raisinfingers', 'raishimi33', 'rainy', 'rainwindstorm', 'rainforestresq', 'raineishida', 'railroad', 'railguns', 'raidersreporter', 'rahulkanwal', 'raheelsharif', 'raheel', 'raging', 'rag', 'raft', 'raffirc', 'radychildrens', 'radler', 'radios', 'radioriffrocks', 'radical', 'rachelcaine', 'racer', 'raccoons', 'racco', 'rabidmonkeys1', 'rabbit', 'rabaa', 'raabchar28', 'ra', 'r5live', 'r3do', 'r21', 'r1354', 'qzloremft', 'qz', 'quottelevision', 'quotoperations', 'quotesttg', 'quoteoftheday', 'quora', 'quizzed', 'quit', 'quirk', 'quiet', 'quicker', 'quests', 'questionfatalityflawless', 'questergirl', 'quem', 'queer', 'queenwendy', 'queenswharf', 'queenmy', 'quarter', 'quarrel', 'quantit\\x89Ûhttpstco64cymg1ltg', 'quals', 'qualit', 'quake', 'quadrillion', 'qty', 'qpr1980', 'qotring', 'qnh', 'qew', 'qendil', 'qave', 'qampa', 'q99', 'q13', 'q1', 'python', 'pyrotechnic', 'pyrbliss', 'pyramidhead76', 'pydisney', 'pwhvgwax', 'pvris', 'puts', 'puth', 'pussyxdestroyer', 'pusssssssssy', 'push2left', 'purposely', 'purpose', 'purported', 'purpleturtlerdg', 'purified', 'purely', 'purdies', 'puppyshogun', 'puppet', 'pup', 'puny', 'punk', 'punishing', 'punishable', 'pundits', 'pundit', 'punch', 'pumpkin', 'pumper', 'pumped', 'pummel', 'pulse', 'pull\\x89Ûone\\x89Ûyou', 'pullup', 'pulkovo', 'puledotechupdate', 'pugwash', 'pugprobs', 'pug', 'puff', 'puerto', 'puddle', 'puckflattened', 'publishing', 'publish', 'publicityalthough', 'publichealth', 'pub', 'pu', 'pt4', 'pt1', 'psychrewatch', 'psychologist', 'psychic', 'psp', 'psfda', 'pseudojuuzo', 'psd', 'psalm3422', 'psa', 'ps3', 'ps2', 'ps1', 'prysmian', 'proxy', 'proxies', 'provokes', 'providers', 'provided', 'proven', 'prove', 'proudgreenhome', 'protostates', 'protestors', 'protesters', 'protein', 'protected', 'prosser', 'prosper', 'pros', 'proportions', 'prophets', 'prophecy', 'propertycasu', 'properly', 'propelled', 'propane', 'propaganda', 'pronouncing', 'proms', 'prompting', 'prompt', 'promotion', 'promoted', 'promo', 'promised', 'prom', 'prolong', 'prolly', 'proliferation', 'projectiles\\x89ÛÒ', 'progressives', 'progress4ohio', 'programs', 'profittothepeople', 'profithungry', 'professionally', 'profbriancox', 'productive', 'production', 'produces', 'producer', 'produce', 'produc', 'prodemocracy', 'proc', 'probs', 'probability', 'prob', 'privilege', 'prisonplanet', 'prisoners', 'prints', 'printing', 'printed', 'printable', 'principle', 'princessduck', 'princeoffencing', 'primalkitchen', 'primal', 'priests', 'priest', 'pride', 'prez', 'previews', 'preventative', 'prevalent', 'prettyboyshyflizzy', 'pretenses', 'presume', 'preston\\x89Ûªs', 'prestige', 'presstv', 'presssec', 'pressing', 'presser', 'presley', 'presinkhole', 'president\\x89Û\\x9d', 'presidential', 'preset', 'preserve', 'presents', 'presentation', 'preseasonworkouts', 'preseason', 'preschool', 'presbad', 'preppertalk', 'preppers', 'preparedelectrocutedboiling', 'prensa', 'premises', 'prem', 'preferable', 'prefecture', 'preemptive', 'predynastic', 'predictions', 'preconditioning', 'precisionistic', 'precedent', 'preaching', 'preacher', 'praying', 'prayforsaipan', 'prayed', 'praise', 'pragnik', 'practitioner', 'practicing', 'practicenyg', 'practically', 'prablematicla', 'pra', 'ppsellsbabyparts', 'ppor', 'pple', 'ppfa', 'ppc', 'ppact', 'pp400dr', 'pp15000266858', 'pp15000266818', 'pp', 'poze', 'pozarmy', 'pox', 'powerwow', 'powers', 'powerhiroshima', 'powder', 'poway', 'pow', 'pouring', 'poured', 'pour', 'pounds', 'pounding', 'pounded', 'pouch', 'potter', 'pots', 'potatoes', 'pot', 'postponed', 'postexistence', 'postering', 'poster', 'postcards', 'postcapitalism', 'postal', 'possess', 'possesion', 'positively', 'poses', 'pos', 'portrait', 'portfolio', 'portaloos', 'porno', 'pornhub', 'porcupine', 'porcini', 'population6', 'popeyes', 'popcorn', 'pop2015', 'pony', 'ponting', 'pone', 'polluted', 'pollster', 'politic\\x89Û', 'politicized', 'politicians', 'politely', 'polit', 'policylab', 'police\\x89Û', 'policeng', 'pole', 'polaroids', 'polar', 'pol', 'pokemoncards', 'pokemon', 'poisoned', 'point\\x89Û', 'pointless', 'poignant', 'pogo', 'podcast', 'pod', 'poconorecord', 'pochette', 'poc', 'pneumonia', 'plymouth', 'plumbing', 'plugin', 'plsss', 'plotted', 'ploppy', 'pll', 'plez', 'pletch\\x89Ûªs', 'pledged', 'pleb', 'pleasant', 'pleaded', 'plaza', 'playthrough', 'playstation', 'playoverwatch', 'playingnow', 'playa', 'platt', 'platinum', 'plastics', 'plastic', 'plantcovered', 'plantations', 'planners', 'plannedparenthood', 'plank', 'planing', 'planetary', 'pl', 'pkwy', 'pjcoyle', 'pizzas', 'pizzarev', 'pixelsmovie', 'pixeljanosz', 'pixelcanuck', 'pixar', 'pivot', 'pity', 'pittsburgh', 'pitmix', 'pitcher', 'pitched', 'pit', 'piss', 'pisco', 'pirates', 'pirate', 'piracy', 'pir', 'piprhys', 'piping', 'piperwearsthepants', 'pipeliners', 'pioneer', 'pineview', 'pin23928835', 'pills', 'pilgrims', 'pileup', 'piles', 'pileq', 'pikin', 'pikachu', 'pigeon', 'piga', 'piercings', 'piercing', 'pierce', 'pierc', 'piece\\x89Û', 'pieceofme', 'pictwittercompnpizody', 'pictured', 'picthis', 'pickpocket', 'pickle', 'pickens', 'pianohands', 'piano', 'physician', 'phuket', 'photoop', 'photographs', 'photographed', 'photogenic', 'phnotf', 'phillips', 'phillip', 'philippines\\x89Û', 'philippine', 'philippi', 'philipduncan', 'philip', 'phelimkine', 'pharrell', 'pharma', 'phantasmal', 'phandom', 'phalaborwa', 'ph0tos', 'pga', 'pft', 'pfft', 'pfannebeckers', 'petty', 'petting', 'petitiontake', 'petitionno', 'petersens', 'petersburg', 'peterknox', 'peterhowenecn', 'petereallen', 'peterduttonmp', 'petelmcguire', 'petebests', 'pete', 'petchary', 'peta', 'pet', 'pestle', 'perspectives', 'perspective', 'personnel', 'personalize', 'personalinjury', 'persistent', 'persist', 'perrychat', 'perrybellegarde', 'perrie', 'perpetrators', 'permission', 'periwinkle', 'perished', 'periscope', 'perform', 'perforated', 'perfectly', 'perceive', 'pepperoni', 'peoplegt', 'peoplecommunication', 'pension', 'penny', 'pennlive', 'pennies', 'penneys', 'peninsula', 'penetrate', 'penalty', 'pelosis', 'peice', 'peeters', 'peers', 'peeped', 'peel', 'peeked', 'pee', 'pedro20', 'pediatric', 'pedals', 'peasants', 'pearlharbor', 'pearl', 'peale', 'peace\\x89Ûª', 'peacetime', 'pdxabq', 'pd', 'pci', 'pcaldicott7', 'pbx', 'pbs', 'pbohanna', 'pbcanpcx', 'pb', 'paypile', 'payment', 'paying', 'paydayprison', 'payday', 'payback', 'paxton', 'pawsox', 'paws', 'paulstaubs', 'pauls', 'paulista', 'paulhollywood', 'pattyds50', 'patterns', 'patrol', 'patrickwsls', 'patrickjbutler', 'patriciatraina', 'patna', 'patio', 'patientreported', 'paths', 'pathfinders', 'pat', 'pastures', 'pastor', 'pastie', 'passive', 'passion', 'pascoe', 'pascal', 'partys', 'partners', 'partner', 'parties', 'participating', 'participate', 'partially', 'parter', 'partake', 'parsholics', 'pars', 'parliment', 'parliamentary', 'parley\\x89Ûªs', 'parksboardfacts', 'parks', 'parked', 'parkchat', 'parisian', 'parental', 'parent', 'pardon', 'parched', 'paratroopers', 'paramore', 'paramedics', 'paraguay', 'paradise', 'paracord', 'para', 'papicongress', 'papi', 'paperwork', 'paperback', 'papcrdoll', 'papa', 'pantofel', 'panties', 'panther', 'pantalonesfuego', 'panik', 'panics', 'panicked', 'pandora', 'pandemoniumiso', 'pandemic', 'pancakes', 'panama', 'pampered', 'pampalmater', 'palmoil', 'palmer', 'palm', 'palinfoen', 'palestinian\\x89Û', 'palermo', 'paleface', 'pale', 'pakthey', 'pakistans', 'pajamas', 'paints', 'painthey', 'painful', 'paine', 'paging', 'pageshi', 'pages', 'paeds', 'pads', 'padres', 'paddytomlinson1']\n",
            "5 least common words:['pages', 'paeds', 'pads', 'padres', 'paddytomlinson1']\n"
          ]
        }
      ]
    },
    {
      "cell_type": "code",
      "source": [
        "train_sentences"
      ],
      "metadata": {
        "colab": {
          "base_uri": "https://localhost:8080/"
        },
        "id": "7Nzl0jpjsj9Z",
        "outputId": "5b078ce8-89db-4e1b-8569-e3b932aae358"
      },
      "execution_count": 22,
      "outputs": [
        {
          "output_type": "execute_result",
          "data": {
            "text/plain": [
              "array(['@mogacola @zamtriossu i screamed after hitting tweet',\n",
              "       'Imagine getting flattened by Kurt Zouma',\n",
              "       '@Gurmeetramrahim #MSGDoing111WelfareWorks Green S welfare force ke appx 65000 members har time disaster victim ki help ke liye tyar hai....',\n",
              "       ...,\n",
              "       'Near them on the sand half sunk a shattered visage lies... http://t.co/0kCCG1BT06',\n",
              "       \"kesabaran membuahkan hasil indah pada saat tepat! life isn't about waiting for the storm to pass it's about learning to dance in the rain.\",\n",
              "       \"@ScottDPierce @billharris_tv @HarrisGle @Beezersun I'm forfeiting this years fantasy football pool out of fear I may win n get my ass kicked\"],\n",
              "      dtype=object)"
            ]
          },
          "metadata": {},
          "execution_count": 22
        }
      ]
    },
    {
      "cell_type": "markdown",
      "source": [
        "Yukarıda yaptıklarımız tokenization layer oluyor.\n"
      ],
      "metadata": {
        "id": "ma3XYc7Ss-ll"
      }
    },
    {
      "cell_type": "markdown",
      "source": [
        "## Embedding ve Tokenization FARKI\n",
        "\n",
        "\n",
        "Embedding ve tokenization, doğal dil işleme (NLP) alanında kullanılan iki farklı teknikdir. İkisi de metin verilerini makine öğrenimi modellerine veya yapay zeka sistemlerine giriş olarak kullanılabilir. Ancak işlevleri ve kullanımları farklıdır.\n",
        "\n",
        "**Tokenization**:\n",
        "Tokenization, metin verilerini belirli bir format veya dil bilgisine göre parçalara ayırma işlemidir. Bu parçalar \"token\" olarak adlandırılır. Tokenization sırasında, metin cümleler veya kelimeler gibi daha küçük parçalara bölünür. Örneğin, bir cümle cümlelerine veya kelimelerine ayrılabilir.\n",
        "Tokenization, metnin yapısını anlamak, kelime sıklığı sayımı yapmak, dil modelleri oluşturmak veya bir metin veri kümesini işlemek için kullanılır. Örnek olarak, bir cümleyi tokenize ederken, \"Bu bir örnek cümledir.\" gibi bir giriş \"Bu\", \"bir\", \"örnek\", \"cümledir\" gibi ayrı ayrı parçalara bölünebilir.\n",
        "\n",
        "**Embedding**:\n",
        "Embedding, metin veya kategorik verileri makine öğrenimi modellerine veya yapay zeka sistemlerine giriş olarak temsil etmek için kullanılan bir tekniktir. Embedding, tokenization'ın ötesine geçerek, kelime veya kategori gibi girişlerin bir vektör uzayında temsil edilmesini sağlar. Bu vektör temsilleri, kelimenin veya kategorinin anlamsal benzerliklerini veya ilişkilerini yansıtacak şekilde öğrenilir.\n",
        "Özellikle kelime gömme (word embedding) sıkça kullanılan bir embedding türüdür. Burada, her kelime bir vektörle temsil edilir ve bu vektörler, genellikle kelimenin anlamını yansıtacak şekilde eğitilir. Örneğin, \"kral\" ve \"kraliçe\" kelimeleri arasındaki ilişkiyi temsil eden vektörler birbirlerine daha yakın olacaktır.\n",
        "\n",
        "Sonuç olarak, tokenization, metin verilerini işlemek ve parçalara ayırmak için kullanılırken, embedding, metin verilerini sayısal temsillerle temsil etmek ve anlamsal ilişkileri yansıtmak için kullanılır. Birçok durumda, öncelikle metin verileri tokenize edilir ve ardından bu tokenler embedding teknikleri kullanılarak sayısal temsillerle değiştirilir. Bu, makine öğrenimi modellerinin metin verilerini anlaması ve işlemesi için önemli bir adımdır."
      ],
      "metadata": {
        "id": "PdGrjZ_RYLMG"
      }
    },
    {
      "cell_type": "code",
      "source": [
        "### Embedding layer\n",
        "tf.random.set_seed(42)\n",
        "\n",
        "max_vocab_length = 10000  # Example value, replace with the actual size of your vocabulary\n",
        "\n",
        "from tensorflow.keras import layers\n",
        "\n",
        "embedding = layers.Embedding(input_dim=max_vocab_length, # set input shape\n",
        "                             output_dim=128, # set size of embedding vector\n",
        "                             embeddings_initializer=\"uniform\", # default, intialize randomly\n",
        "                             input_length=max_length, # how long is each input\n",
        "                             name=\"embedding_1\")\n",
        "\n",
        "embedding\n"
      ],
      "metadata": {
        "colab": {
          "base_uri": "https://localhost:8080/"
        },
        "id": "17LFFV4Is071",
        "outputId": "10978688-404d-4b62-ca0c-039d18a955eb"
      },
      "execution_count": 23,
      "outputs": [
        {
          "output_type": "execute_result",
          "data": {
            "text/plain": [
              "<keras.src.layers.core.embedding.Embedding at 0x787564f98be0>"
            ]
          },
          "metadata": {},
          "execution_count": 23
        }
      ]
    },
    {
      "cell_type": "code",
      "source": [
        "# Get a random sentence from training set\n",
        "random_sentence = random.choice(train_sentences)\n",
        "print(f\"Original text:\\n{random_sentence}\\\n",
        "      \\n\\nEmbedded version:\")\n",
        "\n",
        "# Embed the random sentence (turn it into numerical representation)\n",
        "sample_embed = embedding(text_vectorizer([random_sentence]))\n",
        "sample_embed"
      ],
      "metadata": {
        "colab": {
          "base_uri": "https://localhost:8080/"
        },
        "id": "98BbVRfOygPy",
        "outputId": "f0de9cfb-5719-4d32-b927-f85c3fa33daf"
      },
      "execution_count": 24,
      "outputs": [
        {
          "output_type": "stream",
          "name": "stdout",
          "text": [
            "Original text:\n",
            "Killing Black Babies at Planned Parenthood where's the demonstrations looting of PP burning down the buildings Black Babies Lives Matter      \n",
            "\n",
            "Embedded version:\n"
          ]
        },
        {
          "output_type": "execute_result",
          "data": {
            "text/plain": [
              "<tf.Tensor: shape=(1, 15, 128), dtype=float32, numpy=\n",
              "array([[[-0.0077737 , -0.03476388,  0.0174867 , ..., -0.01193758,\n",
              "          0.02319798,  0.0043537 ],\n",
              "        [ 0.00973732, -0.02333597, -0.006516  , ..., -0.01825236,\n",
              "          0.03037998,  0.02352151],\n",
              "        [-0.00644572, -0.04884225, -0.01022481, ..., -0.03947739,\n",
              "          0.01770595,  0.0271737 ],\n",
              "        ...,\n",
              "        [-0.0423654 , -0.01330614, -0.03133594, ...,  0.0342023 ,\n",
              "         -0.00227011, -0.01031109],\n",
              "        [ 0.00689237, -0.02481714,  0.01971697, ..., -0.00210954,\n",
              "          0.02170194,  0.01995095],\n",
              "        [ 0.03873457,  0.0433658 ,  0.03647766, ..., -0.02003136,\n",
              "         -0.03525887,  0.01171626]]], dtype=float32)>"
            ]
          },
          "metadata": {},
          "execution_count": 24
        }
      ]
    },
    {
      "cell_type": "code",
      "source": [
        "sample_embed[0][0]\n"
      ],
      "metadata": {
        "colab": {
          "base_uri": "https://localhost:8080/"
        },
        "id": "jee-pY_lLVKM",
        "outputId": "cd11089c-953f-4acb-e056-0bf7a382f020"
      },
      "execution_count": 25,
      "outputs": [
        {
          "output_type": "execute_result",
          "data": {
            "text/plain": [
              "<tf.Tensor: shape=(128,), dtype=float32, numpy=\n",
              "array([-0.0077737 , -0.03476388,  0.0174867 ,  0.04237205,  0.02693233,\n",
              "       -0.04004189,  0.01401256, -0.00329285, -0.02026932,  0.02476465,\n",
              "       -0.01237895, -0.01307858, -0.03852428, -0.00749549, -0.01663154,\n",
              "        0.00548518,  0.04014316, -0.02715404,  0.03626496,  0.046301  ,\n",
              "       -0.00171707,  0.04015705,  0.04227242,  0.03913656, -0.03297552,\n",
              "        0.02873844,  0.04708539,  0.01046395, -0.04873145,  0.01925225,\n",
              "        0.00368967,  0.04739388,  0.03275077, -0.0324529 ,  0.03536263,\n",
              "       -0.01232357,  0.01526761, -0.03635786, -0.02535859,  0.00629757,\n",
              "        0.01776352,  0.01353811,  0.04291191,  0.03689443,  0.04642412,\n",
              "       -0.01707525, -0.01554103,  0.04809194,  0.04851294,  0.04316706,\n",
              "        0.03210518,  0.01077477,  0.04111272, -0.04122711, -0.01609017,\n",
              "       -0.00784174,  0.00490875, -0.0283637 , -0.01120373,  0.03403104,\n",
              "        0.01820823,  0.01832088, -0.03989033, -0.01559234, -0.02336699,\n",
              "       -0.02990576, -0.014659  , -0.02223578,  0.04001436, -0.04505917,\n",
              "        0.04054535,  0.0457424 , -0.0224131 ,  0.02545201,  0.04539606,\n",
              "       -0.01085956,  0.04763709, -0.02370955,  0.01028119, -0.02774028,\n",
              "        0.0325993 ,  0.01377186,  0.02527188,  0.0097674 ,  0.03632972,\n",
              "       -0.0276549 , -0.02729355, -0.04834923, -0.04764065,  0.04916361,\n",
              "        0.01662802,  0.01133945, -0.04625329,  0.01387221,  0.01082579,\n",
              "        0.03717705, -0.02010599,  0.04722497,  0.02788266,  0.01371891,\n",
              "        0.01142091,  0.03649968, -0.00177442, -0.02557504, -0.0255785 ,\n",
              "       -0.01780365, -0.03424591, -0.04364687,  0.01058009, -0.03400724,\n",
              "        0.01868578,  0.04001987,  0.01544123,  0.01479076, -0.00558232,\n",
              "       -0.02736112,  0.02977302, -0.03916533,  0.02454921,  0.01533692,\n",
              "        0.00671405,  0.03793075, -0.0418236 , -0.01186525,  0.04771898,\n",
              "       -0.01193758,  0.02319798,  0.0043537 ], dtype=float32)>"
            ]
          },
          "metadata": {},
          "execution_count": 25
        }
      ]
    },
    {
      "cell_type": "code",
      "source": [
        "## Text verisini modelleme (running a series of experiments)\n",
        "\n",
        "from sklearn.feature_extraction.text import TfidfVectorizer\n",
        "from sklearn.naive_bayes import MultinomialNB\n",
        "from sklearn.pipeline import Pipeline\n",
        "\n",
        "# Create tokenization and modelling pipeline\n",
        "model_0 = Pipeline([\n",
        "                    (\"tfidf\", TfidfVectorizer()), # convert words to numbers using tfidf\n",
        "                    (\"clf\", MultinomialNB()) # model the text\n",
        "])\n",
        "\n",
        "# Fit the pipeline to the training data\n",
        "model_0.fit(train_sentences, train_labels)\n"
      ],
      "metadata": {
        "colab": {
          "base_uri": "https://localhost:8080/",
          "height": 124
        },
        "id": "oejhrIt1Louy",
        "outputId": "8c3a2fc9-7d8e-4e7a-9f9d-c782acb4bf8d"
      },
      "execution_count": 26,
      "outputs": [
        {
          "output_type": "execute_result",
          "data": {
            "text/plain": [
              "Pipeline(steps=[('tfidf', TfidfVectorizer()), ('clf', MultinomialNB())])"
            ],
            "text/html": [
              "<style>#sk-container-id-1 {color: black;background-color: white;}#sk-container-id-1 pre{padding: 0;}#sk-container-id-1 div.sk-toggleable {background-color: white;}#sk-container-id-1 label.sk-toggleable__label {cursor: pointer;display: block;width: 100%;margin-bottom: 0;padding: 0.3em;box-sizing: border-box;text-align: center;}#sk-container-id-1 label.sk-toggleable__label-arrow:before {content: \"▸\";float: left;margin-right: 0.25em;color: #696969;}#sk-container-id-1 label.sk-toggleable__label-arrow:hover:before {color: black;}#sk-container-id-1 div.sk-estimator:hover label.sk-toggleable__label-arrow:before {color: black;}#sk-container-id-1 div.sk-toggleable__content {max-height: 0;max-width: 0;overflow: hidden;text-align: left;background-color: #f0f8ff;}#sk-container-id-1 div.sk-toggleable__content pre {margin: 0.2em;color: black;border-radius: 0.25em;background-color: #f0f8ff;}#sk-container-id-1 input.sk-toggleable__control:checked~div.sk-toggleable__content {max-height: 200px;max-width: 100%;overflow: auto;}#sk-container-id-1 input.sk-toggleable__control:checked~label.sk-toggleable__label-arrow:before {content: \"▾\";}#sk-container-id-1 div.sk-estimator input.sk-toggleable__control:checked~label.sk-toggleable__label {background-color: #d4ebff;}#sk-container-id-1 div.sk-label input.sk-toggleable__control:checked~label.sk-toggleable__label {background-color: #d4ebff;}#sk-container-id-1 input.sk-hidden--visually {border: 0;clip: rect(1px 1px 1px 1px);clip: rect(1px, 1px, 1px, 1px);height: 1px;margin: -1px;overflow: hidden;padding: 0;position: absolute;width: 1px;}#sk-container-id-1 div.sk-estimator {font-family: monospace;background-color: #f0f8ff;border: 1px dotted black;border-radius: 0.25em;box-sizing: border-box;margin-bottom: 0.5em;}#sk-container-id-1 div.sk-estimator:hover {background-color: #d4ebff;}#sk-container-id-1 div.sk-parallel-item::after {content: \"\";width: 100%;border-bottom: 1px solid gray;flex-grow: 1;}#sk-container-id-1 div.sk-label:hover label.sk-toggleable__label {background-color: #d4ebff;}#sk-container-id-1 div.sk-serial::before {content: \"\";position: absolute;border-left: 1px solid gray;box-sizing: border-box;top: 0;bottom: 0;left: 50%;z-index: 0;}#sk-container-id-1 div.sk-serial {display: flex;flex-direction: column;align-items: center;background-color: white;padding-right: 0.2em;padding-left: 0.2em;position: relative;}#sk-container-id-1 div.sk-item {position: relative;z-index: 1;}#sk-container-id-1 div.sk-parallel {display: flex;align-items: stretch;justify-content: center;background-color: white;position: relative;}#sk-container-id-1 div.sk-item::before, #sk-container-id-1 div.sk-parallel-item::before {content: \"\";position: absolute;border-left: 1px solid gray;box-sizing: border-box;top: 0;bottom: 0;left: 50%;z-index: -1;}#sk-container-id-1 div.sk-parallel-item {display: flex;flex-direction: column;z-index: 1;position: relative;background-color: white;}#sk-container-id-1 div.sk-parallel-item:first-child::after {align-self: flex-end;width: 50%;}#sk-container-id-1 div.sk-parallel-item:last-child::after {align-self: flex-start;width: 50%;}#sk-container-id-1 div.sk-parallel-item:only-child::after {width: 0;}#sk-container-id-1 div.sk-dashed-wrapped {border: 1px dashed gray;margin: 0 0.4em 0.5em 0.4em;box-sizing: border-box;padding-bottom: 0.4em;background-color: white;}#sk-container-id-1 div.sk-label label {font-family: monospace;font-weight: bold;display: inline-block;line-height: 1.2em;}#sk-container-id-1 div.sk-label-container {text-align: center;}#sk-container-id-1 div.sk-container {/* jupyter's `normalize.less` sets `[hidden] { display: none; }` but bootstrap.min.css set `[hidden] { display: none !important; }` so we also need the `!important` here to be able to override the default hidden behavior on the sphinx rendered scikit-learn.org. See: https://github.com/scikit-learn/scikit-learn/issues/21755 */display: inline-block !important;position: relative;}#sk-container-id-1 div.sk-text-repr-fallback {display: none;}</style><div id=\"sk-container-id-1\" class=\"sk-top-container\"><div class=\"sk-text-repr-fallback\"><pre>Pipeline(steps=[(&#x27;tfidf&#x27;, TfidfVectorizer()), (&#x27;clf&#x27;, MultinomialNB())])</pre><b>In a Jupyter environment, please rerun this cell to show the HTML representation or trust the notebook. <br />On GitHub, the HTML representation is unable to render, please try loading this page with nbviewer.org.</b></div><div class=\"sk-container\" hidden><div class=\"sk-item sk-dashed-wrapped\"><div class=\"sk-label-container\"><div class=\"sk-label sk-toggleable\"><input class=\"sk-toggleable__control sk-hidden--visually\" id=\"sk-estimator-id-1\" type=\"checkbox\" ><label for=\"sk-estimator-id-1\" class=\"sk-toggleable__label sk-toggleable__label-arrow\">Pipeline</label><div class=\"sk-toggleable__content\"><pre>Pipeline(steps=[(&#x27;tfidf&#x27;, TfidfVectorizer()), (&#x27;clf&#x27;, MultinomialNB())])</pre></div></div></div><div class=\"sk-serial\"><div class=\"sk-item\"><div class=\"sk-estimator sk-toggleable\"><input class=\"sk-toggleable__control sk-hidden--visually\" id=\"sk-estimator-id-2\" type=\"checkbox\" ><label for=\"sk-estimator-id-2\" class=\"sk-toggleable__label sk-toggleable__label-arrow\">TfidfVectorizer</label><div class=\"sk-toggleable__content\"><pre>TfidfVectorizer()</pre></div></div></div><div class=\"sk-item\"><div class=\"sk-estimator sk-toggleable\"><input class=\"sk-toggleable__control sk-hidden--visually\" id=\"sk-estimator-id-3\" type=\"checkbox\" ><label for=\"sk-estimator-id-3\" class=\"sk-toggleable__label sk-toggleable__label-arrow\">MultinomialNB</label><div class=\"sk-toggleable__content\"><pre>MultinomialNB()</pre></div></div></div></div></div></div></div>"
            ]
          },
          "metadata": {},
          "execution_count": 26
        }
      ]
    },
    {
      "cell_type": "code",
      "source": [
        "baseline_score = model_0.score(val_sentences, val_labels)\n",
        "print(f\"Our baseline model achieves an accuracy of: {baseline_score*100:.2f}%\")"
      ],
      "metadata": {
        "colab": {
          "base_uri": "https://localhost:8080/"
        },
        "id": "ouzwGhM0SVcY",
        "outputId": "a1c6b02b-2c48-4e5c-949e-2eb021de44ef"
      },
      "execution_count": 27,
      "outputs": [
        {
          "output_type": "stream",
          "name": "stdout",
          "text": [
            "Our baseline model achieves an accuracy of: 79.27%\n"
          ]
        }
      ]
    },
    {
      "cell_type": "code",
      "source": [
        "# Make predictions\n",
        "baseline_preds = model_0.predict(val_sentences)\n",
        "baseline_preds[:20]"
      ],
      "metadata": {
        "colab": {
          "base_uri": "https://localhost:8080/"
        },
        "id": "OaIXV4sAScGL",
        "outputId": "c1444c67-4564-48d9-a51c-572e9653f655"
      },
      "execution_count": 28,
      "outputs": [
        {
          "output_type": "execute_result",
          "data": {
            "text/plain": [
              "array([1, 1, 1, 0, 0, 1, 1, 1, 1, 0, 0, 1, 0, 0, 0, 0, 0, 0, 0, 1])"
            ]
          },
          "metadata": {},
          "execution_count": 28
        }
      ]
    },
    {
      "cell_type": "code",
      "source": [
        "# Function to evaluate: accuracy, precision, recall, f1-score\n",
        "from sklearn.metrics import accuracy_score, precision_recall_fscore_support\n",
        "\n",
        "def calculate_results(y_true, y_pred):\n",
        "  \"\"\"\n",
        "  Calculates model accuracy, precision, recall and f1 score of a binary classification model.\n",
        "\n",
        "  Args:\n",
        "  -----\n",
        "  y_true = true labels in the form of a 1D array\n",
        "  y_pred = predicted labels in the form of a 1D array\n",
        "\n",
        "  Returns a dictionary of accuracy, precision, recall, f1-score.\n",
        "  \"\"\"\n",
        "  # Calculate model accuracy\n",
        "  model_accuracy = accuracy_score(y_true, y_pred) * 100\n",
        "  # Calculate model precision, recall and f1 score using \"weighted\" average\n",
        "  model_precision, model_recall, model_f1, _ = precision_recall_fscore_support(y_true, y_pred, average=\"weighted\")\n",
        "  model_results = {\"accuracy\": model_accuracy,\n",
        "                  \"precision\": model_precision,\n",
        "                  \"recall\": model_recall,\n",
        "                  \"f1\": model_f1}\n",
        "  return model_results"
      ],
      "metadata": {
        "id": "6VRhyZ_rScHs"
      },
      "execution_count": 29,
      "outputs": []
    },
    {
      "cell_type": "code",
      "source": [
        "# Get baseline results\n",
        "baseline_results = calculate_results(y_true=val_labels,\n",
        "                                     y_pred=baseline_preds)\n",
        "baseline_results"
      ],
      "metadata": {
        "colab": {
          "base_uri": "https://localhost:8080/"
        },
        "id": "1icb5-1BSfR0",
        "outputId": "3a38f16f-710e-49fb-d778-07f1a3526d5c"
      },
      "execution_count": 30,
      "outputs": [
        {
          "output_type": "execute_result",
          "data": {
            "text/plain": [
              "{'accuracy': 79.26509186351706,\n",
              " 'precision': 0.8111390004213173,\n",
              " 'recall': 0.7926509186351706,\n",
              " 'f1': 0.7862189758049549}"
            ]
          },
          "metadata": {},
          "execution_count": 30
        }
      ]
    },
    {
      "cell_type": "markdown",
      "source": [
        "## Model 1"
      ],
      "metadata": {
        "id": "lyOqdYpqUr0R"
      }
    },
    {
      "cell_type": "code",
      "source": [
        "from helper_functions import create_tensorboard_callback\n",
        "\n",
        "SAVE_DIR=\"model_logs\""
      ],
      "metadata": {
        "id": "odQs8pXKTfYZ"
      },
      "execution_count": 31,
      "outputs": []
    },
    {
      "cell_type": "code",
      "source": [
        "from tensorflow.keras import layers\n",
        "inputs = layers.Input(shape=(1,), dtype=\"string\") # inputs are 1-dimensional strings\n",
        "x = text_vectorizer(inputs) # turn the input text into numbers\n",
        "x = embedding(x) # create an embedding of the numerized numbers\n",
        "x = layers.GlobalAveragePooling1D()(x) # lower the dimensionality of the embedding (try running the model without this layer and see what happens) Her bir token için tahminleme yapar eğer global average pool yapmaz isek.\n",
        "outputs = layers.Dense(1, activation=\"sigmoid\")(x) # create the output layer, want binary outputs so use sigmoid activation\n",
        "model_1 = tf.keras.Model(inputs, outputs, name=\"model_1_dense\") # construct the model"
      ],
      "metadata": {
        "id": "yldQkk3dVBsB"
      },
      "execution_count": 32,
      "outputs": []
    },
    {
      "cell_type": "code",
      "source": [
        "model_1.compile(loss=\"binary_crossentropy\",\n",
        "                optimizer=tf.keras.optimizers.Adam(),\n",
        "                metrics=[\"accuracy\"])"
      ],
      "metadata": {
        "id": "tqa_h8igWNya"
      },
      "execution_count": 33,
      "outputs": []
    },
    {
      "cell_type": "code",
      "source": [
        "model_1.summary()\n"
      ],
      "metadata": {
        "colab": {
          "base_uri": "https://localhost:8080/"
        },
        "id": "lqew8GRJY7Qo",
        "outputId": "05efa76c-7045-44ce-f5f0-4ede72418526"
      },
      "execution_count": 34,
      "outputs": [
        {
          "output_type": "stream",
          "name": "stdout",
          "text": [
            "Model: \"model_1_dense\"\n",
            "_________________________________________________________________\n",
            " Layer (type)                Output Shape              Param #   \n",
            "=================================================================\n",
            " input_1 (InputLayer)        [(None, 1)]               0         \n",
            "                                                                 \n",
            " text_vectorization_1 (Text  (None, 15)                0         \n",
            " Vectorization)                                                  \n",
            "                                                                 \n",
            " embedding_1 (Embedding)     (None, 15, 128)           1280000   \n",
            "                                                                 \n",
            " global_average_pooling1d (  (None, 128)               0         \n",
            " GlobalAveragePooling1D)                                         \n",
            "                                                                 \n",
            " dense (Dense)               (None, 1)                 129       \n",
            "                                                                 \n",
            "=================================================================\n",
            "Total params: 1280129 (4.88 MB)\n",
            "Trainable params: 1280129 (4.88 MB)\n",
            "Non-trainable params: 0 (0.00 Byte)\n",
            "_________________________________________________________________\n"
          ]
        }
      ]
    },
    {
      "cell_type": "code",
      "source": [
        "model_1_history = model_1.fit(train_sentences, # input sentences can be a list of strings due to text preprocessing layer built-in model\n",
        "                              train_labels,\n",
        "                              epochs=5,\n",
        "                              validation_data=(val_sentences, val_labels),\n",
        "                              callbacks=[create_tensorboard_callback(dir_name=SAVE_DIR,\n",
        "                                                                     experiment_name=\"simple_dense_model\")])"
      ],
      "metadata": {
        "colab": {
          "base_uri": "https://localhost:8080/"
        },
        "id": "Lwj2DFH9Y82E",
        "outputId": "b8a593b2-5a4c-4a75-b2f6-ebc4481e913c"
      },
      "execution_count": 35,
      "outputs": [
        {
          "output_type": "stream",
          "name": "stdout",
          "text": [
            "Saving TensorBoard log files to: model_logs/simple_dense_model/20240310-160235\n",
            "Epoch 1/5\n",
            "215/215 [==============================] - 10s 31ms/step - loss: 0.6081 - accuracy: 0.6948 - val_loss: 0.5356 - val_accuracy: 0.7598\n",
            "Epoch 2/5\n",
            "215/215 [==============================] - 6s 29ms/step - loss: 0.4403 - accuracy: 0.8194 - val_loss: 0.4697 - val_accuracy: 0.7861\n",
            "Epoch 3/5\n",
            "215/215 [==============================] - 6s 26ms/step - loss: 0.3456 - accuracy: 0.8613 - val_loss: 0.4598 - val_accuracy: 0.7913\n",
            "Epoch 4/5\n",
            "215/215 [==============================] - 5s 22ms/step - loss: 0.2840 - accuracy: 0.8921 - val_loss: 0.4652 - val_accuracy: 0.7913\n",
            "Epoch 5/5\n",
            "215/215 [==============================] - 4s 19ms/step - loss: 0.2371 - accuracy: 0.9121 - val_loss: 0.4779 - val_accuracy: 0.7861\n"
          ]
        }
      ]
    },
    {
      "cell_type": "code",
      "source": [
        "model_1.evaluate(val_sentences, val_labels)\n"
      ],
      "metadata": {
        "colab": {
          "base_uri": "https://localhost:8080/"
        },
        "id": "VZ5Hn2X3Y_dm",
        "outputId": "5621378b-de35-4d87-8513-7257f277496d"
      },
      "execution_count": 36,
      "outputs": [
        {
          "output_type": "stream",
          "name": "stdout",
          "text": [
            "24/24 [==============================] - 0s 2ms/step - loss: 0.4779 - accuracy: 0.7861\n"
          ]
        },
        {
          "output_type": "execute_result",
          "data": {
            "text/plain": [
              "[0.47786661982536316, 0.7860892415046692]"
            ]
          },
          "metadata": {},
          "execution_count": 36
        }
      ]
    },
    {
      "cell_type": "code",
      "source": [
        "embedding.weights\n"
      ],
      "metadata": {
        "colab": {
          "base_uri": "https://localhost:8080/"
        },
        "id": "U0_d_O2YZHM6",
        "outputId": "41bfba1c-10e5-47e5-cdf8-d86116b56f5b"
      },
      "execution_count": 37,
      "outputs": [
        {
          "output_type": "execute_result",
          "data": {
            "text/plain": [
              "[<tf.Variable 'embedding_1/embeddings:0' shape=(10000, 128) dtype=float32, numpy=\n",
              " array([[-0.01692829,  0.01096282,  0.04647324, ..., -0.00040925,\n",
              "          0.0103692 , -0.01446817],\n",
              "        [ 0.01794673, -0.00074595,  0.01143022, ..., -0.03659263,\n",
              "          0.0038916 , -0.04195898],\n",
              "        [ 0.05798328,  0.06116285,  0.0552786 , ..., -0.03765529,\n",
              "         -0.05672168, -0.00586684],\n",
              "        ...,\n",
              "        [-0.03546869, -0.00080062,  0.0081836 , ...,  0.01381333,\n",
              "          0.0147727 , -0.02697916],\n",
              "        [ 0.07818292,  0.05341816,  0.04668284, ..., -0.04992466,\n",
              "         -0.08295695, -0.03535902],\n",
              "        [ 0.08034026,  0.05145524,  0.02719898, ..., -0.03712629,\n",
              "         -0.08278388, -0.01702061]], dtype=float32)>]"
            ]
          },
          "metadata": {},
          "execution_count": 37
        }
      ]
    },
    {
      "cell_type": "code",
      "source": [
        "embed_weights = model_1.get_layer(\"embedding_1\").get_weights()[0]\n",
        "print(embed_weights.shape)\n"
      ],
      "metadata": {
        "colab": {
          "base_uri": "https://localhost:8080/"
        },
        "id": "x8XSDQV8ZJPS",
        "outputId": "95f2f0d2-9cd9-4147-a7aa-728c639d89a3"
      },
      "execution_count": 38,
      "outputs": [
        {
          "output_type": "stream",
          "name": "stdout",
          "text": [
            "(10000, 128)\n"
          ]
        }
      ]
    },
    {
      "cell_type": "code",
      "source": [
        "# Make predictions (these come back in the form of probabilities)\n",
        "model_1_pred_probs = model_1.predict(val_sentences)\n",
        "model_1_pred_probs[:10] # only print out the first 10 prediction probabilities"
      ],
      "metadata": {
        "colab": {
          "base_uri": "https://localhost:8080/"
        },
        "id": "Sk0n0NH7ZMkQ",
        "outputId": "a4d659fd-9a77-4b33-f35e-cfc8bc576dd4"
      },
      "execution_count": 39,
      "outputs": [
        {
          "output_type": "stream",
          "name": "stdout",
          "text": [
            "24/24 [==============================] - 0s 2ms/step\n"
          ]
        },
        {
          "output_type": "execute_result",
          "data": {
            "text/plain": [
              "array([[0.40948546],\n",
              "       [0.7450638 ],\n",
              "       [0.9978547 ],\n",
              "       [0.10921004],\n",
              "       [0.10459675],\n",
              "       [0.93793875],\n",
              "       [0.91359055],\n",
              "       [0.99265665],\n",
              "       [0.96865016],\n",
              "       [0.26476055]], dtype=float32)"
            ]
          },
          "metadata": {},
          "execution_count": 39
        }
      ]
    },
    {
      "cell_type": "code",
      "source": [
        "model_1_preds = tf.squeeze(tf.round(model_1_pred_probs)) # squeeze removes single dimensions\n",
        "model_1_preds[:20]"
      ],
      "metadata": {
        "colab": {
          "base_uri": "https://localhost:8080/"
        },
        "id": "sPBn5DMpZP6V",
        "outputId": "486e8abd-3823-473e-b927-160cb8780da6"
      },
      "execution_count": 40,
      "outputs": [
        {
          "output_type": "execute_result",
          "data": {
            "text/plain": [
              "<tf.Tensor: shape=(20,), dtype=float32, numpy=\n",
              "array([0., 1., 1., 0., 0., 1., 1., 1., 1., 0., 0., 1., 0., 0., 0., 0., 0.,\n",
              "       0., 0., 1.], dtype=float32)>"
            ]
          },
          "metadata": {},
          "execution_count": 40
        }
      ]
    },
    {
      "cell_type": "code",
      "source": [
        "model_1_results = calculate_results(y_true=val_labels,\n",
        "                                    y_pred=model_1_preds)\n",
        "model_1_results"
      ],
      "metadata": {
        "colab": {
          "base_uri": "https://localhost:8080/"
        },
        "id": "YwRctqq1ZP75",
        "outputId": "735f4abb-df16-4d09-a0fa-ef83d0b1c730"
      },
      "execution_count": 41,
      "outputs": [
        {
          "output_type": "execute_result",
          "data": {
            "text/plain": [
              "{'accuracy': 78.60892388451444,\n",
              " 'precision': 0.7903277546022673,\n",
              " 'recall': 0.7860892388451444,\n",
              " 'f1': 0.7832971347503846}"
            ]
          },
          "metadata": {},
          "execution_count": 41
        }
      ]
    },
    {
      "cell_type": "code",
      "source": [
        "import numpy as np\n",
        "np.array(list(model_1_results.values())) > np.array(list(baseline_results.values()))"
      ],
      "metadata": {
        "colab": {
          "base_uri": "https://localhost:8080/"
        },
        "id": "P0-regmFZTn2",
        "outputId": "403d6e48-22af-4d6e-edb0-4cdc78351366"
      },
      "execution_count": 42,
      "outputs": [
        {
          "output_type": "execute_result",
          "data": {
            "text/plain": [
              "array([False, False, False, False])"
            ]
          },
          "metadata": {},
          "execution_count": 42
        }
      ]
    },
    {
      "cell_type": "code",
      "source": [
        "def compare_baseline_to_new_results(baseline_results, new_model_results):\n",
        "  for key, value in baseline_results.items():\n",
        "    print(f\"Baseline {key}: {value:.2f}, New {key}: {new_model_results[key]:.2f}, Difference: {new_model_results[key]-value:.2f}\")\n",
        "\n",
        "compare_baseline_to_new_results(baseline_results=baseline_results,\n",
        "                                new_model_results=model_1_results)"
      ],
      "metadata": {
        "colab": {
          "base_uri": "https://localhost:8080/"
        },
        "id": "9gWaHEFUZTo7",
        "outputId": "2724a5a1-96f6-4af9-ef08-b799ce90fea0"
      },
      "execution_count": 43,
      "outputs": [
        {
          "output_type": "stream",
          "name": "stdout",
          "text": [
            "Baseline accuracy: 79.27, New accuracy: 78.61, Difference: -0.66\n",
            "Baseline precision: 0.81, New precision: 0.79, Difference: -0.02\n",
            "Baseline recall: 0.79, New recall: 0.79, Difference: -0.01\n",
            "Baseline f1: 0.79, New f1: 0.78, Difference: -0.00\n"
          ]
        }
      ]
    },
    {
      "cell_type": "code",
      "source": [
        "model_1_pred_probs = model_1.predict(val_sentences)\n",
        "model_1_pred_probs[:10] # only print out the first 10 prediction probabilities"
      ],
      "metadata": {
        "colab": {
          "base_uri": "https://localhost:8080/"
        },
        "id": "8RTIs4k4ZWPw",
        "outputId": "b134e12b-365b-4a86-c1be-d47c321dd40a"
      },
      "execution_count": 44,
      "outputs": [
        {
          "output_type": "stream",
          "name": "stdout",
          "text": [
            "24/24 [==============================] - 0s 2ms/step\n"
          ]
        },
        {
          "output_type": "execute_result",
          "data": {
            "text/plain": [
              "array([[0.40948546],\n",
              "       [0.7450638 ],\n",
              "       [0.9978547 ],\n",
              "       [0.10921004],\n",
              "       [0.10459675],\n",
              "       [0.93793875],\n",
              "       [0.91359055],\n",
              "       [0.99265665],\n",
              "       [0.96865016],\n",
              "       [0.26476055]], dtype=float32)"
            ]
          },
          "metadata": {},
          "execution_count": 44
        }
      ]
    },
    {
      "cell_type": "code",
      "source": [
        "# Turn prediction probabilities into single-dimension tensor of floats\n",
        "model_1_preds = tf.squeeze(tf.round(model_1_pred_probs)) # squeeze removes single dimensions\n",
        "model_1_preds[:20]"
      ],
      "metadata": {
        "colab": {
          "base_uri": "https://localhost:8080/"
        },
        "id": "g0b1X2RXZ4VQ",
        "outputId": "79a3d41f-d4a3-4e22-c841-f43a9f25b089"
      },
      "execution_count": 45,
      "outputs": [
        {
          "output_type": "execute_result",
          "data": {
            "text/plain": [
              "<tf.Tensor: shape=(20,), dtype=float32, numpy=\n",
              "array([0., 1., 1., 0., 0., 1., 1., 1., 1., 0., 0., 1., 0., 0., 0., 0., 0.,\n",
              "       0., 0., 1.], dtype=float32)>"
            ]
          },
          "metadata": {},
          "execution_count": 45
        }
      ]
    },
    {
      "cell_type": "code",
      "source": [
        "model_1_results = calculate_results(y_true=val_labels,\n",
        "                                    y_pred=model_1_preds)\n",
        "model_1_results\n"
      ],
      "metadata": {
        "colab": {
          "base_uri": "https://localhost:8080/"
        },
        "id": "w1RMFIstZ65y",
        "outputId": "d171099c-f9f8-41ed-f4b6-79a478390947"
      },
      "execution_count": 46,
      "outputs": [
        {
          "output_type": "execute_result",
          "data": {
            "text/plain": [
              "{'accuracy': 78.60892388451444,\n",
              " 'precision': 0.7903277546022673,\n",
              " 'recall': 0.7860892388451444,\n",
              " 'f1': 0.7832971347503846}"
            ]
          },
          "metadata": {},
          "execution_count": 46
        }
      ]
    },
    {
      "cell_type": "code",
      "source": [
        "import numpy as np\n",
        "np.array(list(model_1_results.values())) > np.array(list(baseline_results.values()))"
      ],
      "metadata": {
        "colab": {
          "base_uri": "https://localhost:8080/"
        },
        "id": "WEDO8oQeZ9o6",
        "outputId": "ec041d8b-7127-412e-d6c2-7df3a214706d"
      },
      "execution_count": 47,
      "outputs": [
        {
          "output_type": "execute_result",
          "data": {
            "text/plain": [
              "array([False, False, False, False])"
            ]
          },
          "metadata": {},
          "execution_count": 47
        }
      ]
    },
    {
      "cell_type": "code",
      "source": [
        "def compare_baseline_to_new_results(baseline_results, new_model_results):\n",
        "  for key, value in baseline_results.items():\n",
        "    print(f\"Baseline {key}: {value:.2f}, New {key}: {new_model_results[key]:.2f}, Difference: {new_model_results[key]-value:.2f}\")\n",
        "\n",
        "compare_baseline_to_new_results(baseline_results=baseline_results,\n",
        "                                new_model_results=model_1_results)"
      ],
      "metadata": {
        "colab": {
          "base_uri": "https://localhost:8080/"
        },
        "id": "plmwbwDlZ9p3",
        "outputId": "5280e350-92a8-4d90-a14a-cc1f771b121b"
      },
      "execution_count": 48,
      "outputs": [
        {
          "output_type": "stream",
          "name": "stdout",
          "text": [
            "Baseline accuracy: 79.27, New accuracy: 78.61, Difference: -0.66\n",
            "Baseline precision: 0.81, New precision: 0.79, Difference: -0.02\n",
            "Baseline recall: 0.79, New recall: 0.79, Difference: -0.01\n",
            "Baseline f1: 0.79, New f1: 0.78, Difference: -0.00\n"
          ]
        }
      ]
    },
    {
      "cell_type": "markdown",
      "source": [
        "# **Embeddingleri görselleştirme**"
      ],
      "metadata": {
        "id": "4TU6wzEycyMZ"
      }
    },
    {
      "cell_type": "code",
      "source": [
        "words_in_vocab = text_vectorizer.get_vocabulary()\n",
        "len(words_in_vocab), words_in_vocab[:10]"
      ],
      "metadata": {
        "colab": {
          "base_uri": "https://localhost:8080/"
        },
        "id": "TYUImEVfZ664",
        "outputId": "ffb0482f-e05b-4c99-f11c-be1eb944ceca"
      },
      "execution_count": 49,
      "outputs": [
        {
          "output_type": "execute_result",
          "data": {
            "text/plain": [
              "(10000, ['', '[UNK]', 'the', 'a', 'in', 'to', 'of', 'and', 'i', 'is'])"
            ]
          },
          "metadata": {},
          "execution_count": 49
        }
      ]
    },
    {
      "cell_type": "code",
      "source": [
        "model_1.summary()\n"
      ],
      "metadata": {
        "colab": {
          "base_uri": "https://localhost:8080/"
        },
        "id": "TSQJCE2waDWv",
        "outputId": "5a8cf9cd-6671-4c30-e663-ff6fa96486c6"
      },
      "execution_count": 50,
      "outputs": [
        {
          "output_type": "stream",
          "name": "stdout",
          "text": [
            "Model: \"model_1_dense\"\n",
            "_________________________________________________________________\n",
            " Layer (type)                Output Shape              Param #   \n",
            "=================================================================\n",
            " input_1 (InputLayer)        [(None, 1)]               0         \n",
            "                                                                 \n",
            " text_vectorization_1 (Text  (None, 15)                0         \n",
            " Vectorization)                                                  \n",
            "                                                                 \n",
            " embedding_1 (Embedding)     (None, 15, 128)           1280000   \n",
            "                                                                 \n",
            " global_average_pooling1d (  (None, 128)               0         \n",
            " GlobalAveragePooling1D)                                         \n",
            "                                                                 \n",
            " dense (Dense)               (None, 1)                 129       \n",
            "                                                                 \n",
            "=================================================================\n",
            "Total params: 1280129 (4.88 MB)\n",
            "Trainable params: 1280129 (4.88 MB)\n",
            "Non-trainable params: 0 (0.00 Byte)\n",
            "_________________________________________________________________\n"
          ]
        }
      ]
    },
    {
      "cell_type": "code",
      "source": [
        "embed_weights = model_1.get_layer(\"embedding_1\").get_weights()[0]\n",
        "print(embed_weights.shape)"
      ],
      "metadata": {
        "colab": {
          "base_uri": "https://localhost:8080/"
        },
        "id": "GCu4PTY1aGC6",
        "outputId": "8ca03f84-70a9-42d5-cc08-c10f13375930"
      },
      "execution_count": 51,
      "outputs": [
        {
          "output_type": "stream",
          "name": "stdout",
          "text": [
            "(10000, 128)\n"
          ]
        }
      ]
    },
    {
      "cell_type": "code",
      "source": [
        "embed_weights\n",
        "\n",
        "\n",
        "##https://www.tensorflow.org/text/guide/word_embeddings?hl=tr"
      ],
      "metadata": {
        "id": "ymk6yGXsaGDn",
        "colab": {
          "base_uri": "https://localhost:8080/"
        },
        "outputId": "30199e09-621a-4888-a87d-f228b88655e8"
      },
      "execution_count": 52,
      "outputs": [
        {
          "output_type": "execute_result",
          "data": {
            "text/plain": [
              "array([[-0.01692829,  0.01096282,  0.04647324, ..., -0.00040925,\n",
              "         0.0103692 , -0.01446817],\n",
              "       [ 0.01794673, -0.00074595,  0.01143022, ..., -0.03659263,\n",
              "         0.0038916 , -0.04195898],\n",
              "       [ 0.05798328,  0.06116285,  0.0552786 , ..., -0.03765529,\n",
              "        -0.05672168, -0.00586684],\n",
              "       ...,\n",
              "       [-0.03546869, -0.00080062,  0.0081836 , ...,  0.01381333,\n",
              "         0.0147727 , -0.02697916],\n",
              "       [ 0.07818292,  0.05341816,  0.04668284, ..., -0.04992466,\n",
              "        -0.08295695, -0.03535902],\n",
              "       [ 0.08034026,  0.05145524,  0.02719898, ..., -0.03712629,\n",
              "        -0.08278388, -0.01702061]], dtype=float32)"
            ]
          },
          "metadata": {},
          "execution_count": 52
        }
      ]
    },
    {
      "cell_type": "code",
      "source": [
        "import io\n",
        "\n",
        "# # Create output writers\n",
        "out_v = io.open(\"embedding_vectors.tsv\", \"w\", encoding=\"utf-8\")\n",
        "out_m = io.open(\"embedding_metadata.tsv\", \"w\", encoding=\"utf-8\")\n",
        "\n",
        " # Write embedding vectors and words to file\n",
        "for num, word in enumerate(words_in_vocab):\n",
        "   if num == 0:\n",
        "      continue # skip padding token\n",
        "   vec = embed_weights[num]\n",
        "   out_m.write(word + \"\\n\") # write words to file\n",
        "   out_v.write(\"\\t\".join([str(x) for x in vec]) + \"\\n\") # write corresponding word vector to file\n",
        "out_v.close()\n",
        "out_m.close()\n",
        "\n",
        " # Download files locally to upload to Embedding Projector\n",
        "try:\n",
        "  from google.colab import files\n",
        "except ImportError:\n",
        "   pass\n",
        "else:\n",
        "   files.download(\"embedding_vectors.tsv\")\n",
        "   files.download(\"embedding_metadata.tsv\")"
      ],
      "metadata": {
        "colab": {
          "base_uri": "https://localhost:8080/",
          "height": 17
        },
        "id": "x9qFvMLQeiY8",
        "outputId": "b2d3c0eb-273b-47c9-ef85-889a34285e96"
      },
      "execution_count": 53,
      "outputs": [
        {
          "output_type": "display_data",
          "data": {
            "text/plain": [
              "<IPython.core.display.Javascript object>"
            ],
            "application/javascript": [
              "\n",
              "    async function download(id, filename, size) {\n",
              "      if (!google.colab.kernel.accessAllowed) {\n",
              "        return;\n",
              "      }\n",
              "      const div = document.createElement('div');\n",
              "      const label = document.createElement('label');\n",
              "      label.textContent = `Downloading \"${filename}\": `;\n",
              "      div.appendChild(label);\n",
              "      const progress = document.createElement('progress');\n",
              "      progress.max = size;\n",
              "      div.appendChild(progress);\n",
              "      document.body.appendChild(div);\n",
              "\n",
              "      const buffers = [];\n",
              "      let downloaded = 0;\n",
              "\n",
              "      const channel = await google.colab.kernel.comms.open(id);\n",
              "      // Send a message to notify the kernel that we're ready.\n",
              "      channel.send({})\n",
              "\n",
              "      for await (const message of channel.messages) {\n",
              "        // Send a message to notify the kernel that we're ready.\n",
              "        channel.send({})\n",
              "        if (message.buffers) {\n",
              "          for (const buffer of message.buffers) {\n",
              "            buffers.push(buffer);\n",
              "            downloaded += buffer.byteLength;\n",
              "            progress.value = downloaded;\n",
              "          }\n",
              "        }\n",
              "      }\n",
              "      const blob = new Blob(buffers, {type: 'application/binary'});\n",
              "      const a = document.createElement('a');\n",
              "      a.href = window.URL.createObjectURL(blob);\n",
              "      a.download = filename;\n",
              "      div.appendChild(a);\n",
              "      a.click();\n",
              "      div.remove();\n",
              "    }\n",
              "  "
            ]
          },
          "metadata": {}
        },
        {
          "output_type": "display_data",
          "data": {
            "text/plain": [
              "<IPython.core.display.Javascript object>"
            ],
            "application/javascript": [
              "download(\"download_e847ca6a-c662-4d77-b4fb-6c11aeb90435\", \"embedding_vectors.tsv\", 15393500)"
            ]
          },
          "metadata": {}
        },
        {
          "output_type": "display_data",
          "data": {
            "text/plain": [
              "<IPython.core.display.Javascript object>"
            ],
            "application/javascript": [
              "\n",
              "    async function download(id, filename, size) {\n",
              "      if (!google.colab.kernel.accessAllowed) {\n",
              "        return;\n",
              "      }\n",
              "      const div = document.createElement('div');\n",
              "      const label = document.createElement('label');\n",
              "      label.textContent = `Downloading \"${filename}\": `;\n",
              "      div.appendChild(label);\n",
              "      const progress = document.createElement('progress');\n",
              "      progress.max = size;\n",
              "      div.appendChild(progress);\n",
              "      document.body.appendChild(div);\n",
              "\n",
              "      const buffers = [];\n",
              "      let downloaded = 0;\n",
              "\n",
              "      const channel = await google.colab.kernel.comms.open(id);\n",
              "      // Send a message to notify the kernel that we're ready.\n",
              "      channel.send({})\n",
              "\n",
              "      for await (const message of channel.messages) {\n",
              "        // Send a message to notify the kernel that we're ready.\n",
              "        channel.send({})\n",
              "        if (message.buffers) {\n",
              "          for (const buffer of message.buffers) {\n",
              "            buffers.push(buffer);\n",
              "            downloaded += buffer.byteLength;\n",
              "            progress.value = downloaded;\n",
              "          }\n",
              "        }\n",
              "      }\n",
              "      const blob = new Blob(buffers, {type: 'application/binary'});\n",
              "      const a = document.createElement('a');\n",
              "      a.href = window.URL.createObjectURL(blob);\n",
              "      a.download = filename;\n",
              "      div.appendChild(a);\n",
              "      a.click();\n",
              "      div.remove();\n",
              "    }\n",
              "  "
            ]
          },
          "metadata": {}
        },
        {
          "output_type": "display_data",
          "data": {
            "text/plain": [
              "<IPython.core.display.Javascript object>"
            ],
            "application/javascript": [
              "download(\"download_a5ca7a26-b35c-491d-bba4-673d47155347\", \"embedding_metadata.tsv\", 80388)"
            ]
          },
          "metadata": {}
        }
      ]
    },
    {
      "cell_type": "code",
      "source": [
        "###https://jalammar.github.io/illustrated-word2vec/\n",
        "\n",
        "####https://www.tensorflow.org/text/tutorials/word2vec"
      ],
      "metadata": {
        "id": "xtSuBcXJeiaH"
      },
      "execution_count": 54,
      "outputs": []
    },
    {
      "cell_type": "code",
      "source": [
        "## RNN\n",
        "\n"
      ],
      "metadata": {
        "id": "AttXtBLchDkh"
      },
      "execution_count": 55,
      "outputs": []
    },
    {
      "cell_type": "markdown",
      "source": [
        "##RNN\n",
        "\n",
        "\n",
        "\n",
        "https://www.youtube.com/watch?v=SEnXr6v2ifU\n",
        "\n",
        "https://karpathy.github.io/2015/05/21/rnn-effectiveness/\n",
        "\n",
        "https://colah.github.io/posts/2015-08-Understanding-LSTMs/"
      ],
      "metadata": {
        "id": "VtwTjdDLmAxX"
      }
    },
    {
      "cell_type": "markdown",
      "source": [
        "LSTM =long short term memory\n",
        "\n",
        "\n",
        "\n",
        "Bir recurrent neural netwokün yapısı aşağıdaki gibidir,\n",
        "\n",
        "\n",
        "\n",
        "Input -> Text Vectorization Layer -> Embedding Layer -> Tensor olarak tanımlanır -> Recurrent Katmanları (LSTM,GRU,Bidrectional)-> Dense Katmanı-> Output"
      ],
      "metadata": {
        "id": "S5pHSWOAnrRe"
      }
    },
    {
      "cell_type": "code",
      "source": [
        "from tensorflow.keras import layers\n",
        "\n",
        "inputs = layers.Input(shape =(1,), dtype=\"string\")\n",
        "x= text_vectorizer(inputs)\n",
        "x=embedding(x)\n",
        "print(x.shape)\n",
        "x= layers.LSTM(64, return_sequences=True)(x)\n",
        "print(x.shape)\n",
        "x= layers.LSTM(64)(x)\n",
        "print(x.shape)\n",
        "x=layers.Dense(64, activation=\"relu\")(x)\n",
        "outputs = layers.Dense(1, activation =\"sigmoid\")(x)\n",
        "model_2 = tf.keras.Model(inputs, outputs, name =\"model_2_LSTM\")\n",
        "\n",
        "##https://www.tensorflow.org/api_docs/python/tf/keras/layers/LSTM"
      ],
      "metadata": {
        "colab": {
          "base_uri": "https://localhost:8080/"
        },
        "id": "So68Jwxqgzps",
        "outputId": "586420ce-8d83-4bfa-ec1d-b06a29b43e90"
      },
      "execution_count": 56,
      "outputs": [
        {
          "output_type": "stream",
          "name": "stdout",
          "text": [
            "(None, 15, 128)\n",
            "(None, 15, 64)\n",
            "(None, 64)\n"
          ]
        }
      ]
    },
    {
      "cell_type": "code",
      "source": [
        "model_2.compile(loss=\"binary_crossentropy\",\n",
        "                optimizer=tf.keras.optimizers.Adam(),\n",
        "                metrics=[\"accuracy\"])"
      ],
      "metadata": {
        "id": "dizoutIsoM1-"
      },
      "execution_count": 57,
      "outputs": []
    },
    {
      "cell_type": "code",
      "source": [
        "model_2.summary()\n"
      ],
      "metadata": {
        "colab": {
          "base_uri": "https://localhost:8080/"
        },
        "id": "ZptaGUMzoM2o",
        "outputId": "43e23883-4f64-467d-849f-0576a405e002"
      },
      "execution_count": 58,
      "outputs": [
        {
          "output_type": "stream",
          "name": "stdout",
          "text": [
            "Model: \"model_2_LSTM\"\n",
            "_________________________________________________________________\n",
            " Layer (type)                Output Shape              Param #   \n",
            "=================================================================\n",
            " input_2 (InputLayer)        [(None, 1)]               0         \n",
            "                                                                 \n",
            " text_vectorization_1 (Text  (None, 15)                0         \n",
            " Vectorization)                                                  \n",
            "                                                                 \n",
            " embedding_1 (Embedding)     (None, 15, 128)           1280000   \n",
            "                                                                 \n",
            " lstm (LSTM)                 (None, 15, 64)            49408     \n",
            "                                                                 \n",
            " lstm_1 (LSTM)               (None, 64)                33024     \n",
            "                                                                 \n",
            " dense_1 (Dense)             (None, 64)                4160      \n",
            "                                                                 \n",
            " dense_2 (Dense)             (None, 1)                 65        \n",
            "                                                                 \n",
            "=================================================================\n",
            "Total params: 1366657 (5.21 MB)\n",
            "Trainable params: 1366657 (5.21 MB)\n",
            "Non-trainable params: 0 (0.00 Byte)\n",
            "_________________________________________________________________\n"
          ]
        }
      ]
    },
    {
      "cell_type": "code",
      "source": [
        "model_2_history = model_2.fit(train_sentences,\n",
        "                              train_labels,\n",
        "                              epochs=5,\n",
        "                              validation_data=(val_sentences, val_labels),\n",
        "                              callbacks=[create_tensorboard_callback(SAVE_DIR,\n",
        "                                                                     \"LSTM\")])"
      ],
      "metadata": {
        "colab": {
          "base_uri": "https://localhost:8080/"
        },
        "id": "BTNmshtxtk0L",
        "outputId": "cdb8bfc2-5dc5-4d2f-f228-a85ae96e966e"
      },
      "execution_count": 59,
      "outputs": [
        {
          "output_type": "stream",
          "name": "stdout",
          "text": [
            "Saving TensorBoard log files to: model_logs/LSTM/20240310-160308\n",
            "Epoch 1/5\n",
            "215/215 [==============================] - 13s 42ms/step - loss: 0.2220 - accuracy: 0.9242 - val_loss: 0.5473 - val_accuracy: 0.7835\n",
            "Epoch 2/5\n",
            "215/215 [==============================] - 8s 39ms/step - loss: 0.1634 - accuracy: 0.9402 - val_loss: 0.5996 - val_accuracy: 0.7822\n",
            "Epoch 3/5\n",
            "215/215 [==============================] - 7s 34ms/step - loss: 0.1278 - accuracy: 0.9523 - val_loss: 0.7651 - val_accuracy: 0.7808\n",
            "Epoch 4/5\n",
            "215/215 [==============================] - 8s 37ms/step - loss: 0.1070 - accuracy: 0.9587 - val_loss: 0.9182 - val_accuracy: 0.7835\n",
            "Epoch 5/5\n",
            "215/215 [==============================] - 7s 34ms/step - loss: 0.0802 - accuracy: 0.9660 - val_loss: 0.9527 - val_accuracy: 0.7756\n"
          ]
        }
      ]
    },
    {
      "cell_type": "code",
      "source": [
        "model_2_pred_probs = model_2.predict(val_sentences)\n",
        "model_2_pred_probs.shape, model_2_pred_probs[:10]"
      ],
      "metadata": {
        "colab": {
          "base_uri": "https://localhost:8080/"
        },
        "id": "Jev5_wg1tm6C",
        "outputId": "f68eee74-35ff-4c45-9913-330bc6706c5e"
      },
      "execution_count": 60,
      "outputs": [
        {
          "output_type": "stream",
          "name": "stdout",
          "text": [
            "24/24 [==============================] - 1s 10ms/step\n"
          ]
        },
        {
          "output_type": "execute_result",
          "data": {
            "text/plain": [
              "((762, 1),\n",
              " array([[4.8497897e-03],\n",
              "        [6.1785340e-01],\n",
              "        [9.9982816e-01],\n",
              "        [5.0871637e-02],\n",
              "        [3.9806855e-05],\n",
              "        [9.9908423e-01],\n",
              "        [9.2861110e-01],\n",
              "        [9.9993747e-01],\n",
              "        [9.9987245e-01],\n",
              "        [4.2263851e-01]], dtype=float32))"
            ]
          },
          "metadata": {},
          "execution_count": 60
        }
      ]
    },
    {
      "cell_type": "code",
      "source": [
        "model_2_preds = tf.squeeze(tf.round(model_2_pred_probs))\n",
        "model_2_preds[:10]\n"
      ],
      "metadata": {
        "colab": {
          "base_uri": "https://localhost:8080/"
        },
        "id": "GBSMmApatpN9",
        "outputId": "3c12214d-bd50-4e2e-9553-0042acb6ea12"
      },
      "execution_count": 61,
      "outputs": [
        {
          "output_type": "execute_result",
          "data": {
            "text/plain": [
              "<tf.Tensor: shape=(10,), dtype=float32, numpy=array([0., 1., 1., 0., 0., 1., 1., 1., 1., 0.], dtype=float32)>"
            ]
          },
          "metadata": {},
          "execution_count": 61
        }
      ]
    },
    {
      "cell_type": "code",
      "source": [
        "model_2_results = calculate_results(y_true=val_labels,\n",
        "                                    y_pred=model_2_preds)\n",
        "model_2_results"
      ],
      "metadata": {
        "colab": {
          "base_uri": "https://localhost:8080/"
        },
        "id": "yNGabYzutruq",
        "outputId": "75573f34-6944-4479-9736-7fffcc653190"
      },
      "execution_count": 62,
      "outputs": [
        {
          "output_type": "execute_result",
          "data": {
            "text/plain": [
              "{'accuracy': 77.55905511811024,\n",
              " 'precision': 0.7794121823201254,\n",
              " 'recall': 0.7755905511811023,\n",
              " 'f1': 0.7726614113025507}"
            ]
          },
          "metadata": {},
          "execution_count": 62
        }
      ]
    },
    {
      "cell_type": "code",
      "source": [
        "compare_baseline_to_new_results(baseline_results, model_2_results)\n"
      ],
      "metadata": {
        "colab": {
          "base_uri": "https://localhost:8080/"
        },
        "id": "zVnHHwBVttDx",
        "outputId": "a51ed4bd-69c2-45b4-cfbb-c7150a271234"
      },
      "execution_count": 63,
      "outputs": [
        {
          "output_type": "stream",
          "name": "stdout",
          "text": [
            "Baseline accuracy: 79.27, New accuracy: 77.56, Difference: -1.71\n",
            "Baseline precision: 0.81, New precision: 0.78, Difference: -0.03\n",
            "Baseline recall: 0.79, New recall: 0.78, Difference: -0.02\n",
            "Baseline f1: 0.79, New f1: 0.77, Difference: -0.01\n"
          ]
        }
      ]
    },
    {
      "cell_type": "markdown",
      "source": [
        "##GRU\n",
        "\n",
        "LSTM'ye benzer ancak daha az parametresi vardır.\n",
        "\n",
        "https://towardsdatascience.com/understanding-gru-networks-2ef37df6c9be"
      ],
      "metadata": {
        "id": "mYQratJouAGV"
      }
    },
    {
      "cell_type": "code",
      "source": [
        "from tensorflow.keras import layers\n",
        "\n",
        "inputs = layers.Input(shape=(1,), dtype=tf.string)\n",
        "x=text_vectorizer(inputs)\n",
        "x = embedding(x)\n",
        "print(x.shape)\n",
        "x= layers.GRU(64, return_sequences=True)(x)\n",
        "print(x.shape)\n",
        "x=layers.LSTM(42, return_sequences=True)(x)\n",
        "print(x.shape)\n",
        "x= layers.GRU(99)(x)\n",
        "print(x.shape)\n",
        "x= layers.Dense(64, activation=\"relu\")(x)\n",
        "print(x.shape)\n",
        "x = layers.Dense(1, activation= \"sigmoid\")(x)\n",
        "outputs= layers.Dense(1, activation=\"sigmoid\")(x)\n",
        "model_3= tf.keras.Model(inputs, outputs, name=\"model_3_GRU\")"
      ],
      "metadata": {
        "colab": {
          "base_uri": "https://localhost:8080/"
        },
        "id": "rb11Yk5qtuGJ",
        "outputId": "015464af-f39d-4d89-8142-5e5e36c3654a"
      },
      "execution_count": 64,
      "outputs": [
        {
          "output_type": "stream",
          "name": "stdout",
          "text": [
            "(None, 15, 128)\n",
            "(None, 15, 64)\n",
            "(None, 15, 42)\n",
            "(None, 99)\n",
            "(None, 64)\n"
          ]
        }
      ]
    },
    {
      "cell_type": "code",
      "source": [
        "model_3.summary()"
      ],
      "metadata": {
        "colab": {
          "base_uri": "https://localhost:8080/"
        },
        "id": "2RpHoLhUvqEE",
        "outputId": "03aa9ab1-a635-4726-8643-f067a92b1a45"
      },
      "execution_count": 65,
      "outputs": [
        {
          "output_type": "stream",
          "name": "stdout",
          "text": [
            "Model: \"model_3_GRU\"\n",
            "_________________________________________________________________\n",
            " Layer (type)                Output Shape              Param #   \n",
            "=================================================================\n",
            " input_3 (InputLayer)        [(None, 1)]               0         \n",
            "                                                                 \n",
            " text_vectorization_1 (Text  (None, 15)                0         \n",
            " Vectorization)                                                  \n",
            "                                                                 \n",
            " embedding_1 (Embedding)     (None, 15, 128)           1280000   \n",
            "                                                                 \n",
            " gru (GRU)                   (None, 15, 64)            37248     \n",
            "                                                                 \n",
            " lstm_2 (LSTM)               (None, 15, 42)            17976     \n",
            "                                                                 \n",
            " gru_1 (GRU)                 (None, 99)                42471     \n",
            "                                                                 \n",
            " dense_3 (Dense)             (None, 64)                6400      \n",
            "                                                                 \n",
            " dense_4 (Dense)             (None, 1)                 65        \n",
            "                                                                 \n",
            " dense_5 (Dense)             (None, 1)                 2         \n",
            "                                                                 \n",
            "=================================================================\n",
            "Total params: 1384162 (5.28 MB)\n",
            "Trainable params: 1384162 (5.28 MB)\n",
            "Non-trainable params: 0 (0.00 Byte)\n",
            "_________________________________________________________________\n"
          ]
        }
      ]
    },
    {
      "cell_type": "code",
      "source": [
        "from tensorflow.keras import layers\n",
        "\n",
        "inputs = layers.Input(shape=(1,), dtype=tf.string)\n",
        "x=text_vectorizer(inputs)\n",
        "x = embedding(x)\n",
        "print(x.shape)\n",
        "x= layers.GRU(64, return_sequences=True)(x)\n",
        "print(x.shape)\n",
        "x = layers.GlobalAveragePooling1D()(x)\n",
        "x = layers.Dense(1, activation= \"sigmoid\")(x)\n",
        "outputs= layers.Dense(1, activation=\"sigmoid\")(x)\n",
        "model_3= tf.keras.Model(inputs, outputs, name=\"model_3_GRU\")"
      ],
      "metadata": {
        "colab": {
          "base_uri": "https://localhost:8080/"
        },
        "id": "LsCcRgA1w6-o",
        "outputId": "bb47e5f8-defa-4f14-fe90-7c4cad7eac76"
      },
      "execution_count": 66,
      "outputs": [
        {
          "output_type": "stream",
          "name": "stdout",
          "text": [
            "(None, 15, 128)\n",
            "(None, 15, 64)\n"
          ]
        }
      ]
    },
    {
      "cell_type": "code",
      "source": [
        "model_3.summary()"
      ],
      "metadata": {
        "colab": {
          "base_uri": "https://localhost:8080/"
        },
        "id": "U0KqDaitxY3O",
        "outputId": "3856f172-c5d9-4720-bdde-11b0a3cc7b26"
      },
      "execution_count": 67,
      "outputs": [
        {
          "output_type": "stream",
          "name": "stdout",
          "text": [
            "Model: \"model_3_GRU\"\n",
            "_________________________________________________________________\n",
            " Layer (type)                Output Shape              Param #   \n",
            "=================================================================\n",
            " input_4 (InputLayer)        [(None, 1)]               0         \n",
            "                                                                 \n",
            " text_vectorization_1 (Text  (None, 15)                0         \n",
            " Vectorization)                                                  \n",
            "                                                                 \n",
            " embedding_1 (Embedding)     (None, 15, 128)           1280000   \n",
            "                                                                 \n",
            " gru_2 (GRU)                 (None, 15, 64)            37248     \n",
            "                                                                 \n",
            " global_average_pooling1d_1  (None, 64)                0         \n",
            "  (GlobalAveragePooling1D)                                       \n",
            "                                                                 \n",
            " dense_6 (Dense)             (None, 1)                 65        \n",
            "                                                                 \n",
            " dense_7 (Dense)             (None, 1)                 2         \n",
            "                                                                 \n",
            "=================================================================\n",
            "Total params: 1317315 (5.03 MB)\n",
            "Trainable params: 1317315 (5.03 MB)\n",
            "Non-trainable params: 0 (0.00 Byte)\n",
            "_________________________________________________________________\n"
          ]
        }
      ]
    },
    {
      "cell_type": "code",
      "source": [
        "model_3.compile"
      ],
      "metadata": {
        "colab": {
          "base_uri": "https://localhost:8080/",
          "height": 220
        },
        "id": "lmJRXmn6xeLg",
        "outputId": "dca2c7e3-3cfd-474a-d217-4df394daab12"
      },
      "execution_count": 68,
      "outputs": [
        {
          "output_type": "execute_result",
          "data": {
            "text/plain": [
              "<bound method Model.compile of <keras.src.engine.functional.Functional object at 0x787560ffa410>>"
            ],
            "text/html": [
              "<div style=\"max-width:800px; border: 1px solid var(--colab-border-color);\"><style>\n",
              "      pre.function-repr-contents {\n",
              "        overflow-x: auto;\n",
              "        padding: 8px 12px;\n",
              "        max-height: 500px;\n",
              "      }\n",
              "\n",
              "      pre.function-repr-contents.function-repr-contents-collapsed {\n",
              "        cursor: pointer;\n",
              "        max-height: 100px;\n",
              "      }\n",
              "    </style>\n",
              "    <pre style=\"white-space: initial; background:\n",
              "         var(--colab-secondary-surface-color); padding: 8px 12px;\n",
              "         border-bottom: 1px solid var(--colab-border-color);\"><b>keras.src.engine.training.Model.compile</b><br/>def compile(optimizer=&#x27;rmsprop&#x27;, loss=None, metrics=None, loss_weights=None, weighted_metrics=None, run_eagerly=None, steps_per_execution=None, jit_compile=None, pss_evaluation_shards=0, **kwargs)</pre><pre class=\"function-repr-contents function-repr-contents-collapsed\" style=\"\"><a class=\"filepath\" style=\"display:none\" href=\"#\">/usr/local/lib/python3.10/dist-packages/keras/src/engine/training.py</a>Configures the model for training.\n",
              "\n",
              "Example:\n",
              "\n",
              "```python\n",
              "model.compile(optimizer=tf.keras.optimizers.Adam(learning_rate=1e-3),\n",
              "              loss=tf.keras.losses.BinaryCrossentropy(),\n",
              "              metrics=[tf.keras.metrics.BinaryAccuracy(),\n",
              "                       tf.keras.metrics.FalseNegatives()])\n",
              "```\n",
              "\n",
              "Args:\n",
              "    optimizer: String (name of optimizer) or optimizer instance. See\n",
              "      `tf.keras.optimizers`.\n",
              "    loss: Loss function. May be a string (name of loss function), or\n",
              "      a `tf.keras.losses.Loss` instance. See `tf.keras.losses`. A loss\n",
              "      function is any callable with the signature `loss = fn(y_true,\n",
              "      y_pred)`, where `y_true` are the ground truth values, and\n",
              "      `y_pred` are the model&#x27;s predictions.\n",
              "      `y_true` should have shape\n",
              "      `(batch_size, d0, .. dN)` (except in the case of\n",
              "      sparse loss functions such as\n",
              "      sparse categorical crossentropy which expects integer arrays of\n",
              "      shape `(batch_size, d0, .. dN-1)`).\n",
              "      `y_pred` should have shape `(batch_size, d0, .. dN)`.\n",
              "      The loss function should return a float tensor.\n",
              "      If a custom `Loss` instance is\n",
              "      used and reduction is set to `None`, return value has shape\n",
              "      `(batch_size, d0, .. dN-1)` i.e. per-sample or per-timestep loss\n",
              "      values; otherwise, it is a scalar. If the model has multiple\n",
              "      outputs, you can use a different loss on each output by passing a\n",
              "      dictionary or a list of losses. The loss value that will be\n",
              "      minimized by the model will then be the sum of all individual\n",
              "      losses, unless `loss_weights` is specified.\n",
              "    metrics: List of metrics to be evaluated by the model during\n",
              "      training and testing. Each of this can be a string (name of a\n",
              "      built-in function), function or a `tf.keras.metrics.Metric`\n",
              "      instance. See `tf.keras.metrics`. Typically you will use\n",
              "      `metrics=[&#x27;accuracy&#x27;]`.\n",
              "      A function is any callable with the signature `result = fn(y_true,\n",
              "      y_pred)`. To specify different metrics for different outputs of a\n",
              "      multi-output model, you could also pass a dictionary, such as\n",
              "      `metrics={&#x27;output_a&#x27;:&#x27;accuracy&#x27;, &#x27;output_b&#x27;:[&#x27;accuracy&#x27;, &#x27;mse&#x27;]}`.\n",
              "      You can also pass a list to specify a metric or a list of metrics\n",
              "      for each output, such as\n",
              "      `metrics=[[&#x27;accuracy&#x27;], [&#x27;accuracy&#x27;, &#x27;mse&#x27;]]`\n",
              "      or `metrics=[&#x27;accuracy&#x27;, [&#x27;accuracy&#x27;, &#x27;mse&#x27;]]`. When you pass the\n",
              "      strings &#x27;accuracy&#x27; or &#x27;acc&#x27;, we convert this to one of\n",
              "      `tf.keras.metrics.BinaryAccuracy`,\n",
              "      `tf.keras.metrics.CategoricalAccuracy`,\n",
              "      `tf.keras.metrics.SparseCategoricalAccuracy` based on the shapes\n",
              "      of the targets and of the model output. We do a similar\n",
              "      conversion for the strings &#x27;crossentropy&#x27; and &#x27;ce&#x27; as well.\n",
              "      The metrics passed here are evaluated without sample weighting; if\n",
              "      you would like sample weighting to apply, you can specify your\n",
              "      metrics via the `weighted_metrics` argument instead.\n",
              "    loss_weights: Optional list or dictionary specifying scalar\n",
              "      coefficients (Python floats) to weight the loss contributions of\n",
              "      different model outputs. The loss value that will be minimized by\n",
              "      the model will then be the *weighted sum* of all individual\n",
              "      losses, weighted by the `loss_weights` coefficients.  If a list,\n",
              "      it is expected to have a 1:1 mapping to the model&#x27;s outputs. If a\n",
              "      dict, it is expected to map output names (strings) to scalar\n",
              "      coefficients.\n",
              "    weighted_metrics: List of metrics to be evaluated and weighted by\n",
              "      `sample_weight` or `class_weight` during training and testing.\n",
              "    run_eagerly: Bool. If `True`, this `Model`&#x27;s logic will not be\n",
              "      wrapped in a `tf.function`. Recommended to leave this as `None`\n",
              "      unless your `Model` cannot be run inside a `tf.function`.\n",
              "      `run_eagerly=True` is not supported when using\n",
              "      `tf.distribute.experimental.ParameterServerStrategy`. Defaults to\n",
              "       `False`.\n",
              "    steps_per_execution: Int or `&#x27;auto&#x27;`. The number of batches to\n",
              "      run during each `tf.function` call. If set to &quot;auto&quot;, keras will\n",
              "      automatically tune `steps_per_execution` during runtime. Running\n",
              "      multiple batches inside a single `tf.function` call can greatly\n",
              "      improve performance on TPUs, when used with distributed strategies\n",
              "      such as `ParameterServerStrategy`, or with small models with a\n",
              "      large Python overhead. At most, one full epoch will be run each\n",
              "      execution. If a number larger than the size of the epoch is\n",
              "      passed, the execution will be truncated to the size of the epoch.\n",
              "      Note that if `steps_per_execution` is set to `N`,\n",
              "      `Callback.on_batch_begin` and `Callback.on_batch_end` methods will\n",
              "      only be called every `N` batches (i.e. before/after each\n",
              "      `tf.function` execution). Defaults to `1`.\n",
              "    jit_compile: If `True`, compile the model training step with XLA.\n",
              "      [XLA](https://www.tensorflow.org/xla) is an optimizing compiler\n",
              "      for machine learning.\n",
              "      `jit_compile` is not enabled for by default.\n",
              "      Note that `jit_compile=True`\n",
              "      may not necessarily work for all models.\n",
              "      For more information on supported operations please refer to the\n",
              "      [XLA documentation](https://www.tensorflow.org/xla).\n",
              "      Also refer to\n",
              "      [known XLA issues](https://www.tensorflow.org/xla/known_issues)\n",
              "      for more details.\n",
              "    pss_evaluation_shards: Integer or &#x27;auto&#x27;. Used for\n",
              "      `tf.distribute.ParameterServerStrategy` training only. This arg\n",
              "      sets the number of shards to split the dataset into, to enable an\n",
              "      exact visitation guarantee for evaluation, meaning the model will\n",
              "      be applied to each dataset element exactly once, even if workers\n",
              "      fail. The dataset must be sharded to ensure separate workers do\n",
              "      not process the same data. The number of shards should be at least\n",
              "      the number of workers for good performance. A value of &#x27;auto&#x27;\n",
              "      turns on exact evaluation and uses a heuristic for the number of\n",
              "      shards based on the number of workers. 0, meaning no\n",
              "      visitation guarantee is provided. NOTE: Custom implementations of\n",
              "      `Model.test_step` will be ignored when doing exact evaluation.\n",
              "      Defaults to `0`.\n",
              "    **kwargs: Arguments supported for backwards compatibility only.</pre>\n",
              "      <script>\n",
              "      if (google.colab.kernel.accessAllowed && google.colab.files && google.colab.files.view) {\n",
              "        for (const element of document.querySelectorAll('.filepath')) {\n",
              "          element.style.display = 'block'\n",
              "          element.onclick = (event) => {\n",
              "            event.preventDefault();\n",
              "            event.stopPropagation();\n",
              "            google.colab.files.view(element.textContent, 625);\n",
              "          };\n",
              "        }\n",
              "      }\n",
              "      for (const element of document.querySelectorAll('.function-repr-contents')) {\n",
              "        element.onclick = (event) => {\n",
              "          event.preventDefault();\n",
              "          event.stopPropagation();\n",
              "          element.classList.toggle('function-repr-contents-collapsed');\n",
              "        };\n",
              "      }\n",
              "      </script>\n",
              "      </div>"
            ]
          },
          "metadata": {},
          "execution_count": 68
        }
      ]
    },
    {
      "cell_type": "code",
      "source": [
        "model_3.compile(loss=\"binary_crossentropy\",\n",
        "                optimizer=tf.keras.optimizers.Adam(),\n",
        "                metrics=[\"accuracy\"])"
      ],
      "metadata": {
        "id": "WL4dmzWnxxM8"
      },
      "execution_count": 69,
      "outputs": []
    },
    {
      "cell_type": "code",
      "source": [
        "model_3_history = model_3.fit(train_sentences,\n",
        "                              train_labels,\n",
        "                              epochs=5,\n",
        "                              validation_data=(val_sentences, val_labels),\n",
        "                              callbacks=[create_tensorboard_callback(SAVE_DIR, \"GRU\")])"
      ],
      "metadata": {
        "colab": {
          "base_uri": "https://localhost:8080/"
        },
        "id": "Eg3M3En6xyx9",
        "outputId": "aa6400e9-19c9-42b0-c07f-a3bf5c017581"
      },
      "execution_count": 70,
      "outputs": [
        {
          "output_type": "stream",
          "name": "stdout",
          "text": [
            "Saving TensorBoard log files to: model_logs/GRU/20240310-160356\n",
            "Epoch 1/5\n",
            "215/215 [==============================] - 9s 31ms/step - loss: 0.5008 - accuracy: 0.8759 - val_loss: 0.5801 - val_accuracy: 0.7756\n",
            "Epoch 2/5\n",
            "215/215 [==============================] - 7s 31ms/step - loss: 0.4388 - accuracy: 0.9566 - val_loss: 0.5801 - val_accuracy: 0.7677\n",
            "Epoch 3/5\n",
            "215/215 [==============================] - 6s 28ms/step - loss: 0.4023 - accuracy: 0.9647 - val_loss: 0.5635 - val_accuracy: 0.7572\n",
            "Epoch 4/5\n",
            "215/215 [==============================] - 7s 32ms/step - loss: 0.3708 - accuracy: 0.9705 - val_loss: 0.5603 - val_accuracy: 0.7677\n",
            "Epoch 5/5\n",
            "215/215 [==============================] - 6s 29ms/step - loss: 0.3435 - accuracy: 0.9730 - val_loss: 0.5486 - val_accuracy: 0.7717\n"
          ]
        }
      ]
    },
    {
      "cell_type": "code",
      "source": [
        "model_3_pred_probs = model_3.predict(val_sentences)\n",
        "model_3_pred_probs.shape, model_3_pred_probs[:10]"
      ],
      "metadata": {
        "colab": {
          "base_uri": "https://localhost:8080/"
        },
        "id": "f5OJTXZOx1-d",
        "outputId": "19cc39b3-dbad-49dc-a545-f2d9f7a8d89d"
      },
      "execution_count": 71,
      "outputs": [
        {
          "output_type": "stream",
          "name": "stdout",
          "text": [
            "24/24 [==============================] - 1s 4ms/step\n"
          ]
        },
        {
          "output_type": "execute_result",
          "data": {
            "text/plain": [
              "((762, 1),\n",
              " array([[0.19096415],\n",
              "        [0.65275   ],\n",
              "        [0.6534315 ],\n",
              "        [0.18941289],\n",
              "        [0.18940239],\n",
              "        [0.6534309 ],\n",
              "        [0.6528754 ],\n",
              "        [0.6534315 ],\n",
              "        [0.65343153],\n",
              "        [0.34743318]], dtype=float32))"
            ]
          },
          "metadata": {},
          "execution_count": 71
        }
      ]
    },
    {
      "cell_type": "code",
      "source": [
        "model_3_preds = tf.squeeze(tf.round(model_3_pred_probs))\n",
        "model_3_preds[:10]"
      ],
      "metadata": {
        "colab": {
          "base_uri": "https://localhost:8080/"
        },
        "id": "Kobk5DwCx2AW",
        "outputId": "8cb683ce-3f0a-4697-9121-74acac578c3e"
      },
      "execution_count": 72,
      "outputs": [
        {
          "output_type": "execute_result",
          "data": {
            "text/plain": [
              "<tf.Tensor: shape=(10,), dtype=float32, numpy=array([0., 1., 1., 0., 0., 1., 1., 1., 1., 0.], dtype=float32)>"
            ]
          },
          "metadata": {},
          "execution_count": 72
        }
      ]
    },
    {
      "cell_type": "code",
      "source": [
        "model_3_results = calculate_results(y_true=val_labels,\n",
        "                                    y_pred=model_3_preds)\n",
        "model_3_results"
      ],
      "metadata": {
        "colab": {
          "base_uri": "https://localhost:8080/"
        },
        "id": "OBlKRPWUx5Dc",
        "outputId": "42effb14-8270-48aa-ab2a-d4e0a06888d4"
      },
      "execution_count": 73,
      "outputs": [
        {
          "output_type": "execute_result",
          "data": {
            "text/plain": [
              "{'accuracy': 77.16535433070865,\n",
              " 'precision': 0.7720646185150423,\n",
              " 'recall': 0.7716535433070866,\n",
              " 'f1': 0.7702930138828643}"
            ]
          },
          "metadata": {},
          "execution_count": 73
        }
      ]
    },
    {
      "cell_type": "code",
      "source": [
        "compare_baseline_to_new_results(baseline_results, model_3_results)\n"
      ],
      "metadata": {
        "colab": {
          "base_uri": "https://localhost:8080/"
        },
        "id": "T4xPaar8x5ry",
        "outputId": "17dcc308-f6d0-40c0-dac5-46548794cee6"
      },
      "execution_count": 74,
      "outputs": [
        {
          "output_type": "stream",
          "name": "stdout",
          "text": [
            "Baseline accuracy: 79.27, New accuracy: 77.17, Difference: -2.10\n",
            "Baseline precision: 0.81, New precision: 0.77, Difference: -0.04\n",
            "Baseline recall: 0.79, New recall: 0.77, Difference: -0.02\n",
            "Baseline f1: 0.79, New f1: 0.77, Difference: -0.02\n"
          ]
        }
      ]
    },
    {
      "cell_type": "markdown",
      "source": [
        "## **BIDIRECTIONAL NEURAL NETWORK**\n",
        "\n",
        "\n",
        "Standart bir RNN, bir diziyi soldan sağa doğru işleyecektir, oysa bir çift yönlü RNN, diziyi soldan sağa doğru işleyecek ve ardından sağdan sola doğru işleyecektir.\n",
        "\n",
        "Kavramsal olarak, bu, bir cümleyi normal moda (soldan sağa) ilk kez okurken, bir nedenle anlamadığınızı varsayarsanız, kelimelerin üzerinden geri dönüp tekrar geçmek gibi düşünülebilir."
      ],
      "metadata": {
        "id": "CCxrPckWHaWm"
      }
    },
    {
      "cell_type": "code",
      "source": [
        "from tensorflow.keras import layers\n",
        "inputs = layers.Input(shape=(1,), dtype=\"string\")\n",
        "x=text_vectorizer(inputs)\n",
        "x=embedding(x)\n",
        "x= layers.Bidirectional(layers.LSTM(64, return_sequences= True))(x)\n",
        "x= layers.Bidirectional(layers.GRU(64))(x)\n",
        "x=layers.Dense(1, activation=\"sigmoid\")(x)\n",
        "outputs= layers.Dense(1, activation=\"sigmoid\")(x)\n",
        "model_4= tf.keras.Model(inputs, outputs, name=\"model_4_bidirectional\")\n"
      ],
      "metadata": {
        "id": "nUJSlkGpx8MT"
      },
      "execution_count": 77,
      "outputs": []
    },
    {
      "cell_type": "code",
      "source": [
        "model_4.summary()"
      ],
      "metadata": {
        "colab": {
          "base_uri": "https://localhost:8080/"
        },
        "id": "N9ZE-vYqGgfd",
        "outputId": "b447d164-ea11-4d27-dbbb-eadcb9edac61"
      },
      "execution_count": 78,
      "outputs": [
        {
          "output_type": "stream",
          "name": "stdout",
          "text": [
            "Model: \"model_4_bidirectional\"\n",
            "_________________________________________________________________\n",
            " Layer (type)                Output Shape              Param #   \n",
            "=================================================================\n",
            " input_7 (InputLayer)        [(None, 1)]               0         \n",
            "                                                                 \n",
            " text_vectorization_1 (Text  (None, 15)                0         \n",
            " Vectorization)                                                  \n",
            "                                                                 \n",
            " embedding_1 (Embedding)     (None, 15, 128)           1280000   \n",
            "                                                                 \n",
            " bidirectional_2 (Bidirecti  (None, 15, 128)           98816     \n",
            " onal)                                                           \n",
            "                                                                 \n",
            " bidirectional_3 (Bidirecti  (None, 128)               74496     \n",
            " onal)                                                           \n",
            "                                                                 \n",
            " dense_9 (Dense)             (None, 1)                 129       \n",
            "                                                                 \n",
            " dense_10 (Dense)            (None, 1)                 2         \n",
            "                                                                 \n",
            "=================================================================\n",
            "Total params: 1453443 (5.54 MB)\n",
            "Trainable params: 1453443 (5.54 MB)\n",
            "Non-trainable params: 0 (0.00 Byte)\n",
            "_________________________________________________________________\n"
          ]
        }
      ]
    },
    {
      "cell_type": "code",
      "source": [
        "model_4.compile(loss=\"binary_crossentropy\",\n",
        "                optimizer=tf.keras.optimizers.Adam(),\n",
        "                metrics=[\"accuracy\"])"
      ],
      "metadata": {
        "id": "g0bCEnKIJmU3"
      },
      "execution_count": 79,
      "outputs": []
    },
    {
      "cell_type": "code",
      "source": [
        "model_4_history=model_4.fit(train_sentences,\n",
        "                            train_labels,\n",
        "                            epochs=5,\n",
        "                            validation_data=(val_sentences, val_labels),\n",
        "                            callbacks=[create_tensorboard_callback(SAVE_DIR,\"model_4_bidirectional\")])"
      ],
      "metadata": {
        "colab": {
          "base_uri": "https://localhost:8080/"
        },
        "id": "xdNmNKe0K9b9",
        "outputId": "34e72282-f5d2-44ec-b1e7-e4e696e49c1e"
      },
      "execution_count": 80,
      "outputs": [
        {
          "output_type": "stream",
          "name": "stdout",
          "text": [
            "Saving TensorBoard log files to: model_logs/model_4_bidirectional/20240310-162420\n",
            "Epoch 1/5\n",
            "215/215 [==============================] - 31s 84ms/step - loss: 0.5079 - accuracy: 0.9348 - val_loss: 0.5991 - val_accuracy: 0.7677\n",
            "Epoch 2/5\n",
            "215/215 [==============================] - 12s 54ms/step - loss: 0.4460 - accuracy: 0.9743 - val_loss: 0.5680 - val_accuracy: 0.7769\n",
            "Epoch 3/5\n",
            "215/215 [==============================] - 11s 53ms/step - loss: 0.4040 - accuracy: 0.9752 - val_loss: 0.5544 - val_accuracy: 0.7743\n",
            "Epoch 4/5\n",
            "215/215 [==============================] - 12s 54ms/step - loss: 0.3691 - accuracy: 0.9753 - val_loss: 0.5435 - val_accuracy: 0.7743\n",
            "Epoch 5/5\n",
            "215/215 [==============================] - 12s 57ms/step - loss: 0.3384 - accuracy: 0.9759 - val_loss: 0.5432 - val_accuracy: 0.7703\n"
          ]
        }
      ]
    },
    {
      "cell_type": "code",
      "source": [
        "model_4_pred_probs = model_4.predict(val_sentences)\n",
        "model_4_pred_probs[:10]"
      ],
      "metadata": {
        "colab": {
          "base_uri": "https://localhost:8080/"
        },
        "id": "r8U5_uxiM4Hm",
        "outputId": "b5cc6803-0364-48f1-c49c-f9f99c407ea7"
      },
      "execution_count": 83,
      "outputs": [
        {
          "output_type": "stream",
          "name": "stdout",
          "text": [
            "24/24 [==============================] - 4s 17ms/step\n"
          ]
        },
        {
          "output_type": "execute_result",
          "data": {
            "text/plain": [
              "array([[0.30228215],\n",
              "       [0.8040697 ],\n",
              "       [0.80407035],\n",
              "       [0.30221638],\n",
              "       [0.30221206],\n",
              "       [0.8040702 ],\n",
              "       [0.80403554],\n",
              "       [0.80407035],\n",
              "       [0.80407035],\n",
              "       [0.3538133 ]], dtype=float32)"
            ]
          },
          "metadata": {},
          "execution_count": 83
        }
      ]
    },
    {
      "cell_type": "code",
      "source": [
        "model_4_preds = tf.squeeze(tf.round(model_4_pred_probs))\n",
        "model_4_preds[:10]"
      ],
      "metadata": {
        "colab": {
          "base_uri": "https://localhost:8080/"
        },
        "id": "5ZM5NLbhMpQB",
        "outputId": "4bceb069-bc0f-4eab-b8f5-7c8cf142bc65"
      },
      "execution_count": 85,
      "outputs": [
        {
          "output_type": "execute_result",
          "data": {
            "text/plain": [
              "<tf.Tensor: shape=(10,), dtype=float32, numpy=array([0., 1., 1., 0., 0., 1., 1., 1., 1., 0.], dtype=float32)>"
            ]
          },
          "metadata": {},
          "execution_count": 85
        }
      ]
    },
    {
      "cell_type": "code",
      "source": [
        "model_4_results = calculate_results(y_true=val_labels, y_pred=model_4_preds)\n",
        "model_4_results"
      ],
      "metadata": {
        "colab": {
          "base_uri": "https://localhost:8080/"
        },
        "id": "o1kznRc2Lexv",
        "outputId": "158f414d-b98d-4a6e-817a-e5b9c25120a2"
      },
      "execution_count": 86,
      "outputs": [
        {
          "output_type": "execute_result",
          "data": {
            "text/plain": [
              "{'accuracy': 77.03412073490814,\n",
              " 'precision': 0.7709806133638261,\n",
              " 'recall': 0.7703412073490814,\n",
              " 'f1': 0.7688058109983439}"
            ]
          },
          "metadata": {},
          "execution_count": 86
        }
      ]
    },
    {
      "cell_type": "code",
      "source": [
        "import tensorflow.keras import"
      ],
      "metadata": {
        "id": "2IMh3Yq6M-yx"
      },
      "execution_count": null,
      "outputs": []
    },
    {
      "cell_type": "markdown",
      "source": [
        "## **Metin için CNN**\n",
        "\n",
        "\n",
        "Inputs (text) -> Tokenization -> Embedding -> Layers -> Outputs (class probabilities)"
      ],
      "metadata": {
        "id": "-xMmSvQtOOhL"
      }
    },
    {
      "cell_type": "markdown",
      "source": [
        "LSTM veya GRU hücreleri yerine Conv1D veya GlobalMaxPool1D katmanlarını kullanacağız"
      ],
      "metadata": {
        "id": "1VJq9JAIOOge"
      }
    },
    {
      "cell_type": "code",
      "source": [
        "embedding_test = embedding(text_vectorizer([\"this is a test sentence\"])) # turn target sentence into embedding\n",
        "conv_1d = layers.Conv1D(filters=32, kernel_size=5, activation=\"relu\") # convolve over target sequence 5 words at a time\n",
        "conv_1d_output = conv_1d(embedding_test) # pass embedding through 1D convolutional layer\n",
        "max_pool = layers.GlobalMaxPool1D()\n",
        "max_pool_output = max_pool(conv_1d_output) # get the most important features\n",
        "embedding_test.shape, conv_1d_output.shape, max_pool_output.shape"
      ],
      "metadata": {
        "colab": {
          "base_uri": "https://localhost:8080/"
        },
        "id": "khlpAJAIOlUK",
        "outputId": "969f1c31-8dc6-49e7-bb36-8c0a8cb8e92c"
      },
      "execution_count": 87,
      "outputs": [
        {
          "output_type": "execute_result",
          "data": {
            "text/plain": [
              "(TensorShape([1, 15, 128]), TensorShape([1, 11, 32]), TensorShape([1, 32]))"
            ]
          },
          "metadata": {},
          "execution_count": 87
        }
      ]
    },
    {
      "cell_type": "code",
      "source": [
        "embedding_test[:1], conv_1d_output[:1], max_pool_output[:1]\n"
      ],
      "metadata": {
        "colab": {
          "base_uri": "https://localhost:8080/"
        },
        "id": "qJtWLESFO5-n",
        "outputId": "4176e2a2-81be-4b5f-d24c-cdf969af2547"
      },
      "execution_count": 88,
      "outputs": [
        {
          "output_type": "execute_result",
          "data": {
            "text/plain": [
              "(<tf.Tensor: shape=(1, 15, 128), dtype=float32, numpy=\n",
              " array([[[ 0.00676629,  0.02023377,  0.00600205, ...,  0.01619705,\n",
              "          -0.01653761, -0.01139553],\n",
              "         [ 0.02742362,  0.00060547,  0.00253709, ..., -0.08439735,\n",
              "          -0.05442083, -0.07131065],\n",
              "         [ 0.03560755,  0.03399605,  0.01665656, ...,  0.0171346 ,\n",
              "          -0.02413922, -0.03705096],\n",
              "         ...,\n",
              "         [-0.03428087, -0.00866521,  0.03300232, ...,  0.0107111 ,\n",
              "           0.00712816, -0.02522406],\n",
              "         [-0.03428087, -0.00866521,  0.03300232, ...,  0.0107111 ,\n",
              "           0.00712816, -0.02522406],\n",
              "         [-0.03428087, -0.00866521,  0.03300232, ...,  0.0107111 ,\n",
              "           0.00712816, -0.02522406]]], dtype=float32)>,\n",
              " <tf.Tensor: shape=(1, 11, 32), dtype=float32, numpy=\n",
              " array([[[0.01448993, 0.        , 0.02314391, 0.        , 0.09729609,\n",
              "          0.04068511, 0.01469259, 0.04872901, 0.        , 0.        ,\n",
              "          0.04528856, 0.09823339, 0.        , 0.01994472, 0.05199602,\n",
              "          0.        , 0.        , 0.        , 0.        , 0.02021291,\n",
              "          0.        , 0.        , 0.08573999, 0.        , 0.        ,\n",
              "          0.03015991, 0.        , 0.        , 0.        , 0.        ,\n",
              "          0.        , 0.        ],\n",
              "         [0.03861628, 0.03376289, 0.04968392, 0.        , 0.        ,\n",
              "          0.        , 0.        , 0.04496893, 0.        , 0.0133144 ,\n",
              "          0.        , 0.09089178, 0.04184606, 0.07042676, 0.01644127,\n",
              "          0.02318973, 0.00966898, 0.05109847, 0.03025104, 0.        ,\n",
              "          0.06715011, 0.        , 0.02333263, 0.07168689, 0.06474303,\n",
              "          0.        , 0.0478648 , 0.00571097, 0.00490959, 0.03020678,\n",
              "          0.00964086, 0.        ],\n",
              "         [0.07573149, 0.05245906, 0.05579021, 0.06513753, 0.        ,\n",
              "          0.04495107, 0.        , 0.03007086, 0.        , 0.        ,\n",
              "          0.        , 0.06722867, 0.        , 0.        , 0.03622262,\n",
              "          0.        , 0.04434039, 0.08244005, 0.00923498, 0.        ,\n",
              "          0.07769868, 0.00801575, 0.        , 0.04341922, 0.03428904,\n",
              "          0.        , 0.        , 0.04105666, 0.        , 0.        ,\n",
              "          0.        , 0.02081718],\n",
              "         [0.10424545, 0.06984664, 0.08964162, 0.00501934, 0.        ,\n",
              "          0.        , 0.        , 0.        , 0.        , 0.        ,\n",
              "          0.        , 0.0432844 , 0.04453089, 0.05281029, 0.01063653,\n",
              "          0.        , 0.06005408, 0.05440596, 0.02210532, 0.        ,\n",
              "          0.04463575, 0.03366029, 0.05773677, 0.01769342, 0.05658575,\n",
              "          0.        , 0.00193041, 0.05789676, 0.        , 0.        ,\n",
              "          0.01817092, 0.        ],\n",
              "         [0.07843736, 0.        , 0.04689897, 0.00679676, 0.01436468,\n",
              "          0.01082104, 0.        , 0.01900415, 0.        , 0.00678171,\n",
              "          0.        , 0.        , 0.        , 0.04783894, 0.        ,\n",
              "          0.        , 0.03083395, 0.01394915, 0.        , 0.00955884,\n",
              "          0.06644726, 0.02008431, 0.        , 0.04476372, 0.        ,\n",
              "          0.        , 0.        , 0.05049198, 0.01792244, 0.        ,\n",
              "          0.04202726, 0.        ],\n",
              "         [0.09706226, 0.        , 0.06955095, 0.00788945, 0.        ,\n",
              "          0.02102115, 0.        , 0.02920805, 0.        , 0.        ,\n",
              "          0.        , 0.01300246, 0.00020211, 0.06762272, 0.        ,\n",
              "          0.        , 0.04999301, 0.01497762, 0.        , 0.        ,\n",
              "          0.05821735, 0.        , 0.        , 0.04749899, 0.        ,\n",
              "          0.        , 0.01291655, 0.02549509, 0.        , 0.        ,\n",
              "          0.03591131, 0.        ],\n",
              "         [0.09706226, 0.        , 0.06955095, 0.00788945, 0.        ,\n",
              "          0.02102115, 0.        , 0.02920805, 0.        , 0.        ,\n",
              "          0.        , 0.01300246, 0.00020211, 0.06762272, 0.        ,\n",
              "          0.        , 0.04999301, 0.01497762, 0.        , 0.        ,\n",
              "          0.05821735, 0.        , 0.        , 0.04749899, 0.        ,\n",
              "          0.        , 0.01291655, 0.02549509, 0.        , 0.        ,\n",
              "          0.03591131, 0.        ],\n",
              "         [0.09706226, 0.        , 0.06955095, 0.00788945, 0.        ,\n",
              "          0.02102115, 0.        , 0.02920805, 0.        , 0.        ,\n",
              "          0.        , 0.01300246, 0.00020211, 0.06762272, 0.        ,\n",
              "          0.        , 0.04999301, 0.01497762, 0.        , 0.        ,\n",
              "          0.05821735, 0.        , 0.        , 0.04749899, 0.        ,\n",
              "          0.        , 0.01291655, 0.02549509, 0.        , 0.        ,\n",
              "          0.03591131, 0.        ],\n",
              "         [0.09706226, 0.        , 0.06955095, 0.00788945, 0.        ,\n",
              "          0.02102115, 0.        , 0.02920805, 0.        , 0.        ,\n",
              "          0.        , 0.01300246, 0.00020211, 0.06762272, 0.        ,\n",
              "          0.        , 0.04999301, 0.01497762, 0.        , 0.        ,\n",
              "          0.05821735, 0.        , 0.        , 0.04749899, 0.        ,\n",
              "          0.        , 0.01291655, 0.02549509, 0.        , 0.        ,\n",
              "          0.03591131, 0.        ],\n",
              "         [0.09706226, 0.        , 0.06955095, 0.00788945, 0.        ,\n",
              "          0.02102115, 0.        , 0.02920805, 0.        , 0.        ,\n",
              "          0.        , 0.01300246, 0.00020211, 0.06762272, 0.        ,\n",
              "          0.        , 0.04999301, 0.01497762, 0.        , 0.        ,\n",
              "          0.05821735, 0.        , 0.        , 0.04749899, 0.        ,\n",
              "          0.        , 0.01291655, 0.02549509, 0.        , 0.        ,\n",
              "          0.03591131, 0.        ],\n",
              "         [0.09706226, 0.        , 0.06955095, 0.00788945, 0.        ,\n",
              "          0.02102115, 0.        , 0.02920805, 0.        , 0.        ,\n",
              "          0.        , 0.01300246, 0.00020211, 0.06762272, 0.        ,\n",
              "          0.        , 0.04999301, 0.01497762, 0.        , 0.        ,\n",
              "          0.05821735, 0.        , 0.        , 0.04749899, 0.        ,\n",
              "          0.        , 0.01291655, 0.02549509, 0.        , 0.        ,\n",
              "          0.03591131, 0.        ]]], dtype=float32)>,\n",
              " <tf.Tensor: shape=(1, 32), dtype=float32, numpy=\n",
              " array([[0.10424545, 0.06984664, 0.08964162, 0.06513753, 0.09729609,\n",
              "         0.04495107, 0.01469259, 0.04872901, 0.        , 0.0133144 ,\n",
              "         0.04528856, 0.09823339, 0.04453089, 0.07042676, 0.05199602,\n",
              "         0.02318973, 0.06005408, 0.08244005, 0.03025104, 0.02021291,\n",
              "         0.07769868, 0.03366029, 0.08573999, 0.07168689, 0.06474303,\n",
              "         0.03015991, 0.0478648 , 0.05789676, 0.01792244, 0.03020678,\n",
              "         0.04202726, 0.02081718]], dtype=float32)>)"
            ]
          },
          "metadata": {},
          "execution_count": 88
        }
      ]
    },
    {
      "cell_type": "code",
      "source": [
        "tf.random.set_seed(42)\n",
        "from tensorflow.keras import layers\n",
        "model_5_embedding = layers.Embedding(input_dim=max_vocab_length,\n",
        "                                     output_dim=128,\n",
        "                                     embeddings_initializer=\"uniform\",\n",
        "                                     input_length=max_length,\n",
        "                                     name=\"embedding_5\")\n",
        "\n",
        "# Create 1-dimensional convolutional layer to model sequences\n",
        "from tensorflow.keras import layers\n",
        "inputs = layers.Input(shape=(1,), dtype=\"string\")\n",
        "x = text_vectorizer(inputs)\n",
        "x = model_5_embedding(x)\n",
        "x = layers.Conv1D(filters=32, kernel_size=5, activation=\"relu\")(x)\n",
        "x = layers.GlobalMaxPool1D()(x)\n",
        "# x = layers.Dense(64, activation=\"relu\")(x) # optional dense layer\n",
        "outputs = layers.Dense(1, activation=\"sigmoid\")(x)\n",
        "model_5 = tf.keras.Model(inputs, outputs, name=\"model_5_Conv1D\")\n",
        "\n",
        "# Compile Conv1D model\n",
        "model_5.compile(loss=\"binary_crossentropy\",\n",
        "                optimizer=tf.keras.optimizers.Adam(),\n",
        "                metrics=[\"accuracy\"])\n",
        "\n",
        "# Get a summary of our 1D convolution model\n",
        "model_5.summary()"
      ],
      "metadata": {
        "colab": {
          "base_uri": "https://localhost:8080/"
        },
        "id": "L7gOpDRfO8Zl",
        "outputId": "ff199ee8-b203-4c05-d9e5-9b01d0253381"
      },
      "execution_count": 89,
      "outputs": [
        {
          "output_type": "stream",
          "name": "stdout",
          "text": [
            "Model: \"model_5_Conv1D\"\n",
            "_________________________________________________________________\n",
            " Layer (type)                Output Shape              Param #   \n",
            "=================================================================\n",
            " input_8 (InputLayer)        [(None, 1)]               0         \n",
            "                                                                 \n",
            " text_vectorization_1 (Text  (None, 15)                0         \n",
            " Vectorization)                                                  \n",
            "                                                                 \n",
            " embedding_5 (Embedding)     (None, 15, 128)           1280000   \n",
            "                                                                 \n",
            " conv1d_1 (Conv1D)           (None, 11, 32)            20512     \n",
            "                                                                 \n",
            " global_max_pooling1d_1 (Gl  (None, 32)                0         \n",
            " obalMaxPooling1D)                                               \n",
            "                                                                 \n",
            " dense_11 (Dense)            (None, 1)                 33        \n",
            "                                                                 \n",
            "=================================================================\n",
            "Total params: 1300545 (4.96 MB)\n",
            "Trainable params: 1300545 (4.96 MB)\n",
            "Non-trainable params: 0 (0.00 Byte)\n",
            "_________________________________________________________________\n"
          ]
        }
      ]
    },
    {
      "cell_type": "code",
      "source": [
        "model_5_history = model_5.fit(train_sentences,\n",
        "                              train_labels,\n",
        "                              epochs=5,\n",
        "                              validation_data=(val_sentences, val_labels),\n",
        "                              callbacks=[create_tensorboard_callback(SAVE_DIR,\n",
        "                                                                     \"Conv1D\")])"
      ],
      "metadata": {
        "colab": {
          "base_uri": "https://localhost:8080/"
        },
        "id": "2-vo06lVPBi4",
        "outputId": "b2510846-3c08-4ad6-aa17-c38579f8e155"
      },
      "execution_count": 90,
      "outputs": [
        {
          "output_type": "stream",
          "name": "stdout",
          "text": [
            "Saving TensorBoard log files to: model_logs/Conv1D/20240310-164102\n",
            "Epoch 1/5\n",
            "215/215 [==============================] - 7s 29ms/step - loss: 0.5646 - accuracy: 0.7160 - val_loss: 0.4755 - val_accuracy: 0.7730\n",
            "Epoch 2/5\n",
            "215/215 [==============================] - 4s 20ms/step - loss: 0.3369 - accuracy: 0.8635 - val_loss: 0.4767 - val_accuracy: 0.7861\n",
            "Epoch 3/5\n",
            "215/215 [==============================] - 4s 19ms/step - loss: 0.2060 - accuracy: 0.9235 - val_loss: 0.5382 - val_accuracy: 0.7743\n",
            "Epoch 4/5\n",
            "215/215 [==============================] - 4s 19ms/step - loss: 0.1318 - accuracy: 0.9578 - val_loss: 0.6029 - val_accuracy: 0.7795\n",
            "Epoch 5/5\n",
            "215/215 [==============================] - 4s 17ms/step - loss: 0.0936 - accuracy: 0.9685 - val_loss: 0.6554 - val_accuracy: 0.7913\n"
          ]
        }
      ]
    },
    {
      "cell_type": "code",
      "source": [
        "model_5_pred_probs = model_5.predict(val_sentences)\n",
        "model_5_pred_probs[:10]"
      ],
      "metadata": {
        "colab": {
          "base_uri": "https://localhost:8080/"
        },
        "id": "sxli5LCQPFKj",
        "outputId": "7be9cab1-47b1-4e31-9d78-68d359d9575f"
      },
      "execution_count": 91,
      "outputs": [
        {
          "output_type": "stream",
          "name": "stdout",
          "text": [
            "24/24 [==============================] - 0s 2ms/step\n"
          ]
        },
        {
          "output_type": "execute_result",
          "data": {
            "text/plain": [
              "array([[0.5623362 ],\n",
              "       [0.7088148 ],\n",
              "       [0.9996931 ],\n",
              "       [0.08684821],\n",
              "       [0.02119648],\n",
              "       [0.9886171 ],\n",
              "       [0.89589304],\n",
              "       [0.9978046 ],\n",
              "       [0.9984166 ],\n",
              "       [0.06607866]], dtype=float32)"
            ]
          },
          "metadata": {},
          "execution_count": 91
        }
      ]
    },
    {
      "cell_type": "code",
      "source": [
        "model_5_preds = tf.squeeze(tf.round(model_5_pred_probs))\n",
        "model_5_preds[:10]\n"
      ],
      "metadata": {
        "colab": {
          "base_uri": "https://localhost:8080/"
        },
        "id": "w22DNgBXPFLX",
        "outputId": "a23c6d2b-8d1e-468e-97d3-6b92feff3d2d"
      },
      "execution_count": 92,
      "outputs": [
        {
          "output_type": "execute_result",
          "data": {
            "text/plain": [
              "<tf.Tensor: shape=(10,), dtype=float32, numpy=array([1., 1., 1., 0., 0., 1., 1., 1., 1., 0.], dtype=float32)>"
            ]
          },
          "metadata": {},
          "execution_count": 92
        }
      ]
    },
    {
      "cell_type": "code",
      "source": [
        "model_5_results = calculate_results(y_true=val_labels,\n",
        "                                    y_pred=model_5_preds)\n",
        "model_5_results"
      ],
      "metadata": {
        "colab": {
          "base_uri": "https://localhost:8080/"
        },
        "id": "gRie3N8YPQQB",
        "outputId": "024cfa76-b8c6-4e36-847a-8809dbf843c4"
      },
      "execution_count": 93,
      "outputs": [
        {
          "output_type": "execute_result",
          "data": {
            "text/plain": [
              "{'accuracy': 79.13385826771653,\n",
              " 'precision': 0.793352563602817,\n",
              " 'recall': 0.7913385826771654,\n",
              " 'f1': 0.7895046541197648}"
            ]
          },
          "metadata": {},
          "execution_count": 93
        }
      ]
    },
    {
      "cell_type": "code",
      "source": [
        "compare_baseline_to_new_results(baseline_results, model_5_results)\n"
      ],
      "metadata": {
        "colab": {
          "base_uri": "https://localhost:8080/"
        },
        "id": "pNGg3cAnPQQ0",
        "outputId": "f370121d-ce01-483e-fe65-f8aabeaf0574"
      },
      "execution_count": 94,
      "outputs": [
        {
          "output_type": "stream",
          "name": "stdout",
          "text": [
            "Baseline accuracy: 79.27, New accuracy: 79.13, Difference: -0.13\n",
            "Baseline precision: 0.81, New precision: 0.79, Difference: -0.02\n",
            "Baseline recall: 0.79, New recall: 0.79, Difference: -0.00\n",
            "Baseline f1: 0.79, New f1: 0.79, Difference: 0.00\n"
          ]
        }
      ]
    },
    {
      "cell_type": "code",
      "source": [
        "from tensorflow.keras import layers\n",
        "\n",
        "inputs = layers.Input(shape=(1,), dtype=tf.string)\n",
        "x = text_vectorizer(inputs)\n",
        "x = embedding(x)\n",
        "x = layers.Conv1D(filters=64, kernel_size=5, strides=1, activation=\"relu\", padding=\"valid\")(x)\n",
        "x = layers.MaxPooling1D(pool_size=2)(x)  # MaxPooling1D kullanımı\n",
        "x = layers.GlobalMaxPooling1D()(x)\n",
        "\n",
        "outputs = layers.Dense(1, activation=\"sigmoid\")(x)\n",
        "model_5 = tf.keras.Model(inputs, outputs, name=\"model_5_Conv1D\")\n",
        "\n",
        "model_5.compile(loss=\"binary_crossentropy\",\n",
        "                optimizer=tf.keras.optimizers.Adam(),\n",
        "                metrics=[\"accuracy\"])\n",
        "\n",
        "model_5.summary()\n",
        "\n"
      ],
      "metadata": {
        "colab": {
          "base_uri": "https://localhost:8080/"
        },
        "id": "fJ3rx5hAPUaO",
        "outputId": "0dabaf3c-851d-457b-9ea1-e2ce7303da55"
      },
      "execution_count": 101,
      "outputs": [
        {
          "output_type": "stream",
          "name": "stdout",
          "text": [
            "Model: \"model_5_Conv1D\"\n",
            "_________________________________________________________________\n",
            " Layer (type)                Output Shape              Param #   \n",
            "=================================================================\n",
            " input_15 (InputLayer)       [(None, 1)]               0         \n",
            "                                                                 \n",
            " text_vectorization_1 (Text  (None, 15)                0         \n",
            " Vectorization)                                                  \n",
            "                                                                 \n",
            " embedding_1 (Embedding)     (None, 15, 128)           1280000   \n",
            "                                                                 \n",
            " conv1d_4 (Conv1D)           (None, 11, 64)            41024     \n",
            "                                                                 \n",
            " max_pooling1d (MaxPooling1  (None, 5, 64)             0         \n",
            " D)                                                              \n",
            "                                                                 \n",
            " global_max_pooling1d_4 (Gl  (None, 64)                0         \n",
            " obalMaxPooling1D)                                               \n",
            "                                                                 \n",
            " dense_12 (Dense)            (None, 1)                 65        \n",
            "                                                                 \n",
            "=================================================================\n",
            "Total params: 1321089 (5.04 MB)\n",
            "Trainable params: 1321089 (5.04 MB)\n",
            "Non-trainable params: 0 (0.00 Byte)\n",
            "_________________________________________________________________\n"
          ]
        }
      ]
    },
    {
      "cell_type": "code",
      "source": [
        "model_5_history = model_5.fit(train_sentences, train_labels, epochs=5, validation_data=(val_sentences, val_labels), callbacks=[create_tensorboard_callback(SAVE_DIR,\"Conv1D\")])"
      ],
      "metadata": {
        "colab": {
          "base_uri": "https://localhost:8080/"
        },
        "id": "RtByl4o1VVTI",
        "outputId": "931e3fee-697c-41d7-8476-0d4119f7af37"
      },
      "execution_count": 103,
      "outputs": [
        {
          "output_type": "stream",
          "name": "stdout",
          "text": [
            "Saving TensorBoard log files to: model_logs/Conv1D/20240310-171807\n",
            "Epoch 1/5\n",
            "215/215 [==============================] - 6s 21ms/step - loss: 0.1554 - accuracy: 0.9550 - val_loss: 0.7378 - val_accuracy: 0.7756\n",
            "Epoch 2/5\n",
            "215/215 [==============================] - 5s 23ms/step - loss: 0.1010 - accuracy: 0.9691 - val_loss: 0.8867 - val_accuracy: 0.7717\n",
            "Epoch 3/5\n",
            "215/215 [==============================] - 6s 30ms/step - loss: 0.0805 - accuracy: 0.9726 - val_loss: 0.9361 - val_accuracy: 0.7743\n",
            "Epoch 4/5\n",
            "215/215 [==============================] - 6s 29ms/step - loss: 0.0697 - accuracy: 0.9742 - val_loss: 1.0049 - val_accuracy: 0.7651\n",
            "Epoch 5/5\n",
            "215/215 [==============================] - 6s 26ms/step - loss: 0.0608 - accuracy: 0.9765 - val_loss: 1.0744 - val_accuracy: 0.7717\n"
          ]
        }
      ]
    },
    {
      "cell_type": "code",
      "source": [],
      "metadata": {
        "id": "zJRVFHuyXvbf"
      },
      "execution_count": null,
      "outputs": []
    },
    {
      "cell_type": "code",
      "source": [
        "model_5_pred= model_5.predict(val_sentences)\n",
        "model_5_pred_probs[:10]"
      ],
      "metadata": {
        "colab": {
          "base_uri": "https://localhost:8080/"
        },
        "id": "DCp7xHI1X2hV",
        "outputId": "30ae8088-22ee-4c96-8270-684b5c29ea68"
      },
      "execution_count": 104,
      "outputs": [
        {
          "output_type": "stream",
          "name": "stdout",
          "text": [
            "24/24 [==============================] - 0s 4ms/step\n"
          ]
        },
        {
          "output_type": "execute_result",
          "data": {
            "text/plain": [
              "array([[0.5623362 ],\n",
              "       [0.7088148 ],\n",
              "       [0.9996931 ],\n",
              "       [0.08684821],\n",
              "       [0.02119648],\n",
              "       [0.9886171 ],\n",
              "       [0.89589304],\n",
              "       [0.9978046 ],\n",
              "       [0.9984166 ],\n",
              "       [0.06607866]], dtype=float32)"
            ]
          },
          "metadata": {},
          "execution_count": 104
        }
      ]
    },
    {
      "cell_type": "code",
      "source": [
        "model_5_results= calculate_results(y_true= val_labels, y_pred=model_5_preds)\n",
        "\n",
        "model_5_results"
      ],
      "metadata": {
        "colab": {
          "base_uri": "https://localhost:8080/"
        },
        "id": "doZwpXRvYGXf",
        "outputId": "23be4813-2b25-4e18-e540-a9414045d7f2"
      },
      "execution_count": 105,
      "outputs": [
        {
          "output_type": "execute_result",
          "data": {
            "text/plain": [
              "{'accuracy': 79.13385826771653,\n",
              " 'precision': 0.793352563602817,\n",
              " 'recall': 0.7913385826771654,\n",
              " 'f1': 0.7895046541197648}"
            ]
          },
          "metadata": {},
          "execution_count": 105
        }
      ]
    },
    {
      "cell_type": "code",
      "source": [],
      "metadata": {
        "id": "aTCykByuYS01"
      },
      "execution_count": null,
      "outputs": []
    }
  ]
}