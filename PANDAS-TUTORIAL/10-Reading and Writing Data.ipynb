{
 "cells": [
  {
   "cell_type": "markdown",
   "metadata": {},
   "source": [
    "# Data Reading & Writting in Pandas"
   ]
  },
  {
   "cell_type": "code",
   "execution_count": 9,
   "metadata": {
    "ExecuteTime": {
     "end_time": "2024-05-15T08:43:46.857081300Z",
     "start_time": "2024-05-15T08:43:46.827084600Z"
    }
   },
   "outputs": [],
   "source": [
    "import pandas as pd  \n",
    "import numpy as np "
   ]
  },
  {
   "cell_type": "code",
   "execution_count": 25,
   "metadata": {
    "ExecuteTime": {
     "end_time": "2024-05-15T08:44:04.726583500Z",
     "start_time": "2024-05-15T08:44:04.713583700Z"
    }
   },
   "outputs": [],
   "source": [
    "df=pd.read_table(\"DataSets/data.txt\")"
   ]
  },
  {
   "cell_type": "code",
   "execution_count": 26,
   "metadata": {
    "ExecuteTime": {
     "end_time": "2024-05-15T08:44:05.251424400Z",
     "start_time": "2024-05-15T08:44:05.237442900Z"
    }
   },
   "outputs": [
    {
     "data": {
      "text/plain": "    Tom,80,M\n0   Tim,85,M\n1   Kim,70,M\n2  Kate,90,F\n3  Alex,75,F",
      "text/html": "<div>\n<style scoped>\n    .dataframe tbody tr th:only-of-type {\n        vertical-align: middle;\n    }\n\n    .dataframe tbody tr th {\n        vertical-align: top;\n    }\n\n    .dataframe thead th {\n        text-align: right;\n    }\n</style>\n<table border=\"1\" class=\"dataframe\">\n  <thead>\n    <tr style=\"text-align: right;\">\n      <th></th>\n      <th>Tom,80,M</th>\n    </tr>\n  </thead>\n  <tbody>\n    <tr>\n      <th>0</th>\n      <td>Tim,85,M</td>\n    </tr>\n    <tr>\n      <th>1</th>\n      <td>Kim,70,M</td>\n    </tr>\n    <tr>\n      <th>2</th>\n      <td>Kate,90,F</td>\n    </tr>\n    <tr>\n      <th>3</th>\n      <td>Alex,75,F</td>\n    </tr>\n  </tbody>\n</table>\n</div>"
     },
     "execution_count": 26,
     "metadata": {},
     "output_type": "execute_result"
    }
   ],
   "source": [
    "df2=pd.read_table(\"DataSets/data2.txt\")\n",
    "df2"
   ]
  },
  {
   "cell_type": "code",
   "execution_count": 27,
   "metadata": {
    "ExecuteTime": {
     "end_time": "2024-05-15T08:44:05.970428200Z",
     "start_time": "2024-05-15T08:44:05.920425700Z"
    }
   },
   "outputs": [
    {
     "data": {
      "text/plain": "    Tom  80  M\n0   Tim  85  M\n1   Kim  70  M\n2  Kate  90  F\n3  Alex  75  F",
      "text/html": "<div>\n<style scoped>\n    .dataframe tbody tr th:only-of-type {\n        vertical-align: middle;\n    }\n\n    .dataframe tbody tr th {\n        vertical-align: top;\n    }\n\n    .dataframe thead th {\n        text-align: right;\n    }\n</style>\n<table border=\"1\" class=\"dataframe\">\n  <thead>\n    <tr style=\"text-align: right;\">\n      <th></th>\n      <th>Tom</th>\n      <th>80</th>\n      <th>M</th>\n    </tr>\n  </thead>\n  <tbody>\n    <tr>\n      <th>0</th>\n      <td>Tim</td>\n      <td>85</td>\n      <td>M</td>\n    </tr>\n    <tr>\n      <th>1</th>\n      <td>Kim</td>\n      <td>70</td>\n      <td>M</td>\n    </tr>\n    <tr>\n      <th>2</th>\n      <td>Kate</td>\n      <td>90</td>\n      <td>F</td>\n    </tr>\n    <tr>\n      <th>3</th>\n      <td>Alex</td>\n      <td>75</td>\n      <td>F</td>\n    </tr>\n  </tbody>\n</table>\n</div>"
     },
     "execution_count": 27,
     "metadata": {},
     "output_type": "execute_result"
    }
   ],
   "source": [
    "df2=pd.read_table(\"DataSets/data2.txt\", sep=\",\")\n",
    "df2"
   ]
  },
  {
   "cell_type": "code",
   "execution_count": 13,
   "metadata": {
    "ExecuteTime": {
     "end_time": "2024-05-15T08:43:47.739084100Z",
     "start_time": "2024-05-15T08:43:47.696122600Z"
    }
   },
   "outputs": [
    {
     "data": {
      "text/plain": "    Tom  80  M\n0   Tim  85  M\n1   Kim  70  M\n2  Kate  90  F\n3  Alex  75  F",
      "text/html": "<div>\n<style scoped>\n    .dataframe tbody tr th:only-of-type {\n        vertical-align: middle;\n    }\n\n    .dataframe tbody tr th {\n        vertical-align: top;\n    }\n\n    .dataframe thead th {\n        text-align: right;\n    }\n</style>\n<table border=\"1\" class=\"dataframe\">\n  <thead>\n    <tr style=\"text-align: right;\">\n      <th></th>\n      <th>Tom</th>\n      <th>80</th>\n      <th>M</th>\n    </tr>\n  </thead>\n  <tbody>\n    <tr>\n      <th>0</th>\n      <td>Tim</td>\n      <td>85</td>\n      <td>M</td>\n    </tr>\n    <tr>\n      <th>1</th>\n      <td>Kim</td>\n      <td>70</td>\n      <td>M</td>\n    </tr>\n    <tr>\n      <th>2</th>\n      <td>Kate</td>\n      <td>90</td>\n      <td>F</td>\n    </tr>\n    <tr>\n      <th>3</th>\n      <td>Alex</td>\n      <td>75</td>\n      <td>F</td>\n    </tr>\n  </tbody>\n</table>\n</div>"
     },
     "execution_count": 13,
     "metadata": {},
     "output_type": "execute_result"
    }
   ],
   "source": [
    "df=pd.read_table(\"DataSets/data2.txt\", sep=\",\")\n",
    "df"
   ]
  },
  {
   "cell_type": "code",
   "execution_count": 14,
   "metadata": {
    "ExecuteTime": {
     "end_time": "2024-05-15T08:43:47.907163Z",
     "start_time": "2024-05-15T08:43:47.877085900Z"
    }
   },
   "outputs": [
    {
     "data": {
      "text/plain": "      0   1  2\n0   Tom  80  M\n1   Tim  85  M\n2   Kim  70  M\n3  Kate  90  F\n4  Alex  75  F",
      "text/html": "<div>\n<style scoped>\n    .dataframe tbody tr th:only-of-type {\n        vertical-align: middle;\n    }\n\n    .dataframe tbody tr th {\n        vertical-align: top;\n    }\n\n    .dataframe thead th {\n        text-align: right;\n    }\n</style>\n<table border=\"1\" class=\"dataframe\">\n  <thead>\n    <tr style=\"text-align: right;\">\n      <th></th>\n      <th>0</th>\n      <th>1</th>\n      <th>2</th>\n    </tr>\n  </thead>\n  <tbody>\n    <tr>\n      <th>0</th>\n      <td>Tom</td>\n      <td>80</td>\n      <td>M</td>\n    </tr>\n    <tr>\n      <th>1</th>\n      <td>Tim</td>\n      <td>85</td>\n      <td>M</td>\n    </tr>\n    <tr>\n      <th>2</th>\n      <td>Kim</td>\n      <td>70</td>\n      <td>M</td>\n    </tr>\n    <tr>\n      <th>3</th>\n      <td>Kate</td>\n      <td>90</td>\n      <td>F</td>\n    </tr>\n    <tr>\n      <th>4</th>\n      <td>Alex</td>\n      <td>75</td>\n      <td>F</td>\n    </tr>\n  </tbody>\n</table>\n</div>"
     },
     "execution_count": 14,
     "metadata": {},
     "output_type": "execute_result"
    }
   ],
   "source": [
    "df=pd.read_table(\"DataSets/data2.txt\",\n",
    "                 sep=\",\",\n",
    "                 header=None)\n",
    "df"
   ]
  },
  {
   "cell_type": "code",
   "execution_count": 15,
   "metadata": {
    "ExecuteTime": {
     "end_time": "2024-05-15T08:43:48.095801700Z",
     "start_time": "2024-05-15T08:43:48.048084200Z"
    }
   },
   "outputs": [
    {
     "data": {
      "text/plain": "   name  score sex\n0   Tom     80   M\n1   Tim     85   M\n2   Kim     70   M\n3  Kate     90   F\n4  Alex     75   F",
      "text/html": "<div>\n<style scoped>\n    .dataframe tbody tr th:only-of-type {\n        vertical-align: middle;\n    }\n\n    .dataframe tbody tr th {\n        vertical-align: top;\n    }\n\n    .dataframe thead th {\n        text-align: right;\n    }\n</style>\n<table border=\"1\" class=\"dataframe\">\n  <thead>\n    <tr style=\"text-align: right;\">\n      <th></th>\n      <th>name</th>\n      <th>score</th>\n      <th>sex</th>\n    </tr>\n  </thead>\n  <tbody>\n    <tr>\n      <th>0</th>\n      <td>Tom</td>\n      <td>80</td>\n      <td>M</td>\n    </tr>\n    <tr>\n      <th>1</th>\n      <td>Tim</td>\n      <td>85</td>\n      <td>M</td>\n    </tr>\n    <tr>\n      <th>2</th>\n      <td>Kim</td>\n      <td>70</td>\n      <td>M</td>\n    </tr>\n    <tr>\n      <th>3</th>\n      <td>Kate</td>\n      <td>90</td>\n      <td>F</td>\n    </tr>\n    <tr>\n      <th>4</th>\n      <td>Alex</td>\n      <td>75</td>\n      <td>F</td>\n    </tr>\n  </tbody>\n</table>\n</div>"
     },
     "execution_count": 15,
     "metadata": {},
     "output_type": "execute_result"
    }
   ],
   "source": [
    "df=pd.read_table(\"DataSets/data2.txt\",\n",
    "                 sep=\",\",\n",
    "                 header=None, \n",
    "                 names=[\"name\",\"score\",\"sex\"])\n",
    "df"
   ]
  },
  {
   "cell_type": "code",
   "execution_count": 16,
   "metadata": {
    "ExecuteTime": {
     "end_time": "2024-05-15T08:43:48.246875500Z",
     "start_time": "2024-05-15T08:43:48.166803400Z"
    }
   },
   "outputs": [
    {
     "data": {
      "text/plain": "      score sex\nname           \nTom      80   M\nTim      85   M\nKim      70   M\nKate     90   F\nAlex     75   F",
      "text/html": "<div>\n<style scoped>\n    .dataframe tbody tr th:only-of-type {\n        vertical-align: middle;\n    }\n\n    .dataframe tbody tr th {\n        vertical-align: top;\n    }\n\n    .dataframe thead th {\n        text-align: right;\n    }\n</style>\n<table border=\"1\" class=\"dataframe\">\n  <thead>\n    <tr style=\"text-align: right;\">\n      <th></th>\n      <th>score</th>\n      <th>sex</th>\n    </tr>\n    <tr>\n      <th>name</th>\n      <th></th>\n      <th></th>\n    </tr>\n  </thead>\n  <tbody>\n    <tr>\n      <th>Tom</th>\n      <td>80</td>\n      <td>M</td>\n    </tr>\n    <tr>\n      <th>Tim</th>\n      <td>85</td>\n      <td>M</td>\n    </tr>\n    <tr>\n      <th>Kim</th>\n      <td>70</td>\n      <td>M</td>\n    </tr>\n    <tr>\n      <th>Kate</th>\n      <td>90</td>\n      <td>F</td>\n    </tr>\n    <tr>\n      <th>Alex</th>\n      <td>75</td>\n      <td>F</td>\n    </tr>\n  </tbody>\n</table>\n</div>"
     },
     "execution_count": 16,
     "metadata": {},
     "output_type": "execute_result"
    }
   ],
   "source": [
    "df=pd.read_table(\"DataSets/data2.txt\",\n",
    "                 sep=\",\",header=None, \n",
    "                 names=[\"name\",\"score\",\"sex\"],\n",
    "                 index_col=\"name\")\n",
    "df"
   ]
  },
  {
   "cell_type": "code",
   "execution_count": 17,
   "metadata": {
    "ExecuteTime": {
     "end_time": "2024-05-15T08:43:48.396803300Z",
     "start_time": "2024-05-15T08:43:48.295801300Z"
    }
   },
   "outputs": [
    {
     "data": {
      "text/plain": "  lesson  name  one  two\n0   Math   Kim   80   85\n1   Math   Tim   90   70\n2   Math   Tom   70   95\n3   Stat  Kate   65   90\n4   Stat  Alex   85   80\n5   Stat   Sam   55   70",
      "text/html": "<div>\n<style scoped>\n    .dataframe tbody tr th:only-of-type {\n        vertical-align: middle;\n    }\n\n    .dataframe tbody tr th {\n        vertical-align: top;\n    }\n\n    .dataframe thead th {\n        text-align: right;\n    }\n</style>\n<table border=\"1\" class=\"dataframe\">\n  <thead>\n    <tr style=\"text-align: right;\">\n      <th></th>\n      <th>lesson</th>\n      <th>name</th>\n      <th>one</th>\n      <th>two</th>\n    </tr>\n  </thead>\n  <tbody>\n    <tr>\n      <th>0</th>\n      <td>Math</td>\n      <td>Kim</td>\n      <td>80</td>\n      <td>85</td>\n    </tr>\n    <tr>\n      <th>1</th>\n      <td>Math</td>\n      <td>Tim</td>\n      <td>90</td>\n      <td>70</td>\n    </tr>\n    <tr>\n      <th>2</th>\n      <td>Math</td>\n      <td>Tom</td>\n      <td>70</td>\n      <td>95</td>\n    </tr>\n    <tr>\n      <th>3</th>\n      <td>Stat</td>\n      <td>Kate</td>\n      <td>65</td>\n      <td>90</td>\n    </tr>\n    <tr>\n      <th>4</th>\n      <td>Stat</td>\n      <td>Alex</td>\n      <td>85</td>\n      <td>80</td>\n    </tr>\n    <tr>\n      <th>5</th>\n      <td>Stat</td>\n      <td>Sam</td>\n      <td>55</td>\n      <td>70</td>\n    </tr>\n  </tbody>\n</table>\n</div>"
     },
     "execution_count": 17,
     "metadata": {},
     "output_type": "execute_result"
    }
   ],
   "source": [
    "df2=pd.read_table(\"DataSets/data3.txt\",\n",
    "                  sep=\",\")\n",
    "df2"
   ]
  },
  {
   "cell_type": "code",
   "execution_count": 18,
   "metadata": {
    "ExecuteTime": {
     "end_time": "2024-05-15T08:43:48.648724600Z",
     "start_time": "2024-05-15T08:43:48.499626300Z"
    }
   },
   "outputs": [
    {
     "data": {
      "text/plain": "             one  two\nlesson name          \nMath   Kim    80   85\n       Tim    90   70\n       Tom    70   95\nStat   Kate   65   90\n       Alex   85   80\n       Sam    55   70",
      "text/html": "<div>\n<style scoped>\n    .dataframe tbody tr th:only-of-type {\n        vertical-align: middle;\n    }\n\n    .dataframe tbody tr th {\n        vertical-align: top;\n    }\n\n    .dataframe thead th {\n        text-align: right;\n    }\n</style>\n<table border=\"1\" class=\"dataframe\">\n  <thead>\n    <tr style=\"text-align: right;\">\n      <th></th>\n      <th></th>\n      <th>one</th>\n      <th>two</th>\n    </tr>\n    <tr>\n      <th>lesson</th>\n      <th>name</th>\n      <th></th>\n      <th></th>\n    </tr>\n  </thead>\n  <tbody>\n    <tr>\n      <th rowspan=\"3\" valign=\"top\">Math</th>\n      <th>Kim</th>\n      <td>80</td>\n      <td>85</td>\n    </tr>\n    <tr>\n      <th>Tim</th>\n      <td>90</td>\n      <td>70</td>\n    </tr>\n    <tr>\n      <th>Tom</th>\n      <td>70</td>\n      <td>95</td>\n    </tr>\n    <tr>\n      <th rowspan=\"3\" valign=\"top\">Stat</th>\n      <th>Kate</th>\n      <td>65</td>\n      <td>90</td>\n    </tr>\n    <tr>\n      <th>Alex</th>\n      <td>85</td>\n      <td>80</td>\n    </tr>\n    <tr>\n      <th>Sam</th>\n      <td>55</td>\n      <td>70</td>\n    </tr>\n  </tbody>\n</table>\n</div>"
     },
     "execution_count": 18,
     "metadata": {},
     "output_type": "execute_result"
    }
   ],
   "source": [
    "df2=pd.read_table(\"DataSets/data3.txt\",\n",
    "                  sep=\",\",\n",
    "                  index_col=[\"lesson\",\"name\"])\n",
    "df2"
   ]
  },
  {
   "cell_type": "code",
   "execution_count": 19,
   "metadata": {
    "ExecuteTime": {
     "end_time": "2024-05-15T08:43:48.711628500Z",
     "start_time": "2024-05-15T08:43:48.590626700Z"
    }
   },
   "outputs": [
    {
     "data": {
      "text/plain": "                          #hello\nname                score    sex\n#scores of students NaN      NaN\nTim                 80         M\nKate                85         F\nAlex                70         M\nTom                 90         M\nKim                 75         F",
      "text/html": "<div>\n<style scoped>\n    .dataframe tbody tr th:only-of-type {\n        vertical-align: middle;\n    }\n\n    .dataframe tbody tr th {\n        vertical-align: top;\n    }\n\n    .dataframe thead th {\n        text-align: right;\n    }\n</style>\n<table border=\"1\" class=\"dataframe\">\n  <thead>\n    <tr style=\"text-align: right;\">\n      <th></th>\n      <th></th>\n      <th>#hello</th>\n    </tr>\n  </thead>\n  <tbody>\n    <tr>\n      <th>name</th>\n      <th>score</th>\n      <td>sex</td>\n    </tr>\n    <tr>\n      <th>#scores of students</th>\n      <th>NaN</th>\n      <td>NaN</td>\n    </tr>\n    <tr>\n      <th>Tim</th>\n      <th>80</th>\n      <td>M</td>\n    </tr>\n    <tr>\n      <th>Kate</th>\n      <th>85</th>\n      <td>F</td>\n    </tr>\n    <tr>\n      <th>Alex</th>\n      <th>70</th>\n      <td>M</td>\n    </tr>\n    <tr>\n      <th>Tom</th>\n      <th>90</th>\n      <td>M</td>\n    </tr>\n    <tr>\n      <th>Kim</th>\n      <th>75</th>\n      <td>F</td>\n    </tr>\n  </tbody>\n</table>\n</div>"
     },
     "execution_count": 19,
     "metadata": {},
     "output_type": "execute_result"
    }
   ],
   "source": [
    "df3=pd.read_table(\"DataSets/data4.txt\",sep=\",\")\n",
    "df3"
   ]
  },
  {
   "cell_type": "code",
   "execution_count": 20,
   "metadata": {
    "ExecuteTime": {
     "end_time": "2024-05-15T08:43:48.859624700Z",
     "start_time": "2024-05-15T08:43:48.729628700Z"
    }
   },
   "outputs": [
    {
     "data": {
      "text/plain": "   name  score sex\n0   Tim     80   M\n1  Kate     85   F\n2  Alex     70   M\n3   Tom     90   M\n4   Kim     75   F",
      "text/html": "<div>\n<style scoped>\n    .dataframe tbody tr th:only-of-type {\n        vertical-align: middle;\n    }\n\n    .dataframe tbody tr th {\n        vertical-align: top;\n    }\n\n    .dataframe thead th {\n        text-align: right;\n    }\n</style>\n<table border=\"1\" class=\"dataframe\">\n  <thead>\n    <tr style=\"text-align: right;\">\n      <th></th>\n      <th>name</th>\n      <th>score</th>\n      <th>sex</th>\n    </tr>\n  </thead>\n  <tbody>\n    <tr>\n      <th>0</th>\n      <td>Tim</td>\n      <td>80</td>\n      <td>M</td>\n    </tr>\n    <tr>\n      <th>1</th>\n      <td>Kate</td>\n      <td>85</td>\n      <td>F</td>\n    </tr>\n    <tr>\n      <th>2</th>\n      <td>Alex</td>\n      <td>70</td>\n      <td>M</td>\n    </tr>\n    <tr>\n      <th>3</th>\n      <td>Tom</td>\n      <td>90</td>\n      <td>M</td>\n    </tr>\n    <tr>\n      <th>4</th>\n      <td>Kim</td>\n      <td>75</td>\n      <td>F</td>\n    </tr>\n  </tbody>\n</table>\n</div>"
     },
     "execution_count": 20,
     "metadata": {},
     "output_type": "execute_result"
    }
   ],
   "source": [
    "df3=pd.read_table(\"DataSets/data4.txt\",\n",
    "                  sep=\",\", \n",
    "                  skiprows=[0,2])\n",
    "df3"
   ]
  },
  {
   "cell_type": "code",
   "execution_count": 21,
   "metadata": {
    "ExecuteTime": {
     "end_time": "2024-05-15T08:43:49.002623300Z",
     "start_time": "2024-05-15T08:43:48.909630500Z"
    }
   },
   "outputs": [
    {
     "data": {
      "text/plain": "   name  score\n0   Tim     80\n1  Kate     85\n2  Alex     70\n3   Tom     90\n4   Kim     75",
      "text/html": "<div>\n<style scoped>\n    .dataframe tbody tr th:only-of-type {\n        vertical-align: middle;\n    }\n\n    .dataframe tbody tr th {\n        vertical-align: top;\n    }\n\n    .dataframe thead th {\n        text-align: right;\n    }\n</style>\n<table border=\"1\" class=\"dataframe\">\n  <thead>\n    <tr style=\"text-align: right;\">\n      <th></th>\n      <th>name</th>\n      <th>score</th>\n    </tr>\n  </thead>\n  <tbody>\n    <tr>\n      <th>0</th>\n      <td>Tim</td>\n      <td>80</td>\n    </tr>\n    <tr>\n      <th>1</th>\n      <td>Kate</td>\n      <td>85</td>\n    </tr>\n    <tr>\n      <th>2</th>\n      <td>Alex</td>\n      <td>70</td>\n    </tr>\n    <tr>\n      <th>3</th>\n      <td>Tom</td>\n      <td>90</td>\n    </tr>\n    <tr>\n      <th>4</th>\n      <td>Kim</td>\n      <td>75</td>\n    </tr>\n  </tbody>\n</table>\n</div>"
     },
     "execution_count": 21,
     "metadata": {},
     "output_type": "execute_result"
    }
   ],
   "source": [
    "df3=pd.read_table(\"DataSets/data4.txt\",\n",
    "                  sep=\",\", \n",
    "                  skiprows=[0,2],\n",
    "                  usecols=[0,1])\n",
    "df3"
   ]
  },
  {
   "cell_type": "code",
   "execution_count": 22,
   "metadata": {
    "scrolled": true,
    "ExecuteTime": {
     "end_time": "2024-05-15T08:43:49.445368Z",
     "start_time": "2024-05-15T08:43:49.427368400Z"
    }
   },
   "outputs": [
    {
     "data": {
      "text/plain": "   name  score\n0   Tim     80\n1  Kate     85\n2  Alex     70",
      "text/html": "<div>\n<style scoped>\n    .dataframe tbody tr th:only-of-type {\n        vertical-align: middle;\n    }\n\n    .dataframe tbody tr th {\n        vertical-align: top;\n    }\n\n    .dataframe thead th {\n        text-align: right;\n    }\n</style>\n<table border=\"1\" class=\"dataframe\">\n  <thead>\n    <tr style=\"text-align: right;\">\n      <th></th>\n      <th>name</th>\n      <th>score</th>\n    </tr>\n  </thead>\n  <tbody>\n    <tr>\n      <th>0</th>\n      <td>Tim</td>\n      <td>80</td>\n    </tr>\n    <tr>\n      <th>1</th>\n      <td>Kate</td>\n      <td>85</td>\n    </tr>\n    <tr>\n      <th>2</th>\n      <td>Alex</td>\n      <td>70</td>\n    </tr>\n  </tbody>\n</table>\n</div>"
     },
     "execution_count": 22,
     "metadata": {},
     "output_type": "execute_result"
    }
   ],
   "source": [
    "df3=pd.read_table(\"DataSets/data4.txt\",\n",
    "                  sep=\",\", \n",
    "                  skiprows=[0,2],\n",
    "                  usecols=[0,1],\n",
    "                  nrows=3)\n",
    "df3"
   ]
  },
  {
   "cell_type": "markdown",
   "metadata": {},
   "source": [
    "## Writing Data"
   ]
  },
  {
   "cell_type": "code",
   "execution_count": 23,
   "metadata": {
    "ExecuteTime": {
     "end_time": "2024-05-15T08:43:50.011366900Z",
     "start_time": "2024-05-15T08:43:49.994368500Z"
    }
   },
   "outputs": [
    {
     "data": {
      "text/plain": "  name  score sex\n0  Tim     80   M\n1  Tom     85   M\n2  Kim     70   F\n3  Sam     90   M\n4  Efe     75   M",
      "text/html": "<div>\n<style scoped>\n    .dataframe tbody tr th:only-of-type {\n        vertical-align: middle;\n    }\n\n    .dataframe tbody tr th {\n        vertical-align: top;\n    }\n\n    .dataframe thead th {\n        text-align: right;\n    }\n</style>\n<table border=\"1\" class=\"dataframe\">\n  <thead>\n    <tr style=\"text-align: right;\">\n      <th></th>\n      <th>name</th>\n      <th>score</th>\n      <th>sex</th>\n    </tr>\n  </thead>\n  <tbody>\n    <tr>\n      <th>0</th>\n      <td>Tim</td>\n      <td>80</td>\n      <td>M</td>\n    </tr>\n    <tr>\n      <th>1</th>\n      <td>Tom</td>\n      <td>85</td>\n      <td>M</td>\n    </tr>\n    <tr>\n      <th>2</th>\n      <td>Kim</td>\n      <td>70</td>\n      <td>F</td>\n    </tr>\n    <tr>\n      <th>3</th>\n      <td>Sam</td>\n      <td>90</td>\n      <td>M</td>\n    </tr>\n    <tr>\n      <th>4</th>\n      <td>Efe</td>\n      <td>75</td>\n      <td>M</td>\n    </tr>\n  </tbody>\n</table>\n</div>"
     },
     "execution_count": 23,
     "metadata": {},
     "output_type": "execute_result"
    }
   ],
   "source": [
    "df=pd.read_csv(\"DataSets/data.txt\",sep=\"\\t\")\n",
    "df"
   ]
  },
  {
   "cell_type": "code",
   "execution_count": 24,
   "metadata": {
    "ExecuteTime": {
     "end_time": "2024-05-15T08:43:50.805372Z",
     "start_time": "2024-05-15T08:43:50.771371600Z"
    }
   },
   "outputs": [],
   "source": [
    "df.to_csv(\"DataSets/new_data.csv\")\n"
   ]
  }
 ],
 "metadata": {
  "kernelspec": {
   "display_name": "Python 3 (ipykernel)",
   "language": "python",
   "name": "python3"
  },
  "language_info": {
   "codemirror_mode": {
    "name": "ipython",
    "version": 3
   },
   "file_extension": ".py",
   "mimetype": "text/x-python",
   "name": "python",
   "nbconvert_exporter": "python",
   "pygments_lexer": "ipython3",
   "version": "3.8.12"
  }
 },
 "nbformat": 4,
 "nbformat_minor": 4
}
