{
  "nbformat": 4,
  "nbformat_minor": 0,
  "metadata": {
    "colab": {
      "provenance": [],
      "authorship_tag": "ABX9TyPkGNwMotdS3MYlVHgU7iFN",
      "include_colab_link": true
    },
    "kernelspec": {
      "name": "python3",
      "display_name": "Python 3"
    },
    "language_info": {
      "name": "python"
    }
  },
  "cells": [
    {
      "cell_type": "markdown",
      "metadata": {
        "id": "view-in-github",
        "colab_type": "text"
      },
      "source": [
        "<a href=\"https://colab.research.google.com/github/mrarat76/Tensorflow_Practises/blob/main/tensor_random_practise.ipynb\" target=\"_parent\"><img src=\"https://colab.research.google.com/assets/colab-badge.svg\" alt=\"Open In Colab\"/></a>"
      ]
    },
    {
      "cell_type": "markdown",
      "source": [
        "##Düşürme (Dropout) Katmanı Örneği:\n",
        "Düşürme katmanı, aşırı uydurmayı azaltmak ve modelin genelleme yapabilmesini sağlamak için kullanılır. Her bir öğrenme adımında belirli bir olasılıkla nöronları devre dışı bırakır."
      ],
      "metadata": {
        "id": "DH7VdlAWI5HZ"
      }
    },
    {
      "cell_type": "code",
      "execution_count": null,
      "metadata": {
        "id": "hePtdNf6IhCC"
      },
      "outputs": [],
      "source": [
        "import tensorflow as tf\n",
        "\n",
        "model = tf.keras.Sequential([\n",
        "    tf.keras.layers.Flatten(input_shape=(28, 28)),\n",
        "    tf.keras.layers.Dense(128, activation='relu'),\n",
        "    tf.keras.layers.Dropout(0.5),  # Düşürme katmanı, %50 olasılıkla nöronları devre dışı bırakır\n",
        "    tf.keras.layers.Dense(64, activation='relu'),\n",
        "    tf.keras.layers.Dense(10, activation='softmax')\n",
        "])\n"
      ]
    },
    {
      "cell_type": "markdown",
      "source": [
        "## Toplama (Pooling) Katmanı Örneği:\n",
        "Toplama katmanları, evrişimli katmanlarla birlikte kullanılır ve özellik haritalarını küçültmek ve önemli özellikleri vurgulamak için kullanılır."
      ],
      "metadata": {
        "id": "rS0iNLggIvMO"
      }
    },
    {
      "cell_type": "code",
      "source": [
        "model = tf.keras.Sequential([\n",
        "    tf.keras.layers.Conv2D(32, (3, 3), activation='relu', input_shape=(28, 28, 1)),\n",
        "    tf.keras.layers.MaxPooling2D((2, 2))  # MaxPooling katmanı, en büyük değeri seçerek boyutu küçültür\n",
        "])\n"
      ],
      "metadata": {
        "id": "G7Z95-FrIs_b"
      },
      "execution_count": null,
      "outputs": []
    },
    {
      "cell_type": "markdown",
      "source": [
        "## Normalizasyon Katmanı Örneği:\n",
        "Normalizasyon katmanları, verilerin ortalamasını sıfır yapmak ve standart sapmayı bir sabit değerde tutmak için kullanılır."
      ],
      "metadata": {
        "id": "aM-X46TwI-rg"
      }
    },
    {
      "cell_type": "code",
      "source": [
        "model = tf.keras.Sequential([\n",
        "    tf.keras.layers.Flatten(input_shape=(28, 28)),\n",
        "    tf.keras.layers.BatchNormalization(),  # Normalizasyon katmanı\n",
        "    tf.keras.layers.Dense(128, activation='relu'),\n",
        "    tf.keras.layers.Dense(10, activation='softmax')\n",
        "])\n"
      ],
      "metadata": {
        "id": "9LpXPELKJC6w"
      },
      "execution_count": null,
      "outputs": []
    },
    {
      "cell_type": "markdown",
      "source": [
        "##Evrişimli (Convolutional) Katman Örneği:\n",
        "Evrişimli katmanlar, özellik haritaları çıkarmak için kullanılır ve genellikle görüntü işleme görevlerinde kullanılır."
      ],
      "metadata": {
        "id": "AvfUn_8UJFB5"
      }
    },
    {
      "cell_type": "code",
      "source": [
        "model = tf.keras.Sequential([\n",
        "    tf.keras.layers.Conv2D(32, (3, 3), activation='relu', input_shape=(28, 28, 1)),\n",
        "    tf.keras.layers.MaxPooling2D((2, 2)),\n",
        "    tf.keras.layers.Conv2D(64, (3, 3), activation='relu'),\n",
        "    tf.keras.layers.MaxPooling2D((2, 2)),\n",
        "    tf.keras.layers.Flatten(),\n",
        "    tf.keras.layers.Dense(10, activation='softmax')\n",
        "])\n"
      ],
      "metadata": {
        "id": "bfiEyd-SJsSj"
      },
      "execution_count": null,
      "outputs": []
    },
    {
      "cell_type": "markdown",
      "source": [
        "##Tekrarlayan (Recurrent) Katman Örneği:\n",
        "Tekrarlayan katmanlar, sıralı verileri işlemek için kullanılır. Özellikle zaman serileri veya metin verileri gibi veri türleri üzerinde kullanışlıdır."
      ],
      "metadata": {
        "id": "pgD7NkdEJvTg"
      }
    },
    {
      "cell_type": "code",
      "source": [
        "model = tf.keras.Sequential([\n",
        "    tf.keras.layers.Embedding(input_dim=10000, output_dim=32, input_length=100),\n",
        "    tf.keras.layers.LSTM(64),  # LSTM tekrarlayan katmanı\n",
        "    tf.keras.layers.Dense(1, activation='sigmoid')\n",
        "])\n"
      ],
      "metadata": {
        "id": "5cwhSk_NJ0qf"
      },
      "execution_count": null,
      "outputs": []
    }
  ]
}