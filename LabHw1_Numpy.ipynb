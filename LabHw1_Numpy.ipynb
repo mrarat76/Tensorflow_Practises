{
  "cells": [
    {
      "cell_type": "markdown",
      "metadata": {
        "id": "view-in-github",
        "colab_type": "text"
      },
      "source": [
        "<a href=\"https://colab.research.google.com/github/mrarat76/Tensorflow_Practises/blob/main/LabHw1_Numpy.ipynb\" target=\"_parent\"><img src=\"https://colab.research.google.com/assets/colab-badge.svg\" alt=\"Open In Colab\"/></a>"
      ]
    },
    {
      "cell_type": "markdown",
      "metadata": {
        "id": "0rc0cvXJeWrO"
      },
      "source": [
        "## Numpy Homework\n",
        "\n",
        "1. Numpy 1-D Array\n",
        "2. Numpy Broadcasting\n",
        "3. Numpy Boolean Array\n",
        "4. Numpy Indexing\n",
        "5. Numpy 2D Array\n",
        "6. Numpy 2D Array Indexing\n",
        "7. Numpy 2D Array Broadcasting\n",
        "8. Numpy Statistic"
      ]
    },
    {
      "cell_type": "markdown",
      "metadata": {
        "id": "EDtP7m6weWrQ"
      },
      "source": [
        "### Numpy 1-D Array\n",
        "\n",
        "### Instructions\n",
        "\n",
        "1. Create square_foot list\n",
        "2. Create a numpy array from square_foot: np_sq_foot\n",
        "3. Print out np_sq_foot and type of the np_sq_foot"
      ]
    },
    {
      "cell_type": "code",
      "execution_count": null,
      "metadata": {
        "ExecuteTime": {
          "end_time": "2024-05-10T10:34:20.175342500Z",
          "start_time": "2024-05-10T10:34:20.153322600Z"
        },
        "id": "Y8dkVSSaeWrQ",
        "outputId": "aea39434-ddf5-4644-9f99-3452d3a48f79"
      },
      "outputs": [
        {
          "name": "stdout",
          "output_type": "stream",
          "text": [
            "[31.6227766  34.64101615 28.28427125 24.59674775 26.45751311 30.82207001\n",
            " 25.29822128 36.12478374 47.95831523 35.35533906 25.88435821 30.65941943\n",
            " 28.10693865 30.65941943 41.95235393 61.4817046  37.01351105 27.38612788\n",
            " 37.8153408 ] float64 <class 'numpy.ndarray'>\n"
          ]
        }
      ],
      "source": [
        "import numpy as np\n",
        "\n",
        "# 1. Create square_foot list\n",
        "square_foot = [1000, 1200, 800, 605, 700, 950, 640, 1305, 2300, 1250, 670, 940, 790, 940, 1760, 3780, 1370, 750, 1430]\n",
        "\n",
        "# 2. Create a numpy array from square_foot: np_sq_foot\n",
        "np_sq_foot = np.array(square_foot)\n",
        "\n",
        "# 3. Print out np_sq_foot and type of the np_sq_foot\n",
        "print(np_sq_foot)\n",
        "print(type(np_sq_foot))"
      ]
    },
    {
      "cell_type": "markdown",
      "metadata": {
        "id": "eq_-TINYeWrR"
      },
      "source": [
        "### Instructions\n",
        "\n",
        "1. Create nbr_room list\n",
        "2. Create a numpy array from nbr_room: nbr_room_np\n",
        "3. Print out nbr_room_np and type of the nbr_room_np"
      ]
    },
    {
      "cell_type": "code",
      "execution_count": null,
      "metadata": {
        "ExecuteTime": {
          "end_time": "2024-05-10T10:35:49.966300200Z",
          "start_time": "2024-05-10T10:35:49.860304600Z"
        },
        "id": "y0i6yA5weWrR",
        "outputId": "da61bcc7-3747-499a-fb89-635767dcc0ae"
      },
      "outputs": [
        {
          "name": "stdout",
          "output_type": "stream",
          "text": [
            "[ 8 10  6  5  6  7  6 12 14 11  5  8  7  9 12 20 12  8 14] int32\n"
          ]
        }
      ],
      "source": [
        "import numpy as np\n",
        "\n",
        "# 1. Create nbr_room list\n",
        "nbr_room = [8, 10, 6, 5, 6, 7, 6, 12, 14, 11, 5, 8, 7, 9, 12, 20, 12, 8, 14]\n",
        "\n",
        "# 2. Create a numpy array from nbr_room: nbr_room_np\n",
        "nbr_room_np = np.array(nbr_room)\n",
        "\n",
        "# 3. Print out nbr_room_np and type of the nbr_room_np\n",
        "print(nbr_room_np)\n",
        "print(type(nbr_room_np))\n"
      ]
    },
    {
      "cell_type": "markdown",
      "metadata": {
        "id": "2MOZZwQkeWrS"
      },
      "source": [
        "### Numpy Broadcast"
      ]
    },
    {
      "cell_type": "markdown",
      "metadata": {
        "id": "kAw6-is0eWrS"
      },
      "source": [
        "### Instructions\n",
        "\n",
        "1. Multiply np_sq_foot with 0.09290304 to convert all values from square foot to m2. Store the new values in a new array, np_m2.\n",
        "2. Print out np_m2 and check if the output makes sense."
      ]
    },
    {
      "cell_type": "code",
      "execution_count": null,
      "metadata": {
        "id": "vOfjHgo_eWrS",
        "outputId": "7dc939f0-3ee5-4647-f114-ae9b5d62b5eb"
      },
      "outputs": [
        {
          "name": "stdout",
          "output_type": "stream",
          "text": [
            "Expected Output:\n",
            "-----------------\n",
            "[1000 1200  800  605  700  950  640 1305 2300 1250  670  940  790  940\n",
            " 1760 3780 1370  750 1430]\n",
            "m2 Values: [ 92.90304   111.483648   74.322432   56.2063392  65.032128   88.257888\n",
            "  59.4579456 121.2384672 213.676992  116.1288     62.2450368  87.3288576\n",
            "  73.3934016  87.3288576 163.5093504 351.1734912 127.2771648  69.67728\n",
            " 132.8513472]\n"
          ]
        }
      ],
      "source": [
        "print(\"Expected Output:\")\n",
        "print(\"-----------------\")\n",
        "\n",
        "# Print out np_sq_foot\n",
        "print(np_sq_foot)\n",
        "\n",
        "# 1. Multiply np_sq_foot with 0.09290304 to convert all values from square foot to m2. Store the new values in a new array, np_m2.\n",
        "np_m2 = np_sq_foot * 0.09290304\n",
        "\n",
        "# 2. Print out np_m2 and check if the output makes sense.\n",
        "print(np_m2)\n",
        "\n"
      ]
    },
    {
      "cell_type": "markdown",
      "metadata": {
        "id": "2jyJSLrMeWrS"
      },
      "source": [
        "## Scenario\n",
        "We want to estimate house prices using number of rooms and m2 values.\n",
        "\n",
        "\n",
        "### Instructions\n",
        "\n",
        "**Do not use any loop operations such as for, while etc. You have to use numpy broadcasting**\n",
        "\n",
        "1. Use np_m2 and nbr_room_np to calculate the prices of each house. Use the following equation:\n",
        "\n",
        "$House Price = (1.41 * m2) + (0.6 * number~of~rooms)$\n",
        "\n",
        "2. Save the resulting numpy array as house_prices.\n",
        "\n",
        "3. Print out house_prices."
      ]
    },
    {
      "cell_type": "code",
      "execution_count": null,
      "metadata": {
        "id": "Ucl6W1sGeWrS",
        "outputId": "70bce31b-a3cc-4b3c-edca-5a6325e1dd9a"
      },
      "outputs": [
        {
          "name": "stdout",
          "output_type": "stream",
          "text": [
            "[135.7932864  163.19194368 108.39462912  82.25093827  95.29530048\n",
            " 128.64362208  87.4357033  178.14623875 309.68455872 170.341608\n",
            "  90.76550189 127.93368922 107.68469626 128.53368922 237.74818406\n",
            " 507.15462259 186.66080237 103.0449648  195.72039955]\n"
          ]
        }
      ],
      "source": [
        "# 1. Use np_m2 and nbr_room_np to calculate the prices of each house.\n",
        "# 2. Save the resulting numpy array as house_prices.\n",
        "house_prices = (1.41 * np_m2) + (0.6 * nbr_room_np)\n",
        "\n",
        "# 3. Print out house_prices.\n",
        "print(house_prices)\n"
      ]
    },
    {
      "cell_type": "markdown",
      "metadata": {
        "id": "d0cCIvxNeWrT"
      },
      "source": [
        "### Numpy Boolean Array"
      ]
    },
    {
      "cell_type": "markdown",
      "metadata": {
        "id": "Ufda092beWrT"
      },
      "source": [
        "### Instructions\n",
        "\n",
        "1. Create a boolean numpy array: the element of the array should be True if the corresponding house's price is below 90. You can use the < operator for this. Name the array **cheap_houses**.\n",
        "2. Print the array **cheap_houses**.\n",
        "3. Print out a numpy array with the prices of all houses whose house price is below 90. Use cheap_houses inside square brackets to do a selection on the house_prices array.\n",
        "4. Repeat same steps with numpy where command\n"
      ]
    },
    {
      "cell_type": "code",
      "execution_count": null,
      "metadata": {
        "id": "SiIINF1ReWrT",
        "outputId": "20ffdec9-af0f-45fe-df55-6503a0b3c544"
      },
      "outputs": [
        {
          "name": "stdout",
          "output_type": "stream",
          "text": [
            "[False False False  True False False  True False False False False False\n",
            " False False False False False False False]\n",
            "[82.25093827 87.4357033 ]\n",
            "[82.25093827 87.4357033 ]\n"
          ]
        }
      ],
      "source": [
        "# 1. Create a boolean numpy array: the element of the array should be True if the corresponding house's price is below 90.\n",
        "cheap_houses = house_prices < 90\n",
        "\n",
        "# 2. Print the array cheap_houses.\n",
        "print(cheap_houses)\n",
        "\n",
        "# 3. Print out a numpy array with the prices of all houses whose house price is below 90.\n",
        "cheap_house_prices = house_prices[cheap_houses]\n",
        "print(cheap_house_prices)\n",
        "\n",
        "# 4. Repeat the same steps with numpy where command\n",
        "cheap_houses = np.where(house_prices < 90, True, False)\n",
        "print(cheap_houses)\n",
        "\n",
        "cheap_house_prices = house_prices[np.where(house_prices < 90)]\n",
        "print(cheap_house_prices)\n",
        "\n"
      ]
    },
    {
      "cell_type": "markdown",
      "metadata": {
        "id": "jCuFA1RdeWrT"
      },
      "source": [
        "### Numpy Indexing"
      ]
    },
    {
      "cell_type": "markdown",
      "metadata": {
        "id": "m1LHnGTHeWrT"
      },
      "source": [
        "### Instructions\n",
        "\n",
        "1. Subset house_prices by printing out the element at index 15.\n",
        "2. Print out a sub-array of house_prices that contains the elements at index 5 up to and including index 15.\n"
      ]
    },
    {
      "cell_type": "code",
      "execution_count": null,
      "metadata": {
        "id": "ZFlsCs5QeWrT",
        "outputId": "1d476861-da2b-4e8e-96e4-e814c4fe5e33"
      },
      "outputs": [
        {
          "name": "stdout",
          "output_type": "stream",
          "text": [
            "507.15462259199995\n",
            "[128.64362208  87.4357033  178.14623875 309.68455872 170.341608\n",
            "  90.76550189 127.93368922 107.68469626 128.53368922 237.74818406\n",
            " 507.15462259]\n"
          ]
        }
      ],
      "source": [
        "# 1. Subset house_prices by printing out the element at index 15.\n",
        "print(\"House price at index 15:\", house_prices[15])\n",
        "\n",
        "# 2. Print out a sub-array of house_prices that contains the elements at index 5 up to and including index 15.\n",
        "print(\"Sub-array from index 5 to 15:\", house_prices[5:16])\n",
        "\n"
      ]
    },
    {
      "cell_type": "markdown",
      "metadata": {
        "id": "LZAKakWAeWrT"
      },
      "source": [
        "### Numpy 2D Array"
      ]
    },
    {
      "cell_type": "markdown",
      "metadata": {
        "id": "6tgsndtkeWrT"
      },
      "source": [
        "### Instructions\n",
        "\n",
        "1. Use np.array() to create a 2D numpy array from house_infos. Name it np_house_prices.\n",
        "2. Print out the type of np_house_prices.\n",
        "3. Print out the shape attribute of np_house_prices.\n"
      ]
    },
    {
      "cell_type": "code",
      "execution_count": null,
      "metadata": {
        "id": "RsWKZJAjeWrT",
        "outputId": "53182ead-6ee9-4eca-faa2-47964a7af53f"
      },
      "outputs": [
        {
          "name": "stdout",
          "output_type": "stream",
          "text": [
            "<class 'numpy.ndarray'>\n",
            "(4, 3)\n"
          ]
        }
      ],
      "source": [
        "# Create house_infos, a list of lists -> house_price, m2, nbr of rooms\n",
        "house_infos = [[135.7932864, 92.90304, 8],\n",
        "               [163.19194368, 111.483648, 10],\n",
        "               [108.39462912, 74.322432, 6],\n",
        "               [82.25093827, 56.2063392, 5]]\n",
        "\n",
        "# Import numpy\n",
        "import numpy as np\n",
        "\n",
        "# 1. Use np.array() to create a 2D numpy array from house_infos. Name it np_house_prices.\n",
        "np_house_prices = np.array(house_infos)\n",
        "\n",
        "# 2. Print out the type of np_house_prices.\n",
        "print(\"Type of np_house_prices:\", type(np_house_prices))\n",
        "\n",
        "# 3. Print out the shape attribute of np_house_prices.\n",
        "print(\"Shape of np_house_prices:\", np_house_prices.shape)\n",
        "\n"
      ]
    },
    {
      "cell_type": "markdown",
      "metadata": {
        "id": "i1vpNwsEeWrT"
      },
      "source": [
        "## Numpy 2D Array - Indexing\n",
        "\n",
        "### Instructions\n",
        "\n",
        "1. Print out the 3rd row of np_house_prices\n",
        "2. Print out the entire second column of np_house_prices\n",
        "3. Print out number of rooms of 4th house"
      ]
    },
    {
      "cell_type": "code",
      "execution_count": null,
      "metadata": {
        "id": "Ge0YThVWeWrT",
        "outputId": "366942cc-5fd9-45c7-a450-9fa8180be94d"
      },
      "outputs": [
        {
          "name": "stdout",
          "output_type": "stream",
          "text": [
            "[82.25093827 56.2063392   5.        ]\n",
            "[135.7932864  163.19194368 108.39462912  82.25093827]\n",
            "6.0\n"
          ]
        }
      ],
      "source": [
        "# 1. Print out the 3rd row of np_house_prices\n",
        "print(\"3rd row of np_house_prices:\", np_house_prices[2])\n",
        "\n",
        "# 2. Print out the entire second column of np_house_prices\n",
        "print(\"Entire second column of np_house_prices:\", np_house_prices[:, 1])\n",
        "\n",
        "# 3. Print out number of rooms of 4nd house\n",
        "print(\"Number of rooms of 4th house:\", np_house_prices[3, 2])\n",
        "\n"
      ]
    },
    {
      "cell_type": "markdown",
      "metadata": {
        "id": "31FbByvseWrT"
      },
      "source": [
        "## Numpy 2D Array - Broadcasting\n",
        "### Instructions\n",
        "\n",
        "1. Apply 10% raise to all house prices and update np_house_prices array\n",
        "2. Print out np_house_prices array"
      ]
    },
    {
      "cell_type": "code",
      "execution_count": null,
      "metadata": {
        "id": "BqFbikRMeWrT",
        "outputId": "de614f86-3032-436d-8923-8c255927ee8a"
      },
      "outputs": [
        {
          "name": "stdout",
          "output_type": "stream",
          "text": [
            "[[149.37261504  92.90304      8.        ]\n",
            " [179.51113805 111.483648    10.        ]\n",
            " [119.23409203  74.322432     6.        ]\n",
            " [ 90.4760321   56.2063392    5.        ]]\n"
          ]
        }
      ],
      "source": [
        "# 1. Apply 10% raise to all house prices and update np_house_prices array\n",
        "np_house_prices *= 1.10\n",
        "\n",
        "# 2. Print out np_house_prices array\n",
        "print(\"Updated np_house_prices array with 10% raise:\")\n",
        "print(np_house_prices)\n",
        "\n"
      ]
    },
    {
      "cell_type": "markdown",
      "metadata": {
        "id": "QAFtj6zneWrU"
      },
      "source": [
        "## Numpy - Statistics\n",
        "\n",
        "### Instructions\n",
        "\n",
        "1. Create random numpy array.\n",
        "2. Print out the mean of this array.\n",
        "3. Print out the median of this array.\n",
        "4. Print out the standart deviation of this array.\n"
      ]
    },
    {
      "cell_type": "code",
      "execution_count": null,
      "metadata": {
        "id": "QllnKx7KeWrU"
      },
      "outputs": [],
      "source": [
        "import numpy as np\n",
        "\n",
        "# 1. Create random numpy array.\n",
        "random_array = np.random.rand(100)\n",
        "\n",
        "# 2. Print out the mean of this array.\n",
        "mean_value = np.mean(random_array)\n",
        "print(\"Mean of the array:\", mean_value)\n",
        "\n",
        "# 3. Print out the median of this array.\n",
        "median_value = np.median(random_array)\n",
        "print(\"Median of the array:\", median_value)\n",
        "\n",
        "# 4. Print out the standard deviation of this array.\n",
        "std_deviation = np.std(random_array)\n",
        "print(\"Standard deviation of the array:\", std_deviation)\n",
        "\n"
      ]
    },
    {
      "cell_type": "code",
      "execution_count": null,
      "metadata": {
        "id": "V9mKVWfweWrU"
      },
      "outputs": [],
      "source": []
    }
  ],
  "metadata": {
    "kernelspec": {
      "display_name": "Python 3 (ipykernel)",
      "language": "python",
      "name": "python3"
    },
    "language_info": {
      "codemirror_mode": {
        "name": "ipython",
        "version": 3
      },
      "file_extension": ".py",
      "mimetype": "text/x-python",
      "name": "python",
      "nbconvert_exporter": "python",
      "pygments_lexer": "ipython3",
      "version": "3.9.7"
    },
    "colab": {
      "provenance": [],
      "include_colab_link": true
    }
  },
  "nbformat": 4,
  "nbformat_minor": 0
}